{
 "cells": [
  {
   "cell_type": "markdown",
   "metadata": {
    "papermill": {
     "duration": 0.050078,
     "end_time": "2021-08-31T08:23:56.805013",
     "exception": false,
     "start_time": "2021-08-31T08:23:56.754935",
     "status": "completed"
    },
    "tags": []
   },
   "source": [
    "# Which car is the best choice considering cost performance?"
   ]
  },
  {
   "cell_type": "markdown",
   "metadata": {
    "papermill": {
     "duration": 0.049393,
     "end_time": "2021-08-31T08:23:56.904215",
     "exception": false,
     "start_time": "2021-08-31T08:23:56.854822",
     "status": "completed"
    },
    "tags": []
   },
   "source": [
    "# Import Libraries"
   ]
  },
  {
   "cell_type": "code",
   "execution_count": 1,
   "metadata": {
    "execution": {
     "iopub.execute_input": "2021-08-31T08:23:57.042903Z",
     "iopub.status.busy": "2021-08-31T08:23:57.042150Z",
     "iopub.status.idle": "2021-08-31T08:24:04.849345Z",
     "shell.execute_reply": "2021-08-31T08:24:04.849869Z",
     "shell.execute_reply.started": "2021-08-31T08:19:10.218756Z"
    },
    "papermill": {
     "duration": 7.885495,
     "end_time": "2021-08-31T08:24:04.850199",
     "exception": false,
     "start_time": "2021-08-31T08:23:56.964704",
     "status": "completed"
    },
    "tags": []
   },
   "outputs": [
    {
     "data": {
      "text/html": [
       "<style type='text/css'>\n",
       ".datatable table.frame { margin-bottom: 0; }\n",
       ".datatable table.frame thead { border-bottom: none; }\n",
       ".datatable table.frame tr.coltypes td {  color: #FFFFFF;  line-height: 6px;  padding: 0 0.5em;}\n",
       ".datatable .bool    { background: #DDDD99; }\n",
       ".datatable .object  { background: #565656; }\n",
       ".datatable .int     { background: #5D9E5D; }\n",
       ".datatable .float   { background: #4040CC; }\n",
       ".datatable .str     { background: #CC4040; }\n",
       ".datatable .time    { background: #40CC40; }\n",
       ".datatable .row_index {  background: var(--jp-border-color3);  border-right: 1px solid var(--jp-border-color0);  color: var(--jp-ui-font-color3);  font-size: 9px;}\n",
       ".datatable .frame tbody td { text-align: left; }\n",
       ".datatable .frame tr.coltypes .row_index {  background: var(--jp-border-color0);}\n",
       ".datatable th:nth-child(2) { padding-left: 12px; }\n",
       ".datatable .hellipsis {  color: var(--jp-cell-editor-border-color);}\n",
       ".datatable .vellipsis {  background: var(--jp-layout-color0);  color: var(--jp-cell-editor-border-color);}\n",
       ".datatable .na {  color: var(--jp-cell-editor-border-color);  font-size: 80%;}\n",
       ".datatable .sp {  opacity: 0.25;}\n",
       ".datatable .footer { font-size: 9px; }\n",
       ".datatable .frame_dimensions {  background: var(--jp-border-color3);  border-top: 1px solid var(--jp-border-color0);  color: var(--jp-ui-font-color3);  display: inline-block;  opacity: 0.6;  padding: 1px 10px 1px 5px;}\n",
       "</style>\n"
      ],
      "text/plain": [
       "<IPython.core.display.HTML object>"
      ]
     },
     "metadata": {},
     "output_type": "display_data"
    }
   ],
   "source": [
    "import os\n",
    "import numpy as np\n",
    "import pandas as pd\n",
    "import random\n",
    "import matplotlib.pyplot as plt\n",
    "import plotly.express as px\n",
    "import seaborn as sns\n",
    "\n",
    "from contextlib import contextmanager\n",
    "from time import time\n",
    "from tqdm import tqdm\n",
    "import lightgbm as lgbm\n",
    "import category_encoders as ce\n",
    "\n",
    "from tensorflow.keras.utils import to_categorical\n",
    "from sklearn.metrics import classification_report, log_loss, accuracy_score\n",
    "from sklearn.metrics import mean_squared_error\n",
    "from sklearn.model_selection import KFold"
   ]
  },
  {
   "cell_type": "markdown",
   "metadata": {
    "papermill": {
     "duration": 0.047366,
     "end_time": "2021-08-31T08:24:04.945088",
     "exception": false,
     "start_time": "2021-08-31T08:24:04.897722",
     "status": "completed"
    },
    "tags": []
   },
   "source": [
    "# Data preparation"
   ]
  },
  {
   "cell_type": "code",
   "execution_count": 2,
   "metadata": {
    "execution": {
     "iopub.execute_input": "2021-08-31T08:24:05.045982Z",
     "iopub.status.busy": "2021-08-31T08:24:05.045372Z",
     "iopub.status.idle": "2021-08-31T08:24:05.087991Z",
     "shell.execute_reply": "2021-08-31T08:24:05.088481Z",
     "shell.execute_reply.started": "2021-08-31T08:19:20.258465Z"
    },
    "papermill": {
     "duration": 0.096317,
     "end_time": "2021-08-31T08:24:05.088639",
     "exception": false,
     "start_time": "2021-08-31T08:24:04.992322",
     "status": "completed"
    },
    "tags": []
   },
   "outputs": [
    {
     "data": {
      "text/html": [
       "<div>\n",
       "<style scoped>\n",
       "    .dataframe tbody tr th:only-of-type {\n",
       "        vertical-align: middle;\n",
       "    }\n",
       "\n",
       "    .dataframe tbody tr th {\n",
       "        vertical-align: top;\n",
       "    }\n",
       "\n",
       "    .dataframe thead th {\n",
       "        text-align: right;\n",
       "    }\n",
       "</style>\n",
       "<table border=\"1\" class=\"dataframe\">\n",
       "  <thead>\n",
       "    <tr style=\"text-align: right;\">\n",
       "      <th></th>\n",
       "      <th>Name</th>\n",
       "      <th>Subtitle</th>\n",
       "      <th>Acceleration</th>\n",
       "      <th>TopSpeed</th>\n",
       "      <th>Range</th>\n",
       "      <th>Efficiency</th>\n",
       "      <th>FastChargeSpeed</th>\n",
       "      <th>Drive</th>\n",
       "      <th>NumberofSeats</th>\n",
       "      <th>PriceinGermany</th>\n",
       "      <th>PriceinUK</th>\n",
       "    </tr>\n",
       "  </thead>\n",
       "  <tbody>\n",
       "    <tr>\n",
       "      <th>0</th>\n",
       "      <td>Opel Ampera-e</td>\n",
       "      <td>Battery Electric Vehicle |       58 kWh</td>\n",
       "      <td>7.3 sec</td>\n",
       "      <td>150 km/h</td>\n",
       "      <td>335 km</td>\n",
       "      <td>173 Wh/km</td>\n",
       "      <td>210 km/h</td>\n",
       "      <td>Front Wheel Drive</td>\n",
       "      <td>5</td>\n",
       "      <td>€42,990</td>\n",
       "      <td>NaN</td>\n",
       "    </tr>\n",
       "    <tr>\n",
       "      <th>1</th>\n",
       "      <td>Renault Kangoo Maxi ZE 33</td>\n",
       "      <td>Battery Electric Vehicle |       31 kWh</td>\n",
       "      <td>22.4 sec</td>\n",
       "      <td>130 km/h</td>\n",
       "      <td>160 km</td>\n",
       "      <td>194 Wh/km</td>\n",
       "      <td>-</td>\n",
       "      <td>Front Wheel Drive</td>\n",
       "      <td>5</td>\n",
       "      <td>NaN</td>\n",
       "      <td>£31,680</td>\n",
       "    </tr>\n",
       "    <tr>\n",
       "      <th>2</th>\n",
       "      <td>Nissan Leaf</td>\n",
       "      <td>Battery Electric Vehicle |       36 kWh</td>\n",
       "      <td>7.9 sec</td>\n",
       "      <td>144 km/h</td>\n",
       "      <td>220 km</td>\n",
       "      <td>164 Wh/km</td>\n",
       "      <td>230 km/h</td>\n",
       "      <td>Front Wheel Drive</td>\n",
       "      <td>5</td>\n",
       "      <td>€29,990</td>\n",
       "      <td>£25,995</td>\n",
       "    </tr>\n",
       "    <tr>\n",
       "      <th>3</th>\n",
       "      <td>Audi e-tron Sportback 55 quattro</td>\n",
       "      <td>Battery Electric Vehicle |       86.5 kWh</td>\n",
       "      <td>5.7 sec</td>\n",
       "      <td>200 km/h</td>\n",
       "      <td>375 km</td>\n",
       "      <td>231 Wh/km</td>\n",
       "      <td>600 km/h</td>\n",
       "      <td>All Wheel Drive</td>\n",
       "      <td>5</td>\n",
       "      <td>NaN</td>\n",
       "      <td>£79,900</td>\n",
       "    </tr>\n",
       "    <tr>\n",
       "      <th>4</th>\n",
       "      <td>Porsche Taycan Turbo S</td>\n",
       "      <td>Battery Electric Vehicle |       83.7 kWh</td>\n",
       "      <td>2.8 sec</td>\n",
       "      <td>260 km/h</td>\n",
       "      <td>390 km</td>\n",
       "      <td>215 Wh/km</td>\n",
       "      <td>860 km/h</td>\n",
       "      <td>All Wheel Drive</td>\n",
       "      <td>4</td>\n",
       "      <td>€186,336</td>\n",
       "      <td>£138,830</td>\n",
       "    </tr>\n",
       "    <tr>\n",
       "      <th>...</th>\n",
       "      <td>...</td>\n",
       "      <td>...</td>\n",
       "      <td>...</td>\n",
       "      <td>...</td>\n",
       "      <td>...</td>\n",
       "      <td>...</td>\n",
       "      <td>...</td>\n",
       "      <td>...</td>\n",
       "      <td>...</td>\n",
       "      <td>...</td>\n",
       "      <td>...</td>\n",
       "    </tr>\n",
       "    <tr>\n",
       "      <th>175</th>\n",
       "      <td>MG Marvel R</td>\n",
       "      <td>Battery Electric Vehicle |       65 kWh</td>\n",
       "      <td>7.9 sec</td>\n",
       "      <td>200 km/h</td>\n",
       "      <td>340 km</td>\n",
       "      <td>191 Wh/km</td>\n",
       "      <td>390 km/h</td>\n",
       "      <td>Rear Wheel Drive</td>\n",
       "      <td>5</td>\n",
       "      <td>€40,000</td>\n",
       "      <td>NaN</td>\n",
       "    </tr>\n",
       "    <tr>\n",
       "      <th>176</th>\n",
       "      <td>Tesla Model 3 Long Range Dual Motor</td>\n",
       "      <td>Battery Electric Vehicle |       76 kWh</td>\n",
       "      <td>4.4 sec</td>\n",
       "      <td>233 km/h</td>\n",
       "      <td>490 km</td>\n",
       "      <td>155 Wh/km</td>\n",
       "      <td>820 km/h</td>\n",
       "      <td>All Wheel Drive</td>\n",
       "      <td>5</td>\n",
       "      <td>€53,560</td>\n",
       "      <td>NaN</td>\n",
       "    </tr>\n",
       "    <tr>\n",
       "      <th>177</th>\n",
       "      <td>MG MG5 EV Long Range</td>\n",
       "      <td>Battery Electric Vehicle |       57 kWh</td>\n",
       "      <td>7.7 sec</td>\n",
       "      <td>185 km/h</td>\n",
       "      <td>340 km</td>\n",
       "      <td>168 Wh/km</td>\n",
       "      <td>340 km/h</td>\n",
       "      <td>Front Wheel Drive</td>\n",
       "      <td>5</td>\n",
       "      <td>NaN</td>\n",
       "      <td>£26,495</td>\n",
       "    </tr>\n",
       "    <tr>\n",
       "      <th>178</th>\n",
       "      <td>Audi Q4 e-tron 45 quattro</td>\n",
       "      <td>Battery Electric Vehicle |       76.6 kWh</td>\n",
       "      <td>6.9 sec</td>\n",
       "      <td>180 km/h</td>\n",
       "      <td>385 km</td>\n",
       "      <td>199 Wh/km</td>\n",
       "      <td>470 km/h</td>\n",
       "      <td>All Wheel Drive</td>\n",
       "      <td>5</td>\n",
       "      <td>€50,900</td>\n",
       "      <td>NaN</td>\n",
       "    </tr>\n",
       "    <tr>\n",
       "      <th>179</th>\n",
       "      <td>Audi Q4 Sportback e-tron 40</td>\n",
       "      <td>Battery Electric Vehicle |       76.6 kWh</td>\n",
       "      <td>8.5 sec</td>\n",
       "      <td>160 km/h</td>\n",
       "      <td>425 km</td>\n",
       "      <td>180 Wh/km</td>\n",
       "      <td>520 km/h</td>\n",
       "      <td>Rear Wheel Drive</td>\n",
       "      <td>5</td>\n",
       "      <td>€49,500</td>\n",
       "      <td>NaN</td>\n",
       "    </tr>\n",
       "  </tbody>\n",
       "</table>\n",
       "<p>180 rows × 11 columns</p>\n",
       "</div>"
      ],
      "text/plain": [
       "                                    Name  \\\n",
       "0                         Opel Ampera-e    \n",
       "1              Renault Kangoo Maxi ZE 33   \n",
       "2                           Nissan Leaf    \n",
       "3       Audi e-tron Sportback 55 quattro   \n",
       "4                 Porsche Taycan Turbo S   \n",
       "..                                   ...   \n",
       "175                         MG Marvel R    \n",
       "176  Tesla Model 3 Long Range Dual Motor   \n",
       "177                 MG MG5 EV Long Range   \n",
       "178            Audi Q4 e-tron 45 quattro   \n",
       "179          Audi Q4 Sportback e-tron 40   \n",
       "\n",
       "                                      Subtitle Acceleration  TopSpeed   Range  \\\n",
       "0     Battery Electric Vehicle |       58 kWh       7.3 sec  150 km/h  335 km   \n",
       "1     Battery Electric Vehicle |       31 kWh      22.4 sec  130 km/h  160 km   \n",
       "2     Battery Electric Vehicle |       36 kWh       7.9 sec  144 km/h  220 km   \n",
       "3    Battery Electric Vehicle |       86.5 kWh      5.7 sec  200 km/h  375 km   \n",
       "4    Battery Electric Vehicle |       83.7 kWh      2.8 sec  260 km/h  390 km   \n",
       "..                                         ...          ...       ...     ...   \n",
       "175   Battery Electric Vehicle |       65 kWh       7.9 sec  200 km/h  340 km   \n",
       "176   Battery Electric Vehicle |       76 kWh       4.4 sec  233 km/h  490 km   \n",
       "177   Battery Electric Vehicle |       57 kWh       7.7 sec  185 km/h  340 km   \n",
       "178  Battery Electric Vehicle |       76.6 kWh      6.9 sec  180 km/h  385 km   \n",
       "179  Battery Electric Vehicle |       76.6 kWh      8.5 sec  160 km/h  425 km   \n",
       "\n",
       "    Efficiency FastChargeSpeed              Drive  NumberofSeats  \\\n",
       "0    173 Wh/km        210 km/h  Front Wheel Drive              5   \n",
       "1    194 Wh/km               -  Front Wheel Drive              5   \n",
       "2    164 Wh/km        230 km/h  Front Wheel Drive              5   \n",
       "3    231 Wh/km        600 km/h    All Wheel Drive              5   \n",
       "4    215 Wh/km        860 km/h    All Wheel Drive              4   \n",
       "..         ...             ...                ...            ...   \n",
       "175  191 Wh/km        390 km/h   Rear Wheel Drive              5   \n",
       "176  155 Wh/km        820 km/h    All Wheel Drive              5   \n",
       "177  168 Wh/km        340 km/h  Front Wheel Drive              5   \n",
       "178  199 Wh/km        470 km/h    All Wheel Drive              5   \n",
       "179  180 Wh/km        520 km/h   Rear Wheel Drive              5   \n",
       "\n",
       "    PriceinGermany PriceinUK  \n",
       "0          €42,990       NaN  \n",
       "1              NaN   £31,680  \n",
       "2          €29,990   £25,995  \n",
       "3              NaN   £79,900  \n",
       "4         €186,336  £138,830  \n",
       "..             ...       ...  \n",
       "175        €40,000       NaN  \n",
       "176        €53,560       NaN  \n",
       "177            NaN   £26,495  \n",
       "178        €50,900       NaN  \n",
       "179        €49,500       NaN  \n",
       "\n",
       "[180 rows x 11 columns]"
      ]
     },
     "execution_count": 2,
     "metadata": {},
     "output_type": "execute_result"
    }
   ],
   "source": [
    "data00 = pd.read_csv(\"../input/cheapest-electric-cars/Cheapestelectriccars-EVDatabase.csv\")\n",
    "data00"
   ]
  },
  {
   "cell_type": "code",
   "execution_count": 3,
   "metadata": {
    "execution": {
     "iopub.execute_input": "2021-08-31T08:24:05.187521Z",
     "iopub.status.busy": "2021-08-31T08:24:05.186867Z",
     "iopub.status.idle": "2021-08-31T08:24:05.192514Z",
     "shell.execute_reply": "2021-08-31T08:24:05.191906Z",
     "shell.execute_reply.started": "2021-08-31T08:19:20.323240Z"
    },
    "papermill": {
     "duration": 0.056566,
     "end_time": "2021-08-31T08:24:05.192640",
     "exception": false,
     "start_time": "2021-08-31T08:24:05.136074",
     "status": "completed"
    },
    "tags": []
   },
   "outputs": [
    {
     "name": "stdout",
     "output_type": "stream",
     "text": [
      "['Name', 'Subtitle', 'Acceleration', 'TopSpeed', 'Range', 'Efficiency', 'FastChargeSpeed', 'Drive', 'NumberofSeats', 'PriceinGermany', 'PriceinUK']\n"
     ]
    }
   ],
   "source": [
    "print(data00.columns.tolist())"
   ]
  },
  {
   "cell_type": "code",
   "execution_count": 4,
   "metadata": {
    "execution": {
     "iopub.execute_input": "2021-08-31T08:24:05.295091Z",
     "iopub.status.busy": "2021-08-31T08:24:05.294522Z",
     "iopub.status.idle": "2021-08-31T08:24:05.297494Z",
     "shell.execute_reply": "2021-08-31T08:24:05.297011Z",
     "shell.execute_reply.started": "2021-08-31T08:19:20.333383Z"
    },
    "papermill": {
     "duration": 0.056734,
     "end_time": "2021-08-31T08:24:05.297617",
     "exception": false,
     "start_time": "2021-08-31T08:24:05.240883",
     "status": "completed"
    },
    "tags": []
   },
   "outputs": [],
   "source": [
    "data0=data00.fillna('0')"
   ]
  },
  {
   "cell_type": "code",
   "execution_count": 5,
   "metadata": {
    "execution": {
     "iopub.execute_input": "2021-08-31T08:24:05.403513Z",
     "iopub.status.busy": "2021-08-31T08:24:05.402831Z",
     "iopub.status.idle": "2021-08-31T08:24:05.404642Z",
     "shell.execute_reply": "2021-08-31T08:24:05.405083Z",
     "shell.execute_reply.started": "2021-08-31T08:19:20.347056Z"
    },
    "papermill": {
     "duration": 0.059841,
     "end_time": "2021-08-31T08:24:05.405244",
     "exception": false,
     "start_time": "2021-08-31T08:24:05.345403",
     "status": "completed"
    },
    "tags": []
   },
   "outputs": [],
   "source": [
    "PriceinUK=[]\n",
    "for item in data0['PriceinUK']:\n",
    "    PriceinUK+=[int(item.replace('£','').replace(',',''))]\n",
    "data0['PriceinUK']=PriceinUK"
   ]
  },
  {
   "cell_type": "code",
   "execution_count": 6,
   "metadata": {
    "execution": {
     "iopub.execute_input": "2021-08-31T08:24:05.507857Z",
     "iopub.status.busy": "2021-08-31T08:24:05.507294Z",
     "iopub.status.idle": "2021-08-31T08:24:05.511862Z",
     "shell.execute_reply": "2021-08-31T08:24:05.512287Z",
     "shell.execute_reply.started": "2021-08-31T08:19:20.365914Z"
    },
    "papermill": {
     "duration": 0.055871,
     "end_time": "2021-08-31T08:24:05.512427",
     "exception": false,
     "start_time": "2021-08-31T08:24:05.456556",
     "status": "completed"
    },
    "tags": []
   },
   "outputs": [],
   "source": [
    "PriceinGermany=[]\n",
    "for item in data0['PriceinGermany']:\n",
    "    PriceinGermany+=[int(item.replace('€','').replace(',',''))]\n",
    "data0['PriceinGermany']=PriceinGermany"
   ]
  },
  {
   "cell_type": "code",
   "execution_count": 7,
   "metadata": {
    "execution": {
     "iopub.execute_input": "2021-08-31T08:24:05.612525Z",
     "iopub.status.busy": "2021-08-31T08:24:05.611882Z",
     "iopub.status.idle": "2021-08-31T08:24:05.616552Z",
     "shell.execute_reply": "2021-08-31T08:24:05.616973Z",
     "shell.execute_reply.started": "2021-08-31T08:19:20.381577Z"
    },
    "papermill": {
     "duration": 0.056382,
     "end_time": "2021-08-31T08:24:05.617135",
     "exception": false,
     "start_time": "2021-08-31T08:24:05.560753",
     "status": "completed"
    },
    "tags": []
   },
   "outputs": [],
   "source": [
    "FastChargeSpeed=[]\n",
    "for item in data0['FastChargeSpeed']:\n",
    "    FastChargeSpeed+=[int(item.replace(' km/h','').replace('-','0'))]\n",
    "data0['FastChargeSpeed']=FastChargeSpeed"
   ]
  },
  {
   "cell_type": "code",
   "execution_count": 8,
   "metadata": {
    "execution": {
     "iopub.execute_input": "2021-08-31T08:24:05.719460Z",
     "iopub.status.busy": "2021-08-31T08:24:05.718851Z",
     "iopub.status.idle": "2021-08-31T08:24:05.724098Z",
     "shell.execute_reply": "2021-08-31T08:24:05.724547Z",
     "shell.execute_reply.started": "2021-08-31T08:19:20.395511Z"
    },
    "papermill": {
     "duration": 0.057752,
     "end_time": "2021-08-31T08:24:05.724703",
     "exception": false,
     "start_time": "2021-08-31T08:24:05.666951",
     "status": "completed"
    },
    "tags": []
   },
   "outputs": [],
   "source": [
    "Efficiency=[]\n",
    "for item in data0['Efficiency']:\n",
    "    Efficiency+=[int(item.replace(' Wh/km',''))]\n",
    "data0['Efficiency']=Efficiency"
   ]
  },
  {
   "cell_type": "code",
   "execution_count": 9,
   "metadata": {
    "execution": {
     "iopub.execute_input": "2021-08-31T08:24:05.828636Z",
     "iopub.status.busy": "2021-08-31T08:24:05.828038Z",
     "iopub.status.idle": "2021-08-31T08:24:05.831514Z",
     "shell.execute_reply": "2021-08-31T08:24:05.830895Z",
     "shell.execute_reply.started": "2021-08-31T08:19:20.408818Z"
    },
    "papermill": {
     "duration": 0.057427,
     "end_time": "2021-08-31T08:24:05.831644",
     "exception": false,
     "start_time": "2021-08-31T08:24:05.774217",
     "status": "completed"
    },
    "tags": []
   },
   "outputs": [],
   "source": [
    "Range=[]\n",
    "for item in data0['Range']:\n",
    "    Range+=[int(item.replace(' km',''))]\n",
    "data0['Range']=Range"
   ]
  },
  {
   "cell_type": "code",
   "execution_count": 10,
   "metadata": {
    "execution": {
     "iopub.execute_input": "2021-08-31T08:24:05.935908Z",
     "iopub.status.busy": "2021-08-31T08:24:05.934938Z",
     "iopub.status.idle": "2021-08-31T08:24:05.937216Z",
     "shell.execute_reply": "2021-08-31T08:24:05.937680Z",
     "shell.execute_reply.started": "2021-08-31T08:19:20.422046Z"
    },
    "papermill": {
     "duration": 0.057872,
     "end_time": "2021-08-31T08:24:05.937822",
     "exception": false,
     "start_time": "2021-08-31T08:24:05.879950",
     "status": "completed"
    },
    "tags": []
   },
   "outputs": [],
   "source": [
    "TopSpeed=[]\n",
    "for item in data0['TopSpeed']:\n",
    "    TopSpeed+=[int(item.replace(' km/h',''))]\n",
    "data0['TopSpeed']=TopSpeed"
   ]
  },
  {
   "cell_type": "code",
   "execution_count": 11,
   "metadata": {
    "execution": {
     "iopub.execute_input": "2021-08-31T08:24:06.040557Z",
     "iopub.status.busy": "2021-08-31T08:24:06.039557Z",
     "iopub.status.idle": "2021-08-31T08:24:06.044867Z",
     "shell.execute_reply": "2021-08-31T08:24:06.045440Z",
     "shell.execute_reply.started": "2021-08-31T08:19:20.435899Z"
    },
    "papermill": {
     "duration": 0.058146,
     "end_time": "2021-08-31T08:24:06.045604",
     "exception": false,
     "start_time": "2021-08-31T08:24:05.987458",
     "status": "completed"
    },
    "tags": []
   },
   "outputs": [],
   "source": [
    "Acceleration=[]\n",
    "for item in data0['Acceleration']:\n",
    "    Acceleration+=[float(item.replace(' sec',''))]\n",
    "data0['Acceleration']=Acceleration"
   ]
  },
  {
   "cell_type": "code",
   "execution_count": 12,
   "metadata": {
    "execution": {
     "iopub.execute_input": "2021-08-31T08:24:06.146537Z",
     "iopub.status.busy": "2021-08-31T08:24:06.145722Z",
     "iopub.status.idle": "2021-08-31T08:24:06.151130Z",
     "shell.execute_reply": "2021-08-31T08:24:06.151641Z",
     "shell.execute_reply.started": "2021-08-31T08:19:20.448039Z"
    },
    "papermill": {
     "duration": 0.057168,
     "end_time": "2021-08-31T08:24:06.151814",
     "exception": false,
     "start_time": "2021-08-31T08:24:06.094646",
     "status": "completed"
    },
    "tags": []
   },
   "outputs": [],
   "source": [
    "Subtitle=[]\n",
    "for item in data0['Subtitle']:\n",
    "    Subtitle+=[float(item.replace('Battery Electric Vehicle | ','').replace(' kWh','').replace('      ',''))]\n",
    "data0['Subtitle']=Subtitle"
   ]
  },
  {
   "cell_type": "code",
   "execution_count": 13,
   "metadata": {
    "execution": {
     "iopub.execute_input": "2021-08-31T08:24:06.252412Z",
     "iopub.status.busy": "2021-08-31T08:24:06.251498Z",
     "iopub.status.idle": "2021-08-31T08:24:06.259135Z",
     "shell.execute_reply": "2021-08-31T08:24:06.259603Z",
     "shell.execute_reply.started": "2021-08-31T08:19:20.461122Z"
    },
    "papermill": {
     "duration": 0.059244,
     "end_time": "2021-08-31T08:24:06.259771",
     "exception": false,
     "start_time": "2021-08-31T08:24:06.200527",
     "status": "completed"
    },
    "tags": []
   },
   "outputs": [],
   "source": [
    "df=data0\n",
    "from sklearn.preprocessing import LabelEncoder\n",
    "for c in df.columns:\n",
    "    if df[c].dtype=='object': \n",
    "        df[c] = df[c].fillna('N')\n",
    "        lbl = LabelEncoder()\n",
    "        lbl.fit(list(df[c].values))\n",
    "        df[c] = lbl.transform(df[c].values)"
   ]
  },
  {
   "cell_type": "code",
   "execution_count": 14,
   "metadata": {
    "execution": {
     "iopub.execute_input": "2021-08-31T08:24:06.361377Z",
     "iopub.status.busy": "2021-08-31T08:24:06.360404Z",
     "iopub.status.idle": "2021-08-31T08:24:06.383333Z",
     "shell.execute_reply": "2021-08-31T08:24:06.382750Z",
     "shell.execute_reply.started": "2021-08-31T08:19:20.478721Z"
    },
    "papermill": {
     "duration": 0.076116,
     "end_time": "2021-08-31T08:24:06.383511",
     "exception": false,
     "start_time": "2021-08-31T08:24:06.307395",
     "status": "completed"
    },
    "tags": []
   },
   "outputs": [
    {
     "data": {
      "text/html": [
       "<div>\n",
       "<style scoped>\n",
       "    .dataframe tbody tr th:only-of-type {\n",
       "        vertical-align: middle;\n",
       "    }\n",
       "\n",
       "    .dataframe tbody tr th {\n",
       "        vertical-align: top;\n",
       "    }\n",
       "\n",
       "    .dataframe thead th {\n",
       "        text-align: right;\n",
       "    }\n",
       "</style>\n",
       "<table border=\"1\" class=\"dataframe\">\n",
       "  <thead>\n",
       "    <tr style=\"text-align: right;\">\n",
       "      <th></th>\n",
       "      <th>Name</th>\n",
       "      <th>Subtitle</th>\n",
       "      <th>Acceleration</th>\n",
       "      <th>TopSpeed</th>\n",
       "      <th>Range</th>\n",
       "      <th>Efficiency</th>\n",
       "      <th>FastChargeSpeed</th>\n",
       "      <th>Drive</th>\n",
       "      <th>NumberofSeats</th>\n",
       "      <th>PriceinGermany</th>\n",
       "      <th>PriceinUK</th>\n",
       "    </tr>\n",
       "  </thead>\n",
       "  <tbody>\n",
       "    <tr>\n",
       "      <th>0</th>\n",
       "      <td>97</td>\n",
       "      <td>58.0</td>\n",
       "      <td>7.3</td>\n",
       "      <td>150</td>\n",
       "      <td>335</td>\n",
       "      <td>173</td>\n",
       "      <td>210</td>\n",
       "      <td>1</td>\n",
       "      <td>5</td>\n",
       "      <td>42990</td>\n",
       "      <td>0</td>\n",
       "    </tr>\n",
       "    <tr>\n",
       "      <th>1</th>\n",
       "      <td>127</td>\n",
       "      <td>31.0</td>\n",
       "      <td>22.4</td>\n",
       "      <td>130</td>\n",
       "      <td>160</td>\n",
       "      <td>194</td>\n",
       "      <td>0</td>\n",
       "      <td>1</td>\n",
       "      <td>5</td>\n",
       "      <td>0</td>\n",
       "      <td>31680</td>\n",
       "    </tr>\n",
       "    <tr>\n",
       "      <th>2</th>\n",
       "      <td>94</td>\n",
       "      <td>36.0</td>\n",
       "      <td>7.9</td>\n",
       "      <td>144</td>\n",
       "      <td>220</td>\n",
       "      <td>164</td>\n",
       "      <td>230</td>\n",
       "      <td>1</td>\n",
       "      <td>5</td>\n",
       "      <td>29990</td>\n",
       "      <td>25995</td>\n",
       "    </tr>\n",
       "    <tr>\n",
       "      <th>3</th>\n",
       "      <td>15</td>\n",
       "      <td>86.5</td>\n",
       "      <td>5.7</td>\n",
       "      <td>200</td>\n",
       "      <td>375</td>\n",
       "      <td>231</td>\n",
       "      <td>600</td>\n",
       "      <td>0</td>\n",
       "      <td>5</td>\n",
       "      <td>0</td>\n",
       "      <td>79900</td>\n",
       "    </tr>\n",
       "    <tr>\n",
       "      <th>4</th>\n",
       "      <td>125</td>\n",
       "      <td>83.7</td>\n",
       "      <td>2.8</td>\n",
       "      <td>260</td>\n",
       "      <td>390</td>\n",
       "      <td>215</td>\n",
       "      <td>860</td>\n",
       "      <td>0</td>\n",
       "      <td>4</td>\n",
       "      <td>186336</td>\n",
       "      <td>138830</td>\n",
       "    </tr>\n",
       "    <tr>\n",
       "      <th>...</th>\n",
       "      <td>...</td>\n",
       "      <td>...</td>\n",
       "      <td>...</td>\n",
       "      <td>...</td>\n",
       "      <td>...</td>\n",
       "      <td>...</td>\n",
       "      <td>...</td>\n",
       "      <td>...</td>\n",
       "      <td>...</td>\n",
       "      <td>...</td>\n",
       "      <td>...</td>\n",
       "    </tr>\n",
       "    <tr>\n",
       "      <th>175</th>\n",
       "      <td>75</td>\n",
       "      <td>65.0</td>\n",
       "      <td>7.9</td>\n",
       "      <td>200</td>\n",
       "      <td>340</td>\n",
       "      <td>191</td>\n",
       "      <td>390</td>\n",
       "      <td>2</td>\n",
       "      <td>5</td>\n",
       "      <td>40000</td>\n",
       "      <td>0</td>\n",
       "    </tr>\n",
       "    <tr>\n",
       "      <th>176</th>\n",
       "      <td>147</td>\n",
       "      <td>76.0</td>\n",
       "      <td>4.4</td>\n",
       "      <td>233</td>\n",
       "      <td>490</td>\n",
       "      <td>155</td>\n",
       "      <td>820</td>\n",
       "      <td>0</td>\n",
       "      <td>5</td>\n",
       "      <td>53560</td>\n",
       "      <td>0</td>\n",
       "    </tr>\n",
       "    <tr>\n",
       "      <th>177</th>\n",
       "      <td>73</td>\n",
       "      <td>57.0</td>\n",
       "      <td>7.7</td>\n",
       "      <td>185</td>\n",
       "      <td>340</td>\n",
       "      <td>168</td>\n",
       "      <td>340</td>\n",
       "      <td>1</td>\n",
       "      <td>5</td>\n",
       "      <td>0</td>\n",
       "      <td>26495</td>\n",
       "    </tr>\n",
       "    <tr>\n",
       "      <th>178</th>\n",
       "      <td>6</td>\n",
       "      <td>76.6</td>\n",
       "      <td>6.9</td>\n",
       "      <td>180</td>\n",
       "      <td>385</td>\n",
       "      <td>199</td>\n",
       "      <td>470</td>\n",
       "      <td>0</td>\n",
       "      <td>5</td>\n",
       "      <td>50900</td>\n",
       "      <td>0</td>\n",
       "    </tr>\n",
       "    <tr>\n",
       "      <th>179</th>\n",
       "      <td>2</td>\n",
       "      <td>76.6</td>\n",
       "      <td>8.5</td>\n",
       "      <td>160</td>\n",
       "      <td>425</td>\n",
       "      <td>180</td>\n",
       "      <td>520</td>\n",
       "      <td>2</td>\n",
       "      <td>5</td>\n",
       "      <td>49500</td>\n",
       "      <td>0</td>\n",
       "    </tr>\n",
       "  </tbody>\n",
       "</table>\n",
       "<p>180 rows × 11 columns</p>\n",
       "</div>"
      ],
      "text/plain": [
       "     Name  Subtitle  Acceleration  TopSpeed  Range  Efficiency  \\\n",
       "0      97      58.0           7.3       150    335         173   \n",
       "1     127      31.0          22.4       130    160         194   \n",
       "2      94      36.0           7.9       144    220         164   \n",
       "3      15      86.5           5.7       200    375         231   \n",
       "4     125      83.7           2.8       260    390         215   \n",
       "..    ...       ...           ...       ...    ...         ...   \n",
       "175    75      65.0           7.9       200    340         191   \n",
       "176   147      76.0           4.4       233    490         155   \n",
       "177    73      57.0           7.7       185    340         168   \n",
       "178     6      76.6           6.9       180    385         199   \n",
       "179     2      76.6           8.5       160    425         180   \n",
       "\n",
       "     FastChargeSpeed  Drive  NumberofSeats  PriceinGermany  PriceinUK  \n",
       "0                210      1              5           42990          0  \n",
       "1                  0      1              5               0      31680  \n",
       "2                230      1              5           29990      25995  \n",
       "3                600      0              5               0      79900  \n",
       "4                860      0              4          186336     138830  \n",
       "..               ...    ...            ...             ...        ...  \n",
       "175              390      2              5           40000          0  \n",
       "176              820      0              5           53560          0  \n",
       "177              340      1              5               0      26495  \n",
       "178              470      0              5           50900          0  \n",
       "179              520      2              5           49500          0  \n",
       "\n",
       "[180 rows x 11 columns]"
      ]
     },
     "execution_count": 14,
     "metadata": {},
     "output_type": "execute_result"
    }
   ],
   "source": [
    "data1=df\n",
    "data1"
   ]
  },
  {
   "cell_type": "code",
   "execution_count": 15,
   "metadata": {
    "execution": {
     "iopub.execute_input": "2021-08-31T08:24:06.491793Z",
     "iopub.status.busy": "2021-08-31T08:24:06.490888Z",
     "iopub.status.idle": "2021-08-31T08:24:06.494819Z",
     "shell.execute_reply": "2021-08-31T08:24:06.494351Z",
     "shell.execute_reply.started": "2021-08-31T08:19:20.514098Z"
    },
    "papermill": {
     "duration": 0.05893,
     "end_time": "2021-08-31T08:24:06.494948",
     "exception": false,
     "start_time": "2021-08-31T08:24:06.436018",
     "status": "completed"
    },
    "tags": []
   },
   "outputs": [
    {
     "data": {
      "text/plain": [
       "Index(['Name', 'Subtitle', 'Acceleration', 'TopSpeed', 'Range', 'Efficiency',\n",
       "       'FastChargeSpeed', 'Drive', 'NumberofSeats', 'PriceinGermany',\n",
       "       'PriceinUK'],\n",
       "      dtype='object')"
      ]
     },
     "execution_count": 15,
     "metadata": {},
     "output_type": "execute_result"
    }
   ],
   "source": [
    "data1.columns"
   ]
  },
  {
   "cell_type": "code",
   "execution_count": 16,
   "metadata": {
    "execution": {
     "iopub.execute_input": "2021-08-31T08:24:06.598029Z",
     "iopub.status.busy": "2021-08-31T08:24:06.597444Z",
     "iopub.status.idle": "2021-08-31T08:24:08.040961Z",
     "shell.execute_reply": "2021-08-31T08:24:08.040453Z",
     "shell.execute_reply.started": "2021-08-31T08:19:20.524322Z"
    },
    "papermill": {
     "duration": 1.496942,
     "end_time": "2021-08-31T08:24:08.041098",
     "exception": false,
     "start_time": "2021-08-31T08:24:06.544156",
     "status": "completed"
    },
    "tags": []
   },
   "outputs": [
    {
     "data": {
      "image/png": "[encoded data removed]",
      "text/plain": [
       "<Figure size 1080x1080 with 12 Axes>"
      ]
     },
     "metadata": {
      "needs_background": "light"
     },
     "output_type": "display_data"
    }
   ],
   "source": [
    "data1.iloc[:,:].hist(figsize=(15,15))\n",
    "plt.show()"
   ]
  },
  {
   "cell_type": "code",
   "execution_count": 17,
   "metadata": {
    "execution": {
     "iopub.execute_input": "2021-08-31T08:24:08.232084Z",
     "iopub.status.busy": "2021-08-31T08:24:08.170684Z",
     "iopub.status.idle": "2021-08-31T08:24:11.023809Z",
     "shell.execute_reply": "2021-08-31T08:24:11.024308Z",
     "shell.execute_reply.started": "2021-08-31T08:19:22.203202Z"
    },
    "papermill": {
     "duration": 2.929531,
     "end_time": "2021-08-31T08:24:11.024466",
     "exception": false,
     "start_time": "2021-08-31T08:24:08.094935",
     "status": "completed"
    },
    "tags": []
   },
   "outputs": [
    {
     "data": {
      "image/png": "[encoded data removed]",
      "text/plain": [
       "<Figure size 720x720 with 20 Axes>"
      ]
     },
     "metadata": {
      "needs_background": "light"
     },
     "output_type": "display_data"
    }
   ],
   "source": [
    "datap=data1[['Range','Efficiency','Subtitle','FastChargeSpeed']]\n",
    "sns.pairplot(datap)\n",
    "plt.show()"
   ]
  },
  {
   "cell_type": "markdown",
   "metadata": {
    "execution": {
     "iopub.execute_input": "2021-08-17T04:40:47.715829Z",
     "iopub.status.busy": "2021-08-17T04:40:47.715546Z",
     "iopub.status.idle": "2021-08-17T04:40:47.722127Z",
     "shell.execute_reply": "2021-08-17T04:40:47.720984Z",
     "shell.execute_reply.started": "2021-08-17T04:40:47.715798Z"
    },
    "papermill": {
     "duration": 0.055359,
     "end_time": "2021-08-31T08:24:11.135679",
     "exception": false,
     "start_time": "2021-08-31T08:24:11.080320",
     "status": "completed"
    },
    "tags": []
   },
   "source": [
    "# Ranking on Battery Features"
   ]
  },
  {
   "cell_type": "code",
   "execution_count": 18,
   "metadata": {
    "execution": {
     "iopub.execute_input": "2021-08-31T08:24:11.249545Z",
     "iopub.status.busy": "2021-08-31T08:24:11.248907Z",
     "iopub.status.idle": "2021-08-31T08:24:11.290903Z",
     "shell.execute_reply": "2021-08-31T08:24:11.290137Z",
     "shell.execute_reply.started": "2021-08-31T08:19:25.482808Z"
    },
    "papermill": {
     "duration": 0.09994,
     "end_time": "2021-08-31T08:24:11.291097",
     "exception": false,
     "start_time": "2021-08-31T08:24:11.191157",
     "status": "completed"
    },
    "tags": []
   },
   "outputs": [
    {
     "name": "stderr",
     "output_type": "stream",
     "text": [
      "/opt/conda/lib/python3.7/site-packages/ipykernel_launcher.py:2: SettingWithCopyWarning: \n",
      "A value is trying to be set on a copy of a slice from a DataFrame.\n",
      "Try using .loc[row_indexer,col_indexer] = value instead\n",
      "\n",
      "See the caveats in the documentation: https://pandas.pydata.org/pandas-docs/stable/user_guide/indexing.html#returning-a-view-versus-a-copy\n",
      "  \n"
     ]
    },
    {
     "data": {
      "text/html": [
       "<div>\n",
       "<style scoped>\n",
       "    .dataframe tbody tr th:only-of-type {\n",
       "        vertical-align: middle;\n",
       "    }\n",
       "\n",
       "    .dataframe tbody tr th {\n",
       "        vertical-align: top;\n",
       "    }\n",
       "\n",
       "    .dataframe thead th {\n",
       "        text-align: right;\n",
       "    }\n",
       "</style>\n",
       "<table border=\"1\" class=\"dataframe\">\n",
       "  <thead>\n",
       "    <tr style=\"text-align: right;\">\n",
       "      <th></th>\n",
       "      <th>Name</th>\n",
       "      <th>Efficiency</th>\n",
       "      <th>Efficiency(Wh/km)</th>\n",
       "    </tr>\n",
       "  </thead>\n",
       "  <tbody>\n",
       "    <tr>\n",
       "      <th>87</th>\n",
       "      <td>Mercedes EQV 300 Long</td>\n",
       "      <td>281 Wh/km</td>\n",
       "      <td>281</td>\n",
       "    </tr>\n",
       "    <tr>\n",
       "      <th>86</th>\n",
       "      <td>Mercedes EQV 300 Extra-Long</td>\n",
       "      <td>281 Wh/km</td>\n",
       "      <td>281</td>\n",
       "    </tr>\n",
       "    <tr>\n",
       "      <th>12</th>\n",
       "      <td>Audi e-tron S 55 quattro</td>\n",
       "      <td>270 Wh/km</td>\n",
       "      <td>270</td>\n",
       "    </tr>\n",
       "    <tr>\n",
       "      <th>146</th>\n",
       "      <td>Tesla Cybertruck Tri Motor</td>\n",
       "      <td>267 Wh/km</td>\n",
       "      <td>267</td>\n",
       "    </tr>\n",
       "    <tr>\n",
       "      <th>144</th>\n",
       "      <td>Tesla Cybertruck Dual Motor</td>\n",
       "      <td>261 Wh/km</td>\n",
       "      <td>261</td>\n",
       "    </tr>\n",
       "    <tr>\n",
       "      <th>...</th>\n",
       "      <td>...</td>\n",
       "      <td>...</td>\n",
       "      <td>...</td>\n",
       "    </tr>\n",
       "    <tr>\n",
       "      <th>150</th>\n",
       "      <td>Tesla Model 3 Standard Range Plus LFP</td>\n",
       "      <td>150 Wh/km</td>\n",
       "      <td>150</td>\n",
       "    </tr>\n",
       "    <tr>\n",
       "      <th>41</th>\n",
       "      <td>Fiat 500e Hatchback 42 kWh</td>\n",
       "      <td>149 Wh/km</td>\n",
       "      <td>149</td>\n",
       "    </tr>\n",
       "    <tr>\n",
       "      <th>149</th>\n",
       "      <td>Tesla Model 3 Standard Range Plus</td>\n",
       "      <td>147 Wh/km</td>\n",
       "      <td>147</td>\n",
       "    </tr>\n",
       "    <tr>\n",
       "      <th>40</th>\n",
       "      <td>Fiat 500e Hatchback 24 kWh</td>\n",
       "      <td>144 Wh/km</td>\n",
       "      <td>144</td>\n",
       "    </tr>\n",
       "    <tr>\n",
       "      <th>68</th>\n",
       "      <td>Lightyear One</td>\n",
       "      <td>104 Wh/km</td>\n",
       "      <td>104</td>\n",
       "    </tr>\n",
       "  </tbody>\n",
       "</table>\n",
       "<p>174 rows × 3 columns</p>\n",
       "</div>"
      ],
      "text/plain": [
       "                                      Name Efficiency  Efficiency(Wh/km)\n",
       "87                   Mercedes EQV 300 Long  281 Wh/km                281\n",
       "86             Mercedes EQV 300 Extra-Long  281 Wh/km                281\n",
       "12                Audi e-tron S 55 quattro  270 Wh/km                270\n",
       "146             Tesla Cybertruck Tri Motor  267 Wh/km                267\n",
       "144            Tesla Cybertruck Dual Motor  261 Wh/km                261\n",
       "..                                     ...        ...                ...\n",
       "150  Tesla Model 3 Standard Range Plus LFP  150 Wh/km                150\n",
       "41              Fiat 500e Hatchback 42 kWh  149 Wh/km                149\n",
       "149      Tesla Model 3 Standard Range Plus  147 Wh/km                147\n",
       "40              Fiat 500e Hatchback 24 kWh  144 Wh/km                144\n",
       "68                          Lightyear One   104 Wh/km                104\n",
       "\n",
       "[174 rows x 3 columns]"
      ]
     },
     "execution_count": 18,
     "metadata": {},
     "output_type": "execute_result"
    }
   ],
   "source": [
    "data2a=data00[['Name','Efficiency']]\n",
    "data2a['Efficiency(Wh/km)']=data1['Efficiency']\n",
    "data2a=data2a.groupby('Name',as_index=False).max()\n",
    "data2a=data2a.sort_values('Efficiency(Wh/km)',ascending=False)\n",
    "data2a"
   ]
  },
  {
   "cell_type": "code",
   "execution_count": 19,
   "metadata": {
    "execution": {
     "iopub.execute_input": "2021-08-31T08:24:11.409141Z",
     "iopub.status.busy": "2021-08-31T08:24:11.408506Z",
     "iopub.status.idle": "2021-08-31T08:24:12.519132Z",
     "shell.execute_reply": "2021-08-31T08:24:12.518583Z",
     "shell.execute_reply.started": "2021-08-31T08:19:25.534672Z"
    },
    "papermill": {
     "duration": 1.171611,
     "end_time": "2021-08-31T08:24:12.519279",
     "exception": false,
     "start_time": "2021-08-31T08:24:11.347668",
     "status": "completed"
    },
    "tags": []
   },
   "outputs": [
    {
     "data": {
      "text/html": [
       "        <script type=\"text/javascript\">\n",
       "        window.PlotlyConfig = {MathJaxConfig: 'local'};\n",
       "        if (window.MathJax) {MathJax.Hub.Config({SVG: {font: \"STIX-Web\"}});}\n",
       "        if (typeof require !== 'undefined') {\n",
       "        require.undef(\"plotly\");\n",
       "        requirejs.config({\n",
       "            paths: {\n",
       "                'plotly': ['https://cdn.plot.ly/plotly-2.2.0.min']\n",
       "            }\n",
       "        });\n",
       "        require(['plotly'], function(Plotly) {\n",
       "            window._Plotly = Plotly;\n",
       "        });\n",
       "        }\n",
       "        </script>\n",
       "        "
      ]
     },
     "metadata": {},
     "output_type": "display_data"
    },
    {
     "data": {
      "text/html": [
       "<div>                            <div id=\"9e9f63ff-52bc-4bd7-b3d8-7716a6bae1a8\" class=\"plotly-graph-div\" style=\"height:525px; width:100%;\"></div>            <script type=\"text/javascript\">                require([\"plotly\"], function(Plotly) {                    window.PLOTLYENV=window.PLOTLYENV || {};                                    if (document.getElementById(\"9e9f63ff-52bc-4bd7-b3d8-7716a6bae1a8\")) {                    Plotly.newPlot(                        \"9e9f63ff-52bc-4bd7-b3d8-7716a6bae1a8\",                        [{\"alignmentgroup\":\"True\",\"hovertemplate\":\"Name=%{x}<br>Efficiency(Wh/km)=%{y}<extra></extra>\",\"legendgroup\":\"\",\"marker\":{\"color\":\"#636efa\",\"pattern\":{\"shape\":\"\"}},\"name\":\"\",\"offsetgroup\":\"\",\"orientation\":\"v\",\"showlegend\":false,\"textposition\":\"auto\",\"type\":\"bar\",\"x\":[\"Mercedes EQV 300 Long\",\"Mercedes EQV 300 Extra-Long\",\"Audi e-tron S 55 quattro\",\"Tesla Cybertruck Tri Motor\",\"Tesla Cybertruck Dual Motor\",\"Audi e-tron S Sportback 55 quattro\",\"Tesla Cybertruck Single Motor\",\"Opel Zafira-e Life L 75 kWh\",\"Toyota PROACE Verso M 75 kWh\",\"Peugeot e-Traveller Long 75 kWh\",\"Citroen e-SpaceTourer M 75 kWh\",\"Peugeot e-Traveller Standard 75 kWh\",\"Opel Zafira-e Life M 75 kWh\",\"Citroen e-SpaceTourer XL 75 kWh\",\"Toyota PROACE Verso L 75 kWh\",\"Citroen e-SpaceTourer XL 50 kWh\",\"Toyota PROACE Verso L 50 kWh\",\"Opel Zafira-e Life L 50 kWh\",\"Byton M-Byte 95 kWh 4WD\",\"Citroen e-SpaceTourer M 50 kWh\",\"Citroen e-SpaceTourer XS 50 kWh\",\"Opel Zafira-e Life M 50 kWh\",\"Peugeot e-Traveller Compact 50 kWh\",\"Peugeot e-Traveller Long 50 kWh\",\"Opel Zafira-e Life S 50 kWh\",\"Peugeot e-Traveller Standard 50 kWh\",\"Toyota PROACE Verso M 50 kWh\",\"Byton M-Byte 95 kWh 2WD\",\"Audi e-tron 55 quattro\",\"Jaguar I-Pace EV400\",\"Peugeot e-Rifter Long 50 kWh\",\"Audi e-tron Sportback 55 quattro\",\"Audi e-tron 50 quattro\",\"Nissan Ariya e-4ORCE 87kWh Performance\",\"Peugeot e-Rifter Standard 50 kWh\",\"Byton M-Byte 72 kWh 2WD\",\"Volvo C40 Recharge\",\"Volvo XC40 Recharge Twin Pure Electric\",\"Porsche Taycan Turbo S Cross Turismo\",\"Audi e-tron Sportback 50 quattro\"],\"xaxis\":\"x\",\"y\":[281,281,270,267,261,258,256,252,252,252,252,252,252,252,252,250,250,250,244,243,243,243,243,243,243,243,243,238,237,232,231,231,231,226,225,222,221,221,220,219],\"yaxis\":\"y\"}],                        {\"barmode\":\"relative\",\"legend\":{\"tracegroupgap\":0},\"template\":{\"data\":{\"bar\":[{\"error_x\":{\"color\":\"#2a3f5f\"},\"error_y\":{\"color\":\"#2a3f5f\"},\"marker\":{\"line\":{\"color\":\"#E5ECF6\",\"width\":0.5},\"pattern\":{\"fillmode\":\"overlay\",\"size\":10,\"solidity\":0.2}},\"type\":\"bar\"}],\"barpolar\":[{\"marker\":{\"line\":{\"color\":\"#E5ECF6\",\"width\":0.5},\"pattern\":{\"fillmode\":\"overlay\",\"size\":10,\"solidity\":0.2}},\"type\":\"barpolar\"}],\"carpet\":[{\"aaxis\":{\"endlinecolor\":\"#2a3f5f\",\"gridcolor\":\"white\",\"linecolor\":\"white\",\"minorgridcolor\":\"white\",\"startlinecolor\":\"#2a3f5f\"},\"baxis\":{\"endlinecolor\":\"#2a3f5f\",\"gridcolor\":\"white\",\"linecolor\":\"white\",\"minorgridcolor\":\"white\",\"startlinecolor\":\"#2a3f5f\"},\"type\":\"carpet\"}],\"choropleth\":[{\"colorbar\":{\"outlinewidth\":0,\"ticks\":\"\"},\"type\":\"choropleth\"}],\"contour\":[{\"colorbar\":{\"outlinewidth\":0,\"ticks\":\"\"},\"colorscale\":[[0.0,\"#0d0887\"],[0.1111111111111111,\"#46039f\"],[0.2222222222222222,\"#7201a8\"],[0.3333333333333333,\"#9c179e\"],[0.4444444444444444,\"#bd3786\"],[0.5555555555555556,\"#d8576b\"],[0.6666666666666666,\"#ed7953\"],[0.7777777777777778,\"#fb9f3a\"],[0.8888888888888888,\"#fdca26\"],[1.0,\"#f0f921\"]],\"type\":\"contour\"}],\"contourcarpet\":[{\"colorbar\":{\"outlinewidth\":0,\"ticks\":\"\"},\"type\":\"contourcarpet\"}],\"heatmap\":[{\"colorbar\":{\"outlinewidth\":0,\"ticks\":\"\"},\"colorscale\":[[0.0,\"#0d0887\"],[0.1111111111111111,\"#46039f\"],[0.2222222222222222,\"#7201a8\"],[0.3333333333333333,\"#9c179e\"],[0.4444444444444444,\"#bd3786\"],[0.5555555555555556,\"#d8576b\"],[0.6666666666666666,\"#ed7953\"],[0.7777777777777778,\"#fb9f3a\"],[0.8888888888888888,\"#fdca26\"],[1.0,\"#f0f921\"]],\"type\":\"heatmap\"}],\"heatmapgl\":[{\"colorbar\":{\"outlinewidth\":0,\"ticks\":\"\"},\"colorscale\":[[0.0,\"#0d0887\"],[0.1111111111111111,\"#46039f\"],[0.2222222222222222,\"#7201a8\"],[0.3333333333333333,\"#9c179e\"],[0.4444444444444444,\"#bd3786\"],[0.5555555555555556,\"#d8576b\"],[0.6666666666666666,\"#ed7953\"],[0.7777777777777778,\"#fb9f3a\"],[0.8888888888888888,\"#fdca26\"],[1.0,\"#f0f921\"]],\"type\":\"heatmapgl\"}],\"histogram\":[{\"marker\":{\"pattern\":{\"fillmode\":\"overlay\",\"size\":10,\"solidity\":0.2}},\"type\":\"histogram\"}],\"histogram2d\":[{\"colorbar\":{\"outlinewidth\":0,\"ticks\":\"\"},\"colorscale\":[[0.0,\"#0d0887\"],[0.1111111111111111,\"#46039f\"],[0.2222222222222222,\"#7201a8\"],[0.3333333333333333,\"#9c179e\"],[0.4444444444444444,\"#bd3786\"],[0.5555555555555556,\"#d8576b\"],[0.6666666666666666,\"#ed7953\"],[0.7777777777777778,\"#fb9f3a\"],[0.8888888888888888,\"#fdca26\"],[1.0,\"#f0f921\"]],\"type\":\"histogram2d\"}],\"histogram2dcontour\":[{\"colorbar\":{\"outlinewidth\":0,\"ticks\":\"\"},\"colorscale\":[[0.0,\"#0d0887\"],[0.1111111111111111,\"#46039f\"],[0.2222222222222222,\"#7201a8\"],[0.3333333333333333,\"#9c179e\"],[0.4444444444444444,\"#bd3786\"],[0.5555555555555556,\"#d8576b\"],[0.6666666666666666,\"#ed7953\"],[0.7777777777777778,\"#fb9f3a\"],[0.8888888888888888,\"#fdca26\"],[1.0,\"#f0f921\"]],\"type\":\"histogram2dcontour\"}],\"mesh3d\":[{\"colorbar\":{\"outlinewidth\":0,\"ticks\":\"\"},\"type\":\"mesh3d\"}],\"parcoords\":[{\"line\":{\"colorbar\":{\"outlinewidth\":0,\"ticks\":\"\"}},\"type\":\"parcoords\"}],\"pie\":[{\"automargin\":true,\"type\":\"pie\"}],\"scatter\":[{\"marker\":{\"colorbar\":{\"outlinewidth\":0,\"ticks\":\"\"}},\"type\":\"scatter\"}],\"scatter3d\":[{\"line\":{\"colorbar\":{\"outlinewidth\":0,\"ticks\":\"\"}},\"marker\":{\"colorbar\":{\"outlinewidth\":0,\"ticks\":\"\"}},\"type\":\"scatter3d\"}],\"scattercarpet\":[{\"marker\":{\"colorbar\":{\"outlinewidth\":0,\"ticks\":\"\"}},\"type\":\"scattercarpet\"}],\"scattergeo\":[{\"marker\":{\"colorbar\":{\"outlinewidth\":0,\"ticks\":\"\"}},\"type\":\"scattergeo\"}],\"scattergl\":[{\"marker\":{\"colorbar\":{\"outlinewidth\":0,\"ticks\":\"\"}},\"type\":\"scattergl\"}],\"scattermapbox\":[{\"marker\":{\"colorbar\":{\"outlinewidth\":0,\"ticks\":\"\"}},\"type\":\"scattermapbox\"}],\"scatterpolar\":[{\"marker\":{\"colorbar\":{\"outlinewidth\":0,\"ticks\":\"\"}},\"type\":\"scatterpolar\"}],\"scatterpolargl\":[{\"marker\":{\"colorbar\":{\"outlinewidth\":0,\"ticks\":\"\"}},\"type\":\"scatterpolargl\"}],\"scatterternary\":[{\"marker\":{\"colorbar\":{\"outlinewidth\":0,\"ticks\":\"\"}},\"type\":\"scatterternary\"}],\"surface\":[{\"colorbar\":{\"outlinewidth\":0,\"ticks\":\"\"},\"colorscale\":[[0.0,\"#0d0887\"],[0.1111111111111111,\"#46039f\"],[0.2222222222222222,\"#7201a8\"],[0.3333333333333333,\"#9c179e\"],[0.4444444444444444,\"#bd3786\"],[0.5555555555555556,\"#d8576b\"],[0.6666666666666666,\"#ed7953\"],[0.7777777777777778,\"#fb9f3a\"],[0.8888888888888888,\"#fdca26\"],[1.0,\"#f0f921\"]],\"type\":\"surface\"}],\"table\":[{\"cells\":{\"fill\":{\"color\":\"#EBF0F8\"},\"line\":{\"color\":\"white\"}},\"header\":{\"fill\":{\"color\":\"#C8D4E3\"},\"line\":{\"color\":\"white\"}},\"type\":\"table\"}]},\"layout\":{\"annotationdefaults\":{\"arrowcolor\":\"#2a3f5f\",\"arrowhead\":0,\"arrowwidth\":1},\"autotypenumbers\":\"strict\",\"coloraxis\":{\"colorbar\":{\"outlinewidth\":0,\"ticks\":\"\"}},\"colorscale\":{\"diverging\":[[0,\"#8e0152\"],[0.1,\"#c51b7d\"],[0.2,\"#de77ae\"],[0.3,\"#f1b6da\"],[0.4,\"#fde0ef\"],[0.5,\"#f7f7f7\"],[0.6,\"#e6f5d0\"],[0.7,\"#b8e186\"],[0.8,\"#7fbc41\"],[0.9,\"#4d9221\"],[1,\"#276419\"]],\"sequential\":[[0.0,\"#0d0887\"],[0.1111111111111111,\"#46039f\"],[0.2222222222222222,\"#7201a8\"],[0.3333333333333333,\"#9c179e\"],[0.4444444444444444,\"#bd3786\"],[0.5555555555555556,\"#d8576b\"],[0.6666666666666666,\"#ed7953\"],[0.7777777777777778,\"#fb9f3a\"],[0.8888888888888888,\"#fdca26\"],[1.0,\"#f0f921\"]],\"sequentialminus\":[[0.0,\"#0d0887\"],[0.1111111111111111,\"#46039f\"],[0.2222222222222222,\"#7201a8\"],[0.3333333333333333,\"#9c179e\"],[0.4444444444444444,\"#bd3786\"],[0.5555555555555556,\"#d8576b\"],[0.6666666666666666,\"#ed7953\"],[0.7777777777777778,\"#fb9f3a\"],[0.8888888888888888,\"#fdca26\"],[1.0,\"#f0f921\"]]},\"colorway\":[\"#636efa\",\"#EF553B\",\"#00cc96\",\"#ab63fa\",\"#FFA15A\",\"#19d3f3\",\"#FF6692\",\"#B6E880\",\"#FF97FF\",\"#FECB52\"],\"font\":{\"color\":\"#2a3f5f\"},\"geo\":{\"bgcolor\":\"white\",\"lakecolor\":\"white\",\"landcolor\":\"#E5ECF6\",\"showlakes\":true,\"showland\":true,\"subunitcolor\":\"white\"},\"hoverlabel\":{\"align\":\"left\"},\"hovermode\":\"closest\",\"mapbox\":{\"style\":\"light\"},\"paper_bgcolor\":\"white\",\"plot_bgcolor\":\"#E5ECF6\",\"polar\":{\"angularaxis\":{\"gridcolor\":\"white\",\"linecolor\":\"white\",\"ticks\":\"\"},\"bgcolor\":\"#E5ECF6\",\"radialaxis\":{\"gridcolor\":\"white\",\"linecolor\":\"white\",\"ticks\":\"\"}},\"scene\":{\"xaxis\":{\"backgroundcolor\":\"#E5ECF6\",\"gridcolor\":\"white\",\"gridwidth\":2,\"linecolor\":\"white\",\"showbackground\":true,\"ticks\":\"\",\"zerolinecolor\":\"white\"},\"yaxis\":{\"backgroundcolor\":\"#E5ECF6\",\"gridcolor\":\"white\",\"gridwidth\":2,\"linecolor\":\"white\",\"showbackground\":true,\"ticks\":\"\",\"zerolinecolor\":\"white\"},\"zaxis\":{\"backgroundcolor\":\"#E5ECF6\",\"gridcolor\":\"white\",\"gridwidth\":2,\"linecolor\":\"white\",\"showbackground\":true,\"ticks\":\"\",\"zerolinecolor\":\"white\"}},\"shapedefaults\":{\"line\":{\"color\":\"#2a3f5f\"}},\"ternary\":{\"aaxis\":{\"gridcolor\":\"white\",\"linecolor\":\"white\",\"ticks\":\"\"},\"baxis\":{\"gridcolor\":\"white\",\"linecolor\":\"white\",\"ticks\":\"\"},\"bgcolor\":\"#E5ECF6\",\"caxis\":{\"gridcolor\":\"white\",\"linecolor\":\"white\",\"ticks\":\"\"}},\"title\":{\"x\":0.05},\"xaxis\":{\"automargin\":true,\"gridcolor\":\"white\",\"linecolor\":\"white\",\"ticks\":\"\",\"title\":{\"standoff\":15},\"zerolinecolor\":\"white\",\"zerolinewidth\":2},\"yaxis\":{\"automargin\":true,\"gridcolor\":\"white\",\"linecolor\":\"white\",\"ticks\":\"\",\"title\":{\"standoff\":15},\"zerolinecolor\":\"white\",\"zerolinewidth\":2}}},\"title\":{\"text\":\"Efficicney Ranknig of Electric Cars\"},\"xaxis\":{\"anchor\":\"y\",\"domain\":[0.0,1.0],\"title\":{\"text\":\"Name\"}},\"yaxis\":{\"anchor\":\"x\",\"domain\":[0.0,1.0],\"title\":{\"text\":\"Efficiency(Wh/km)\"}}},                        {\"responsive\": true}                    ).then(function(){\n",
       "                            \n",
       "var gd = document.getElementById('9e9f63ff-52bc-4bd7-b3d8-7716a6bae1a8');\n",
       "var x = new MutationObserver(function (mutations, observer) {{\n",
       "        var display = window.getComputedStyle(gd).display;\n",
       "        if (!display || display === 'none') {{\n",
       "            console.log([gd, 'removed!']);\n",
       "            Plotly.purge(gd);\n",
       "            observer.disconnect();\n",
       "        }}\n",
       "}});\n",
       "\n",
       "// Listen for the removal of the full notebook cells\n",
       "var notebookContainer = gd.closest('#notebook-container');\n",
       "if (notebookContainer) {{\n",
       "    x.observe(notebookContainer, {childList: true});\n",
       "}}\n",
       "\n",
       "// Listen for the clearing of the current output cell\n",
       "var outputEl = gd.closest('.output');\n",
       "if (outputEl) {{\n",
       "    x.observe(outputEl, {childList: true});\n",
       "}}\n",
       "\n",
       "                        })                };                });            </script>        </div>"
      ]
     },
     "metadata": {},
     "output_type": "display_data"
    }
   ],
   "source": [
    "fig = px.bar(data2a[0:40], x='Name', y='Efficiency(Wh/km)',title=\"Efficicney Ranknig of Electric Cars\")\n",
    "fig.show()"
   ]
  },
  {
   "cell_type": "code",
   "execution_count": 20,
   "metadata": {
    "execution": {
     "iopub.execute_input": "2021-08-31T08:24:12.643726Z",
     "iopub.status.busy": "2021-08-31T08:24:12.642699Z",
     "iopub.status.idle": "2021-08-31T08:24:12.681758Z",
     "shell.execute_reply": "2021-08-31T08:24:12.681253Z",
     "shell.execute_reply.started": "2021-08-31T08:19:26.788533Z"
    },
    "papermill": {
     "duration": 0.104095,
     "end_time": "2021-08-31T08:24:12.681900",
     "exception": false,
     "start_time": "2021-08-31T08:24:12.577805",
     "status": "completed"
    },
    "tags": []
   },
   "outputs": [
    {
     "name": "stderr",
     "output_type": "stream",
     "text": [
      "/opt/conda/lib/python3.7/site-packages/ipykernel_launcher.py:2: SettingWithCopyWarning:\n",
      "\n",
      "\n",
      "A value is trying to be set on a copy of a slice from a DataFrame.\n",
      "Try using .loc[row_indexer,col_indexer] = value instead\n",
      "\n",
      "See the caveats in the documentation: https://pandas.pydata.org/pandas-docs/stable/user_guide/indexing.html#returning-a-view-versus-a-copy\n",
      "\n"
     ]
    },
    {
     "data": {
      "text/html": [
       "<div>\n",
       "<style scoped>\n",
       "    .dataframe tbody tr th:only-of-type {\n",
       "        vertical-align: middle;\n",
       "    }\n",
       "\n",
       "    .dataframe tbody tr th {\n",
       "        vertical-align: top;\n",
       "    }\n",
       "\n",
       "    .dataframe thead th {\n",
       "        text-align: right;\n",
       "    }\n",
       "</style>\n",
       "<table border=\"1\" class=\"dataframe\">\n",
       "  <thead>\n",
       "    <tr style=\"text-align: right;\">\n",
       "      <th></th>\n",
       "      <th>Name</th>\n",
       "      <th>Subtitle</th>\n",
       "      <th>Battery(kwh)</th>\n",
       "    </tr>\n",
       "  </thead>\n",
       "  <tbody>\n",
       "    <tr>\n",
       "      <th>157</th>\n",
       "      <td>Tesla Roadster</td>\n",
       "      <td>Battery Electric Vehicle |       200 kWh</td>\n",
       "      <td>200.0</td>\n",
       "    </tr>\n",
       "    <tr>\n",
       "      <th>146</th>\n",
       "      <td>Tesla Cybertruck Tri Motor</td>\n",
       "      <td>Battery Electric Vehicle |       200 kWh</td>\n",
       "      <td>200.0</td>\n",
       "    </tr>\n",
       "    <tr>\n",
       "      <th>144</th>\n",
       "      <td>Tesla Cybertruck Dual Motor</td>\n",
       "      <td>Battery Electric Vehicle |       120 kWh</td>\n",
       "      <td>120.0</td>\n",
       "    </tr>\n",
       "    <tr>\n",
       "      <th>69</th>\n",
       "      <td>Lucid Air Grand Touring</td>\n",
       "      <td>Battery Electric Vehicle |       110 kWh</td>\n",
       "      <td>110.0</td>\n",
       "    </tr>\n",
       "    <tr>\n",
       "      <th>84</th>\n",
       "      <td>Mercedes EQS 450+</td>\n",
       "      <td>Battery Electric Vehicle |       107.8 kWh</td>\n",
       "      <td>107.8</td>\n",
       "    </tr>\n",
       "    <tr>\n",
       "      <th>...</th>\n",
       "      <td>...</td>\n",
       "      <td>...</td>\n",
       "      <td>...</td>\n",
       "    </tr>\n",
       "    <tr>\n",
       "      <th>40</th>\n",
       "      <td>Fiat 500e Hatchback 24 kWh</td>\n",
       "      <td>Battery Electric Vehicle |       23.8 kWh</td>\n",
       "      <td>23.8</td>\n",
       "    </tr>\n",
       "    <tr>\n",
       "      <th>129</th>\n",
       "      <td>Renault Twingo Electric</td>\n",
       "      <td>Battery Electric Vehicle |       21.3 kWh</td>\n",
       "      <td>21.3</td>\n",
       "    </tr>\n",
       "    <tr>\n",
       "      <th>142</th>\n",
       "      <td>Smart EQ fortwo coupe</td>\n",
       "      <td>Battery Electric Vehicle |       16.7 kWh</td>\n",
       "      <td>16.7</td>\n",
       "    </tr>\n",
       "    <tr>\n",
       "      <th>141</th>\n",
       "      <td>Smart EQ fortwo cabrio</td>\n",
       "      <td>Battery Electric Vehicle |       16.7 kWh</td>\n",
       "      <td>16.7</td>\n",
       "    </tr>\n",
       "    <tr>\n",
       "      <th>140</th>\n",
       "      <td>Smart EQ forfour</td>\n",
       "      <td>Battery Electric Vehicle |       16.7 kWh</td>\n",
       "      <td>16.7</td>\n",
       "    </tr>\n",
       "  </tbody>\n",
       "</table>\n",
       "<p>174 rows × 3 columns</p>\n",
       "</div>"
      ],
      "text/plain": [
       "                            Name                                    Subtitle  \\\n",
       "157              Tesla Roadster    Battery Electric Vehicle |       200 kWh    \n",
       "146   Tesla Cybertruck Tri Motor   Battery Electric Vehicle |       200 kWh    \n",
       "144  Tesla Cybertruck Dual Motor   Battery Electric Vehicle |       120 kWh    \n",
       "69       Lucid Air Grand Touring   Battery Electric Vehicle |       110 kWh    \n",
       "84             Mercedes EQS 450+  Battery Electric Vehicle |       107.8 kWh   \n",
       "..                           ...                                         ...   \n",
       "40    Fiat 500e Hatchback 24 kWh  Battery Electric Vehicle |       23.8 kWh    \n",
       "129      Renault Twingo Electric   Battery Electric Vehicle |       21.3 kWh   \n",
       "142        Smart EQ fortwo coupe  Battery Electric Vehicle |       16.7 kWh    \n",
       "141       Smart EQ fortwo cabrio  Battery Electric Vehicle |       16.7 kWh    \n",
       "140            Smart EQ forfour   Battery Electric Vehicle |       16.7 kWh    \n",
       "\n",
       "     Battery(kwh)  \n",
       "157         200.0  \n",
       "146         200.0  \n",
       "144         120.0  \n",
       "69          110.0  \n",
       "84          107.8  \n",
       "..            ...  \n",
       "40           23.8  \n",
       "129          21.3  \n",
       "142          16.7  \n",
       "141          16.7  \n",
       "140          16.7  \n",
       "\n",
       "[174 rows x 3 columns]"
      ]
     },
     "execution_count": 20,
     "metadata": {},
     "output_type": "execute_result"
    }
   ],
   "source": [
    "data2b=data00[['Name','Subtitle']]\n",
    "data2b['Battery(kwh)']=data1['Subtitle']\n",
    "data2b=data2b.groupby('Name',as_index=False).max()\n",
    "data2b=data2b.sort_values('Battery(kwh)',ascending=False)\n",
    "data2b"
   ]
  },
  {
   "cell_type": "code",
   "execution_count": 21,
   "metadata": {
    "execution": {
     "iopub.execute_input": "2021-08-31T08:24:12.836881Z",
     "iopub.status.busy": "2021-08-31T08:24:12.832044Z",
     "iopub.status.idle": "2021-08-31T08:24:12.862034Z",
     "shell.execute_reply": "2021-08-31T08:24:12.861512Z",
     "shell.execute_reply.started": "2021-08-31T08:19:26.835694Z"
    },
    "papermill": {
     "duration": 0.123421,
     "end_time": "2021-08-31T08:24:12.862242",
     "exception": false,
     "start_time": "2021-08-31T08:24:12.738821",
     "status": "completed"
    },
    "tags": []
   },
   "outputs": [
    {
     "data": {
      "text/html": [
       "<div>                            <div id=\"2dc4e2c9-e99a-42d3-8e79-f9badfccb21c\" class=\"plotly-graph-div\" style=\"height:525px; width:100%;\"></div>            <script type=\"text/javascript\">                require([\"plotly\"], function(Plotly) {                    window.PLOTLYENV=window.PLOTLYENV || {};                                    if (document.getElementById(\"2dc4e2c9-e99a-42d3-8e79-f9badfccb21c\")) {                    Plotly.newPlot(                        \"2dc4e2c9-e99a-42d3-8e79-f9badfccb21c\",                        [{\"alignmentgroup\":\"True\",\"hovertemplate\":\"Name=%{x}<br>Battery(kwh)=%{y}<extra></extra>\",\"legendgroup\":\"\",\"marker\":{\"color\":\"#636efa\",\"pattern\":{\"shape\":\"\"}},\"name\":\"\",\"offsetgroup\":\"\",\"orientation\":\"v\",\"showlegend\":false,\"textposition\":\"auto\",\"type\":\"bar\",\"x\":[\"Tesla Roadster \",\"Tesla Cybertruck Tri Motor\",\"Tesla Cybertruck Dual Motor\",\"Lucid Air Grand Touring\",\"Mercedes EQS 450+\",\"Mercedes EQS 580 4MATIC\",\"BMW iX xDrive50\",\"Tesla Cybertruck Single Motor\",\"Byton M-Byte 95 kWh 4WD\",\"Byton M-Byte 95 kWh 2WD\",\"Mercedes EQV 300 Long\",\"Tesla Model S Plaid\",\"Tesla Model S Long Range\",\"Tesla Model X Plaid\",\"Tesla Model X Long Range\",\"Mercedes EQV 300 Extra-Long\",\"Ford Mustang Mach-E ER AWD\",\"Ford Mustang Mach-E ER RWD\",\"Ford Mustang Mach-E GT\",\"Nissan Ariya e-4ORCE 87kWh Performance\",\"Nissan Ariya e-4ORCE 87kWh\",\"Nissan Ariya 87kWh\",\"Audi e-tron Sportback 55 quattro\",\"Audi e-tron S 55 quattro\",\"Audi e-tron 55 quattro\",\"Audi e-tron S Sportback 55 quattro\",\"Lucid Air Touring\",\"Lucid Air Pure\",\"Audi e-tron GT quattro\",\"Audi e-tron GT RS\",\"Jaguar I-Pace EV400\",\"Porsche Taycan Turbo S Cross Turismo\",\"Porsche Taycan 4 Cross Turismo\",\"Porsche Taycan 4S Cross Turismo\",\"Porsche Taycan 4S Plus\",\"Porsche Taycan Turbo\",\"Porsche Taycan Turbo Cross Turismo\",\"Porsche Taycan Turbo S\",\"Porsche Taycan Plus\",\"BMW i4 eDrive40\"],\"xaxis\":\"x\",\"y\":[200.0,200.0,120.0,110.0,107.8,107.8,105.2,100.0,95.0,95.0,90.0,90.0,90.0,90.0,90.0,90.0,88.0,88.0,88.0,87.0,87.0,87.0,86.5,86.5,86.5,86.5,85.0,85.0,85.0,85.0,84.7,83.7,83.7,83.7,83.7,83.7,83.7,83.7,83.7,80.7],\"yaxis\":\"y\"}],                        {\"barmode\":\"relative\",\"legend\":{\"tracegroupgap\":0},\"template\":{\"data\":{\"bar\":[{\"error_x\":{\"color\":\"#2a3f5f\"},\"error_y\":{\"color\":\"#2a3f5f\"},\"marker\":{\"line\":{\"color\":\"#E5ECF6\",\"width\":0.5},\"pattern\":{\"fillmode\":\"overlay\",\"size\":10,\"solidity\":0.2}},\"type\":\"bar\"}],\"barpolar\":[{\"marker\":{\"line\":{\"color\":\"#E5ECF6\",\"width\":0.5},\"pattern\":{\"fillmode\":\"overlay\",\"size\":10,\"solidity\":0.2}},\"type\":\"barpolar\"}],\"carpet\":[{\"aaxis\":{\"endlinecolor\":\"#2a3f5f\",\"gridcolor\":\"white\",\"linecolor\":\"white\",\"minorgridcolor\":\"white\",\"startlinecolor\":\"#2a3f5f\"},\"baxis\":{\"endlinecolor\":\"#2a3f5f\",\"gridcolor\":\"white\",\"linecolor\":\"white\",\"minorgridcolor\":\"white\",\"startlinecolor\":\"#2a3f5f\"},\"type\":\"carpet\"}],\"choropleth\":[{\"colorbar\":{\"outlinewidth\":0,\"ticks\":\"\"},\"type\":\"choropleth\"}],\"contour\":[{\"colorbar\":{\"outlinewidth\":0,\"ticks\":\"\"},\"colorscale\":[[0.0,\"#0d0887\"],[0.1111111111111111,\"#46039f\"],[0.2222222222222222,\"#7201a8\"],[0.3333333333333333,\"#9c179e\"],[0.4444444444444444,\"#bd3786\"],[0.5555555555555556,\"#d8576b\"],[0.6666666666666666,\"#ed7953\"],[0.7777777777777778,\"#fb9f3a\"],[0.8888888888888888,\"#fdca26\"],[1.0,\"#f0f921\"]],\"type\":\"contour\"}],\"contourcarpet\":[{\"colorbar\":{\"outlinewidth\":0,\"ticks\":\"\"},\"type\":\"contourcarpet\"}],\"heatmap\":[{\"colorbar\":{\"outlinewidth\":0,\"ticks\":\"\"},\"colorscale\":[[0.0,\"#0d0887\"],[0.1111111111111111,\"#46039f\"],[0.2222222222222222,\"#7201a8\"],[0.3333333333333333,\"#9c179e\"],[0.4444444444444444,\"#bd3786\"],[0.5555555555555556,\"#d8576b\"],[0.6666666666666666,\"#ed7953\"],[0.7777777777777778,\"#fb9f3a\"],[0.8888888888888888,\"#fdca26\"],[1.0,\"#f0f921\"]],\"type\":\"heatmap\"}],\"heatmapgl\":[{\"colorbar\":{\"outlinewidth\":0,\"ticks\":\"\"},\"colorscale\":[[0.0,\"#0d0887\"],[0.1111111111111111,\"#46039f\"],[0.2222222222222222,\"#7201a8\"],[0.3333333333333333,\"#9c179e\"],[0.4444444444444444,\"#bd3786\"],[0.5555555555555556,\"#d8576b\"],[0.6666666666666666,\"#ed7953\"],[0.7777777777777778,\"#fb9f3a\"],[0.8888888888888888,\"#fdca26\"],[1.0,\"#f0f921\"]],\"type\":\"heatmapgl\"}],\"histogram\":[{\"marker\":{\"pattern\":{\"fillmode\":\"overlay\",\"size\":10,\"solidity\":0.2}},\"type\":\"histogram\"}],\"histogram2d\":[{\"colorbar\":{\"outlinewidth\":0,\"ticks\":\"\"},\"colorscale\":[[0.0,\"#0d0887\"],[0.1111111111111111,\"#46039f\"],[0.2222222222222222,\"#7201a8\"],[0.3333333333333333,\"#9c179e\"],[0.4444444444444444,\"#bd3786\"],[0.5555555555555556,\"#d8576b\"],[0.6666666666666666,\"#ed7953\"],[0.7777777777777778,\"#fb9f3a\"],[0.8888888888888888,\"#fdca26\"],[1.0,\"#f0f921\"]],\"type\":\"histogram2d\"}],\"histogram2dcontour\":[{\"colorbar\":{\"outlinewidth\":0,\"ticks\":\"\"},\"colorscale\":[[0.0,\"#0d0887\"],[0.1111111111111111,\"#46039f\"],[0.2222222222222222,\"#7201a8\"],[0.3333333333333333,\"#9c179e\"],[0.4444444444444444,\"#bd3786\"],[0.5555555555555556,\"#d8576b\"],[0.6666666666666666,\"#ed7953\"],[0.7777777777777778,\"#fb9f3a\"],[0.8888888888888888,\"#fdca26\"],[1.0,\"#f0f921\"]],\"type\":\"histogram2dcontour\"}],\"mesh3d\":[{\"colorbar\":{\"outlinewidth\":0,\"ticks\":\"\"},\"type\":\"mesh3d\"}],\"parcoords\":[{\"line\":{\"colorbar\":{\"outlinewidth\":0,\"ticks\":\"\"}},\"type\":\"parcoords\"}],\"pie\":[{\"automargin\":true,\"type\":\"pie\"}],\"scatter\":[{\"marker\":{\"colorbar\":{\"outlinewidth\":0,\"ticks\":\"\"}},\"type\":\"scatter\"}],\"scatter3d\":[{\"line\":{\"colorbar\":{\"outlinewidth\":0,\"ticks\":\"\"}},\"marker\":{\"colorbar\":{\"outlinewidth\":0,\"ticks\":\"\"}},\"type\":\"scatter3d\"}],\"scattercarpet\":[{\"marker\":{\"colorbar\":{\"outlinewidth\":0,\"ticks\":\"\"}},\"type\":\"scattercarpet\"}],\"scattergeo\":[{\"marker\":{\"colorbar\":{\"outlinewidth\":0,\"ticks\":\"\"}},\"type\":\"scattergeo\"}],\"scattergl\":[{\"marker\":{\"colorbar\":{\"outlinewidth\":0,\"ticks\":\"\"}},\"type\":\"scattergl\"}],\"scattermapbox\":[{\"marker\":{\"colorbar\":{\"outlinewidth\":0,\"ticks\":\"\"}},\"type\":\"scattermapbox\"}],\"scatterpolar\":[{\"marker\":{\"colorbar\":{\"outlinewidth\":0,\"ticks\":\"\"}},\"type\":\"scatterpolar\"}],\"scatterpolargl\":[{\"marker\":{\"colorbar\":{\"outlinewidth\":0,\"ticks\":\"\"}},\"type\":\"scatterpolargl\"}],\"scatterternary\":[{\"marker\":{\"colorbar\":{\"outlinewidth\":0,\"ticks\":\"\"}},\"type\":\"scatterternary\"}],\"surface\":[{\"colorbar\":{\"outlinewidth\":0,\"ticks\":\"\"},\"colorscale\":[[0.0,\"#0d0887\"],[0.1111111111111111,\"#46039f\"],[0.2222222222222222,\"#7201a8\"],[0.3333333333333333,\"#9c179e\"],[0.4444444444444444,\"#bd3786\"],[0.5555555555555556,\"#d8576b\"],[0.6666666666666666,\"#ed7953\"],[0.7777777777777778,\"#fb9f3a\"],[0.8888888888888888,\"#fdca26\"],[1.0,\"#f0f921\"]],\"type\":\"surface\"}],\"table\":[{\"cells\":{\"fill\":{\"color\":\"#EBF0F8\"},\"line\":{\"color\":\"white\"}},\"header\":{\"fill\":{\"color\":\"#C8D4E3\"},\"line\":{\"color\":\"white\"}},\"type\":\"table\"}]},\"layout\":{\"annotationdefaults\":{\"arrowcolor\":\"#2a3f5f\",\"arrowhead\":0,\"arrowwidth\":1},\"autotypenumbers\":\"strict\",\"coloraxis\":{\"colorbar\":{\"outlinewidth\":0,\"ticks\":\"\"}},\"colorscale\":{\"diverging\":[[0,\"#8e0152\"],[0.1,\"#c51b7d\"],[0.2,\"#de77ae\"],[0.3,\"#f1b6da\"],[0.4,\"#fde0ef\"],[0.5,\"#f7f7f7\"],[0.6,\"#e6f5d0\"],[0.7,\"#b8e186\"],[0.8,\"#7fbc41\"],[0.9,\"#4d9221\"],[1,\"#276419\"]],\"sequential\":[[0.0,\"#0d0887\"],[0.1111111111111111,\"#46039f\"],[0.2222222222222222,\"#7201a8\"],[0.3333333333333333,\"#9c179e\"],[0.4444444444444444,\"#bd3786\"],[0.5555555555555556,\"#d8576b\"],[0.6666666666666666,\"#ed7953\"],[0.7777777777777778,\"#fb9f3a\"],[0.8888888888888888,\"#fdca26\"],[1.0,\"#f0f921\"]],\"sequentialminus\":[[0.0,\"#0d0887\"],[0.1111111111111111,\"#46039f\"],[0.2222222222222222,\"#7201a8\"],[0.3333333333333333,\"#9c179e\"],[0.4444444444444444,\"#bd3786\"],[0.5555555555555556,\"#d8576b\"],[0.6666666666666666,\"#ed7953\"],[0.7777777777777778,\"#fb9f3a\"],[0.8888888888888888,\"#fdca26\"],[1.0,\"#f0f921\"]]},\"colorway\":[\"#636efa\",\"#EF553B\",\"#00cc96\",\"#ab63fa\",\"#FFA15A\",\"#19d3f3\",\"#FF6692\",\"#B6E880\",\"#FF97FF\",\"#FECB52\"],\"font\":{\"color\":\"#2a3f5f\"},\"geo\":{\"bgcolor\":\"white\",\"lakecolor\":\"white\",\"landcolor\":\"#E5ECF6\",\"showlakes\":true,\"showland\":true,\"subunitcolor\":\"white\"},\"hoverlabel\":{\"align\":\"left\"},\"hovermode\":\"closest\",\"mapbox\":{\"style\":\"light\"},\"paper_bgcolor\":\"white\",\"plot_bgcolor\":\"#E5ECF6\",\"polar\":{\"angularaxis\":{\"gridcolor\":\"white\",\"linecolor\":\"white\",\"ticks\":\"\"},\"bgcolor\":\"#E5ECF6\",\"radialaxis\":{\"gridcolor\":\"white\",\"linecolor\":\"white\",\"ticks\":\"\"}},\"scene\":{\"xaxis\":{\"backgroundcolor\":\"#E5ECF6\",\"gridcolor\":\"white\",\"gridwidth\":2,\"linecolor\":\"white\",\"showbackground\":true,\"ticks\":\"\",\"zerolinecolor\":\"white\"},\"yaxis\":{\"backgroundcolor\":\"#E5ECF6\",\"gridcolor\":\"white\",\"gridwidth\":2,\"linecolor\":\"white\",\"showbackground\":true,\"ticks\":\"\",\"zerolinecolor\":\"white\"},\"zaxis\":{\"backgroundcolor\":\"#E5ECF6\",\"gridcolor\":\"white\",\"gridwidth\":2,\"linecolor\":\"white\",\"showbackground\":true,\"ticks\":\"\",\"zerolinecolor\":\"white\"}},\"shapedefaults\":{\"line\":{\"color\":\"#2a3f5f\"}},\"ternary\":{\"aaxis\":{\"gridcolor\":\"white\",\"linecolor\":\"white\",\"ticks\":\"\"},\"baxis\":{\"gridcolor\":\"white\",\"linecolor\":\"white\",\"ticks\":\"\"},\"bgcolor\":\"#E5ECF6\",\"caxis\":{\"gridcolor\":\"white\",\"linecolor\":\"white\",\"ticks\":\"\"}},\"title\":{\"x\":0.05},\"xaxis\":{\"automargin\":true,\"gridcolor\":\"white\",\"linecolor\":\"white\",\"ticks\":\"\",\"title\":{\"standoff\":15},\"zerolinecolor\":\"white\",\"zerolinewidth\":2},\"yaxis\":{\"automargin\":true,\"gridcolor\":\"white\",\"linecolor\":\"white\",\"ticks\":\"\",\"title\":{\"standoff\":15},\"zerolinecolor\":\"white\",\"zerolinewidth\":2}}},\"title\":{\"text\":\"Battery Ranknig of Electric Cars\"},\"xaxis\":{\"anchor\":\"y\",\"domain\":[0.0,1.0],\"title\":{\"text\":\"Name\"}},\"yaxis\":{\"anchor\":\"x\",\"domain\":[0.0,1.0],\"title\":{\"text\":\"Battery(kwh)\"}}},                        {\"responsive\": true}                    ).then(function(){\n",
       "                            \n",
       "var gd = document.getElementById('2dc4e2c9-e99a-42d3-8e79-f9badfccb21c');\n",
       "var x = new MutationObserver(function (mutations, observer) {{\n",
       "        var display = window.getComputedStyle(gd).display;\n",
       "        if (!display || display === 'none') {{\n",
       "            console.log([gd, 'removed!']);\n",
       "            Plotly.purge(gd);\n",
       "            observer.disconnect();\n",
       "        }}\n",
       "}});\n",
       "\n",
       "// Listen for the removal of the full notebook cells\n",
       "var notebookContainer = gd.closest('#notebook-container');\n",
       "if (notebookContainer) {{\n",
       "    x.observe(notebookContainer, {childList: true});\n",
       "}}\n",
       "\n",
       "// Listen for the clearing of the current output cell\n",
       "var outputEl = gd.closest('.output');\n",
       "if (outputEl) {{\n",
       "    x.observe(outputEl, {childList: true});\n",
       "}}\n",
       "\n",
       "                        })                };                });            </script>        </div>"
      ]
     },
     "metadata": {},
     "output_type": "display_data"
    }
   ],
   "source": [
    "fig = px.bar(data2b[0:40], x='Name', y='Battery(kwh)',title=\"Battery Ranknig of Electric Cars\")\n",
    "fig.show()"
   ]
  },
  {
   "cell_type": "code",
   "execution_count": 22,
   "metadata": {
    "execution": {
     "iopub.execute_input": "2021-08-31T08:24:12.991759Z",
     "iopub.status.busy": "2021-08-31T08:24:12.990766Z",
     "iopub.status.idle": "2021-08-31T08:24:13.023428Z",
     "shell.execute_reply": "2021-08-31T08:24:13.023923Z",
     "shell.execute_reply.started": "2021-08-31T08:19:26.907374Z"
    },
    "papermill": {
     "duration": 0.101403,
     "end_time": "2021-08-31T08:24:13.024072",
     "exception": false,
     "start_time": "2021-08-31T08:24:12.922669",
     "status": "completed"
    },
    "tags": []
   },
   "outputs": [
    {
     "name": "stderr",
     "output_type": "stream",
     "text": [
      "/opt/conda/lib/python3.7/site-packages/ipykernel_launcher.py:2: SettingWithCopyWarning:\n",
      "\n",
      "\n",
      "A value is trying to be set on a copy of a slice from a DataFrame.\n",
      "Try using .loc[row_indexer,col_indexer] = value instead\n",
      "\n",
      "See the caveats in the documentation: https://pandas.pydata.org/pandas-docs/stable/user_guide/indexing.html#returning-a-view-versus-a-copy\n",
      "\n"
     ]
    },
    {
     "data": {
      "text/html": [
       "<div>\n",
       "<style scoped>\n",
       "    .dataframe tbody tr th:only-of-type {\n",
       "        vertical-align: middle;\n",
       "    }\n",
       "\n",
       "    .dataframe tbody tr th {\n",
       "        vertical-align: top;\n",
       "    }\n",
       "\n",
       "    .dataframe thead th {\n",
       "        text-align: right;\n",
       "    }\n",
       "</style>\n",
       "<table border=\"1\" class=\"dataframe\">\n",
       "  <thead>\n",
       "    <tr style=\"text-align: right;\">\n",
       "      <th></th>\n",
       "      <th>Name</th>\n",
       "      <th>Range</th>\n",
       "      <th>Range(km)</th>\n",
       "    </tr>\n",
       "  </thead>\n",
       "  <tbody>\n",
       "    <tr>\n",
       "      <th>157</th>\n",
       "      <td>Tesla Roadster</td>\n",
       "      <td>970 km</td>\n",
       "      <td>970</td>\n",
       "    </tr>\n",
       "    <tr>\n",
       "      <th>146</th>\n",
       "      <td>Tesla Cybertruck Tri Motor</td>\n",
       "      <td>750 km</td>\n",
       "      <td>750</td>\n",
       "    </tr>\n",
       "    <tr>\n",
       "      <th>69</th>\n",
       "      <td>Lucid Air Grand Touring</td>\n",
       "      <td>660 km</td>\n",
       "      <td>660</td>\n",
       "    </tr>\n",
       "    <tr>\n",
       "      <th>84</th>\n",
       "      <td>Mercedes EQS 450+</td>\n",
       "      <td>640 km</td>\n",
       "      <td>640</td>\n",
       "    </tr>\n",
       "    <tr>\n",
       "      <th>85</th>\n",
       "      <td>Mercedes EQS 580 4MATIC</td>\n",
       "      <td>610 km</td>\n",
       "      <td>610</td>\n",
       "    </tr>\n",
       "    <tr>\n",
       "      <th>...</th>\n",
       "      <td>...</td>\n",
       "      <td>...</td>\n",
       "      <td>...</td>\n",
       "    </tr>\n",
       "    <tr>\n",
       "      <th>127</th>\n",
       "      <td>Renault Kangoo Maxi ZE 33</td>\n",
       "      <td>160 km</td>\n",
       "      <td>160</td>\n",
       "    </tr>\n",
       "    <tr>\n",
       "      <th>129</th>\n",
       "      <td>Renault Twingo Electric</td>\n",
       "      <td>130 km</td>\n",
       "      <td>130</td>\n",
       "    </tr>\n",
       "    <tr>\n",
       "      <th>142</th>\n",
       "      <td>Smart EQ fortwo coupe</td>\n",
       "      <td>100 km</td>\n",
       "      <td>100</td>\n",
       "    </tr>\n",
       "    <tr>\n",
       "      <th>141</th>\n",
       "      <td>Smart EQ fortwo cabrio</td>\n",
       "      <td>95 km</td>\n",
       "      <td>95</td>\n",
       "    </tr>\n",
       "    <tr>\n",
       "      <th>140</th>\n",
       "      <td>Smart EQ forfour</td>\n",
       "      <td>95 km</td>\n",
       "      <td>95</td>\n",
       "    </tr>\n",
       "  </tbody>\n",
       "</table>\n",
       "<p>174 rows × 3 columns</p>\n",
       "</div>"
      ],
      "text/plain": [
       "                           Name   Range  Range(km)\n",
       "157             Tesla Roadster   970 km        970\n",
       "146  Tesla Cybertruck Tri Motor  750 km        750\n",
       "69      Lucid Air Grand Touring  660 km        660\n",
       "84            Mercedes EQS 450+  640 km        640\n",
       "85      Mercedes EQS 580 4MATIC  610 km        610\n",
       "..                          ...     ...        ...\n",
       "127   Renault Kangoo Maxi ZE 33  160 km        160\n",
       "129     Renault Twingo Electric  130 km        130\n",
       "142       Smart EQ fortwo coupe  100 km        100\n",
       "141      Smart EQ fortwo cabrio   95 km         95\n",
       "140           Smart EQ forfour    95 km         95\n",
       "\n",
       "[174 rows x 3 columns]"
      ]
     },
     "execution_count": 22,
     "metadata": {},
     "output_type": "execute_result"
    }
   ],
   "source": [
    "data2c=data00[['Name','Range']]\n",
    "data2c['Range(km)']=data1['Range']\n",
    "data2c=data2c.groupby('Name',as_index=False).max()\n",
    "data2c=data2c.sort_values('Range(km)',ascending=False)\n",
    "data2c"
   ]
  },
  {
   "cell_type": "code",
   "execution_count": 23,
   "metadata": {
    "execution": {
     "iopub.execute_input": "2021-08-31T08:24:13.148733Z",
     "iopub.status.busy": "2021-08-31T08:24:13.147805Z",
     "iopub.status.idle": "2021-08-31T08:24:13.208506Z",
     "shell.execute_reply": "2021-08-31T08:24:13.208976Z",
     "shell.execute_reply.started": "2021-08-31T08:19:26.956801Z"
    },
    "papermill": {
     "duration": 0.125761,
     "end_time": "2021-08-31T08:24:13.209151",
     "exception": false,
     "start_time": "2021-08-31T08:24:13.083390",
     "status": "completed"
    },
    "tags": []
   },
   "outputs": [
    {
     "data": {
      "text/html": [
       "<div>                            <div id=\"52a755ac-6b72-40b6-8349-a8d1092686e7\" class=\"plotly-graph-div\" style=\"height:525px; width:100%;\"></div>            <script type=\"text/javascript\">                require([\"plotly\"], function(Plotly) {                    window.PLOTLYENV=window.PLOTLYENV || {};                                    if (document.getElementById(\"52a755ac-6b72-40b6-8349-a8d1092686e7\")) {                    Plotly.newPlot(                        \"52a755ac-6b72-40b6-8349-a8d1092686e7\",                        [{\"alignmentgroup\":\"True\",\"hovertemplate\":\"Name=%{x}<br>Range(km)=%{y}<extra></extra>\",\"legendgroup\":\"\",\"marker\":{\"color\":\"#636efa\",\"pattern\":{\"shape\":\"\"}},\"name\":\"\",\"offsetgroup\":\"\",\"orientation\":\"v\",\"showlegend\":false,\"textposition\":\"auto\",\"type\":\"bar\",\"x\":[\"Tesla Roadster \",\"Tesla Cybertruck Tri Motor\",\"Lucid Air Grand Touring\",\"Mercedes EQS 450+\",\"Mercedes EQS 580 4MATIC\",\"Lightyear One \",\"Tesla Model S Long Range\",\"Lucid Air Pure\",\"Tesla Model S Plaid\",\"Lucid Air Touring\",\"BMW iX xDrive50\",\"Tesla Model 3 Long Range Dual Motor\",\"Tesla Model X Long Range\",\"BMW i4 eDrive40\",\"Tesla Model 3 Performance\",\"Porsche Taycan Plus\",\"Tesla Cybertruck Dual Motor\",\"Tesla Model X Plaid\",\"Volkswagen ID.3 Pro S\",\"BMW i4 M50\",\"CUPRA Born 170 kW - 82 kWh\",\"Tesla Model Y Long Range Dual Motor\",\"Nissan Ariya 87kWh\",\"Ford Mustang Mach-E ER RWD\",\"Porsche Taycan 4S Plus\",\"Tesla Model Y Performance\",\"Polestar 2 Long Range Single Motor\",\"Audi Q4 Sportback e-tron 40\",\"Kia EV6 Long Range 2WD\",\"Ford Mustang Mach-E ER AWD\",\"Skoda Enyaq iV 80\",\"Nissan Ariya e-4ORCE 87kWh\",\"Audi e-tron GT quattro\",\"Ford Mustang Mach-E GT\",\"Kia EV6 Long Range AWD\",\"Volkswagen ID.4 1st\",\"Volkswagen ID.4 Pro Performance\",\"Porsche Taycan 4S Cross Turismo\",\"Skoda Enyaq iV 80X\",\"Audi Q4 e-tron 40\"],\"xaxis\":\"x\",\"y\":[970,750,660,640,610,575,555,540,535,530,505,490,475,475,470,460,460,455,450,450,450,450,445,440,435,430,425,425,420,420,420,420,420,410,410,410,410,405,405,405],\"yaxis\":\"y\"}],                        {\"barmode\":\"relative\",\"legend\":{\"tracegroupgap\":0},\"template\":{\"data\":{\"bar\":[{\"error_x\":{\"color\":\"#2a3f5f\"},\"error_y\":{\"color\":\"#2a3f5f\"},\"marker\":{\"line\":{\"color\":\"#E5ECF6\",\"width\":0.5},\"pattern\":{\"fillmode\":\"overlay\",\"size\":10,\"solidity\":0.2}},\"type\":\"bar\"}],\"barpolar\":[{\"marker\":{\"line\":{\"color\":\"#E5ECF6\",\"width\":0.5},\"pattern\":{\"fillmode\":\"overlay\",\"size\":10,\"solidity\":0.2}},\"type\":\"barpolar\"}],\"carpet\":[{\"aaxis\":{\"endlinecolor\":\"#2a3f5f\",\"gridcolor\":\"white\",\"linecolor\":\"white\",\"minorgridcolor\":\"white\",\"startlinecolor\":\"#2a3f5f\"},\"baxis\":{\"endlinecolor\":\"#2a3f5f\",\"gridcolor\":\"white\",\"linecolor\":\"white\",\"minorgridcolor\":\"white\",\"startlinecolor\":\"#2a3f5f\"},\"type\":\"carpet\"}],\"choropleth\":[{\"colorbar\":{\"outlinewidth\":0,\"ticks\":\"\"},\"type\":\"choropleth\"}],\"contour\":[{\"colorbar\":{\"outlinewidth\":0,\"ticks\":\"\"},\"colorscale\":[[0.0,\"#0d0887\"],[0.1111111111111111,\"#46039f\"],[0.2222222222222222,\"#7201a8\"],[0.3333333333333333,\"#9c179e\"],[0.4444444444444444,\"#bd3786\"],[0.5555555555555556,\"#d8576b\"],[0.6666666666666666,\"#ed7953\"],[0.7777777777777778,\"#fb9f3a\"],[0.8888888888888888,\"#fdca26\"],[1.0,\"#f0f921\"]],\"type\":\"contour\"}],\"contourcarpet\":[{\"colorbar\":{\"outlinewidth\":0,\"ticks\":\"\"},\"type\":\"contourcarpet\"}],\"heatmap\":[{\"colorbar\":{\"outlinewidth\":0,\"ticks\":\"\"},\"colorscale\":[[0.0,\"#0d0887\"],[0.1111111111111111,\"#46039f\"],[0.2222222222222222,\"#7201a8\"],[0.3333333333333333,\"#9c179e\"],[0.4444444444444444,\"#bd3786\"],[0.5555555555555556,\"#d8576b\"],[0.6666666666666666,\"#ed7953\"],[0.7777777777777778,\"#fb9f3a\"],[0.8888888888888888,\"#fdca26\"],[1.0,\"#f0f921\"]],\"type\":\"heatmap\"}],\"heatmapgl\":[{\"colorbar\":{\"outlinewidth\":0,\"ticks\":\"\"},\"colorscale\":[[0.0,\"#0d0887\"],[0.1111111111111111,\"#46039f\"],[0.2222222222222222,\"#7201a8\"],[0.3333333333333333,\"#9c179e\"],[0.4444444444444444,\"#bd3786\"],[0.5555555555555556,\"#d8576b\"],[0.6666666666666666,\"#ed7953\"],[0.7777777777777778,\"#fb9f3a\"],[0.8888888888888888,\"#fdca26\"],[1.0,\"#f0f921\"]],\"type\":\"heatmapgl\"}],\"histogram\":[{\"marker\":{\"pattern\":{\"fillmode\":\"overlay\",\"size\":10,\"solidity\":0.2}},\"type\":\"histogram\"}],\"histogram2d\":[{\"colorbar\":{\"outlinewidth\":0,\"ticks\":\"\"},\"colorscale\":[[0.0,\"#0d0887\"],[0.1111111111111111,\"#46039f\"],[0.2222222222222222,\"#7201a8\"],[0.3333333333333333,\"#9c179e\"],[0.4444444444444444,\"#bd3786\"],[0.5555555555555556,\"#d8576b\"],[0.6666666666666666,\"#ed7953\"],[0.7777777777777778,\"#fb9f3a\"],[0.8888888888888888,\"#fdca26\"],[1.0,\"#f0f921\"]],\"type\":\"histogram2d\"}],\"histogram2dcontour\":[{\"colorbar\":{\"outlinewidth\":0,\"ticks\":\"\"},\"colorscale\":[[0.0,\"#0d0887\"],[0.1111111111111111,\"#46039f\"],[0.2222222222222222,\"#7201a8\"],[0.3333333333333333,\"#9c179e\"],[0.4444444444444444,\"#bd3786\"],[0.5555555555555556,\"#d8576b\"],[0.6666666666666666,\"#ed7953\"],[0.7777777777777778,\"#fb9f3a\"],[0.8888888888888888,\"#fdca26\"],[1.0,\"#f0f921\"]],\"type\":\"histogram2dcontour\"}],\"mesh3d\":[{\"colorbar\":{\"outlinewidth\":0,\"ticks\":\"\"},\"type\":\"mesh3d\"}],\"parcoords\":[{\"line\":{\"colorbar\":{\"outlinewidth\":0,\"ticks\":\"\"}},\"type\":\"parcoords\"}],\"pie\":[{\"automargin\":true,\"type\":\"pie\"}],\"scatter\":[{\"marker\":{\"colorbar\":{\"outlinewidth\":0,\"ticks\":\"\"}},\"type\":\"scatter\"}],\"scatter3d\":[{\"line\":{\"colorbar\":{\"outlinewidth\":0,\"ticks\":\"\"}},\"marker\":{\"colorbar\":{\"outlinewidth\":0,\"ticks\":\"\"}},\"type\":\"scatter3d\"}],\"scattercarpet\":[{\"marker\":{\"colorbar\":{\"outlinewidth\":0,\"ticks\":\"\"}},\"type\":\"scattercarpet\"}],\"scattergeo\":[{\"marker\":{\"colorbar\":{\"outlinewidth\":0,\"ticks\":\"\"}},\"type\":\"scattergeo\"}],\"scattergl\":[{\"marker\":{\"colorbar\":{\"outlinewidth\":0,\"ticks\":\"\"}},\"type\":\"scattergl\"}],\"scattermapbox\":[{\"marker\":{\"colorbar\":{\"outlinewidth\":0,\"ticks\":\"\"}},\"type\":\"scattermapbox\"}],\"scatterpolar\":[{\"marker\":{\"colorbar\":{\"outlinewidth\":0,\"ticks\":\"\"}},\"type\":\"scatterpolar\"}],\"scatterpolargl\":[{\"marker\":{\"colorbar\":{\"outlinewidth\":0,\"ticks\":\"\"}},\"type\":\"scatterpolargl\"}],\"scatterternary\":[{\"marker\":{\"colorbar\":{\"outlinewidth\":0,\"ticks\":\"\"}},\"type\":\"scatterternary\"}],\"surface\":[{\"colorbar\":{\"outlinewidth\":0,\"ticks\":\"\"},\"colorscale\":[[0.0,\"#0d0887\"],[0.1111111111111111,\"#46039f\"],[0.2222222222222222,\"#7201a8\"],[0.3333333333333333,\"#9c179e\"],[0.4444444444444444,\"#bd3786\"],[0.5555555555555556,\"#d8576b\"],[0.6666666666666666,\"#ed7953\"],[0.7777777777777778,\"#fb9f3a\"],[0.8888888888888888,\"#fdca26\"],[1.0,\"#f0f921\"]],\"type\":\"surface\"}],\"table\":[{\"cells\":{\"fill\":{\"color\":\"#EBF0F8\"},\"line\":{\"color\":\"white\"}},\"header\":{\"fill\":{\"color\":\"#C8D4E3\"},\"line\":{\"color\":\"white\"}},\"type\":\"table\"}]},\"layout\":{\"annotationdefaults\":{\"arrowcolor\":\"#2a3f5f\",\"arrowhead\":0,\"arrowwidth\":1},\"autotypenumbers\":\"strict\",\"coloraxis\":{\"colorbar\":{\"outlinewidth\":0,\"ticks\":\"\"}},\"colorscale\":{\"diverging\":[[0,\"#8e0152\"],[0.1,\"#c51b7d\"],[0.2,\"#de77ae\"],[0.3,\"#f1b6da\"],[0.4,\"#fde0ef\"],[0.5,\"#f7f7f7\"],[0.6,\"#e6f5d0\"],[0.7,\"#b8e186\"],[0.8,\"#7fbc41\"],[0.9,\"#4d9221\"],[1,\"#276419\"]],\"sequential\":[[0.0,\"#0d0887\"],[0.1111111111111111,\"#46039f\"],[0.2222222222222222,\"#7201a8\"],[0.3333333333333333,\"#9c179e\"],[0.4444444444444444,\"#bd3786\"],[0.5555555555555556,\"#d8576b\"],[0.6666666666666666,\"#ed7953\"],[0.7777777777777778,\"#fb9f3a\"],[0.8888888888888888,\"#fdca26\"],[1.0,\"#f0f921\"]],\"sequentialminus\":[[0.0,\"#0d0887\"],[0.1111111111111111,\"#46039f\"],[0.2222222222222222,\"#7201a8\"],[0.3333333333333333,\"#9c179e\"],[0.4444444444444444,\"#bd3786\"],[0.5555555555555556,\"#d8576b\"],[0.6666666666666666,\"#ed7953\"],[0.7777777777777778,\"#fb9f3a\"],[0.8888888888888888,\"#fdca26\"],[1.0,\"#f0f921\"]]},\"colorway\":[\"#636efa\",\"#EF553B\",\"#00cc96\",\"#ab63fa\",\"#FFA15A\",\"#19d3f3\",\"#FF6692\",\"#B6E880\",\"#FF97FF\",\"#FECB52\"],\"font\":{\"color\":\"#2a3f5f\"},\"geo\":{\"bgcolor\":\"white\",\"lakecolor\":\"white\",\"landcolor\":\"#E5ECF6\",\"showlakes\":true,\"showland\":true,\"subunitcolor\":\"white\"},\"hoverlabel\":{\"align\":\"left\"},\"hovermode\":\"closest\",\"mapbox\":{\"style\":\"light\"},\"paper_bgcolor\":\"white\",\"plot_bgcolor\":\"#E5ECF6\",\"polar\":{\"angularaxis\":{\"gridcolor\":\"white\",\"linecolor\":\"white\",\"ticks\":\"\"},\"bgcolor\":\"#E5ECF6\",\"radialaxis\":{\"gridcolor\":\"white\",\"linecolor\":\"white\",\"ticks\":\"\"}},\"scene\":{\"xaxis\":{\"backgroundcolor\":\"#E5ECF6\",\"gridcolor\":\"white\",\"gridwidth\":2,\"linecolor\":\"white\",\"showbackground\":true,\"ticks\":\"\",\"zerolinecolor\":\"white\"},\"yaxis\":{\"backgroundcolor\":\"#E5ECF6\",\"gridcolor\":\"white\",\"gridwidth\":2,\"linecolor\":\"white\",\"showbackground\":true,\"ticks\":\"\",\"zerolinecolor\":\"white\"},\"zaxis\":{\"backgroundcolor\":\"#E5ECF6\",\"gridcolor\":\"white\",\"gridwidth\":2,\"linecolor\":\"white\",\"showbackground\":true,\"ticks\":\"\",\"zerolinecolor\":\"white\"}},\"shapedefaults\":{\"line\":{\"color\":\"#2a3f5f\"}},\"ternary\":{\"aaxis\":{\"gridcolor\":\"white\",\"linecolor\":\"white\",\"ticks\":\"\"},\"baxis\":{\"gridcolor\":\"white\",\"linecolor\":\"white\",\"ticks\":\"\"},\"bgcolor\":\"#E5ECF6\",\"caxis\":{\"gridcolor\":\"white\",\"linecolor\":\"white\",\"ticks\":\"\"}},\"title\":{\"x\":0.05},\"xaxis\":{\"automargin\":true,\"gridcolor\":\"white\",\"linecolor\":\"white\",\"ticks\":\"\",\"title\":{\"standoff\":15},\"zerolinecolor\":\"white\",\"zerolinewidth\":2},\"yaxis\":{\"automargin\":true,\"gridcolor\":\"white\",\"linecolor\":\"white\",\"ticks\":\"\",\"title\":{\"standoff\":15},\"zerolinecolor\":\"white\",\"zerolinewidth\":2}}},\"title\":{\"text\":\"Range Ranknig of Electric Cars\"},\"xaxis\":{\"anchor\":\"y\",\"domain\":[0.0,1.0],\"title\":{\"text\":\"Name\"}},\"yaxis\":{\"anchor\":\"x\",\"domain\":[0.0,1.0],\"title\":{\"text\":\"Range(km)\"}}},                        {\"responsive\": true}                    ).then(function(){\n",
       "                            \n",
       "var gd = document.getElementById('52a755ac-6b72-40b6-8349-a8d1092686e7');\n",
       "var x = new MutationObserver(function (mutations, observer) {{\n",
       "        var display = window.getComputedStyle(gd).display;\n",
       "        if (!display || display === 'none') {{\n",
       "            console.log([gd, 'removed!']);\n",
       "            Plotly.purge(gd);\n",
       "            observer.disconnect();\n",
       "        }}\n",
       "}});\n",
       "\n",
       "// Listen for the removal of the full notebook cells\n",
       "var notebookContainer = gd.closest('#notebook-container');\n",
       "if (notebookContainer) {{\n",
       "    x.observe(notebookContainer, {childList: true});\n",
       "}}\n",
       "\n",
       "// Listen for the clearing of the current output cell\n",
       "var outputEl = gd.closest('.output');\n",
       "if (outputEl) {{\n",
       "    x.observe(outputEl, {childList: true});\n",
       "}}\n",
       "\n",
       "                        })                };                });            </script>        </div>"
      ]
     },
     "metadata": {},
     "output_type": "display_data"
    }
   ],
   "source": [
    "fig = px.bar(data2c[0:40], x='Name', y='Range(km)',title=\"Range Ranknig of Electric Cars\")\n",
    "fig.show()"
   ]
  },
  {
   "cell_type": "code",
   "execution_count": 24,
   "metadata": {
    "execution": {
     "iopub.execute_input": "2021-08-31T08:24:13.332411Z",
     "iopub.status.busy": "2021-08-31T08:24:13.331448Z",
     "iopub.status.idle": "2021-08-31T08:24:13.370387Z",
     "shell.execute_reply": "2021-08-31T08:24:13.370917Z",
     "shell.execute_reply.started": "2021-08-31T08:19:27.030715Z"
    },
    "papermill": {
     "duration": 0.101774,
     "end_time": "2021-08-31T08:24:13.371083",
     "exception": false,
     "start_time": "2021-08-31T08:24:13.269309",
     "status": "completed"
    },
    "tags": []
   },
   "outputs": [
    {
     "name": "stderr",
     "output_type": "stream",
     "text": [
      "/opt/conda/lib/python3.7/site-packages/ipykernel_launcher.py:2: SettingWithCopyWarning:\n",
      "\n",
      "\n",
      "A value is trying to be set on a copy of a slice from a DataFrame.\n",
      "Try using .loc[row_indexer,col_indexer] = value instead\n",
      "\n",
      "See the caveats in the documentation: https://pandas.pydata.org/pandas-docs/stable/user_guide/indexing.html#returning-a-view-versus-a-copy\n",
      "\n"
     ]
    },
    {
     "data": {
      "text/html": [
       "<div>\n",
       "<style scoped>\n",
       "    .dataframe tbody tr th:only-of-type {\n",
       "        vertical-align: middle;\n",
       "    }\n",
       "\n",
       "    .dataframe tbody tr th {\n",
       "        vertical-align: top;\n",
       "    }\n",
       "\n",
       "    .dataframe thead th {\n",
       "        text-align: right;\n",
       "    }\n",
       "</style>\n",
       "<table border=\"1\" class=\"dataframe\">\n",
       "  <thead>\n",
       "    <tr style=\"text-align: right;\">\n",
       "      <th></th>\n",
       "      <th>Name</th>\n",
       "      <th>FastChargeSpeed</th>\n",
       "      <th>FastChargeSpeed(km/h)</th>\n",
       "    </tr>\n",
       "  </thead>\n",
       "  <tbody>\n",
       "    <tr>\n",
       "      <th>70</th>\n",
       "      <td>Lucid Air Pure</td>\n",
       "      <td>1410 km/h</td>\n",
       "      <td>1410</td>\n",
       "    </tr>\n",
       "    <tr>\n",
       "      <th>71</th>\n",
       "      <td>Lucid Air Touring</td>\n",
       "      <td>1390 km/h</td>\n",
       "      <td>1390</td>\n",
       "    </tr>\n",
       "    <tr>\n",
       "      <th>69</th>\n",
       "      <td>Lucid Air Grand Touring</td>\n",
       "      <td>1380 km/h</td>\n",
       "      <td>1380</td>\n",
       "    </tr>\n",
       "    <tr>\n",
       "      <th>60</th>\n",
       "      <td>Kia EV6 Long Range 2WD</td>\n",
       "      <td>980 km/h</td>\n",
       "      <td>980</td>\n",
       "    </tr>\n",
       "    <tr>\n",
       "      <th>122</th>\n",
       "      <td>Porsche Taycan Plus</td>\n",
       "      <td>960 km/h</td>\n",
       "      <td>960</td>\n",
       "    </tr>\n",
       "    <tr>\n",
       "      <th>...</th>\n",
       "      <td>...</td>\n",
       "      <td>...</td>\n",
       "      <td>...</td>\n",
       "    </tr>\n",
       "    <tr>\n",
       "      <th>127</th>\n",
       "      <td>Renault Kangoo Maxi ZE 33</td>\n",
       "      <td>-</td>\n",
       "      <td>0</td>\n",
       "    </tr>\n",
       "    <tr>\n",
       "      <th>141</th>\n",
       "      <td>Smart EQ fortwo cabrio</td>\n",
       "      <td>-</td>\n",
       "      <td>0</td>\n",
       "    </tr>\n",
       "    <tr>\n",
       "      <th>140</th>\n",
       "      <td>Smart EQ forfour</td>\n",
       "      <td>-</td>\n",
       "      <td>0</td>\n",
       "    </tr>\n",
       "    <tr>\n",
       "      <th>129</th>\n",
       "      <td>Renault Twingo Electric</td>\n",
       "      <td>-</td>\n",
       "      <td>0</td>\n",
       "    </tr>\n",
       "    <tr>\n",
       "      <th>142</th>\n",
       "      <td>Smart EQ fortwo coupe</td>\n",
       "      <td>-</td>\n",
       "      <td>0</td>\n",
       "    </tr>\n",
       "  </tbody>\n",
       "</table>\n",
       "<p>174 rows × 3 columns</p>\n",
       "</div>"
      ],
      "text/plain": [
       "                          Name FastChargeSpeed  FastChargeSpeed(km/h)\n",
       "70              Lucid Air Pure       1410 km/h                   1410\n",
       "71           Lucid Air Touring       1390 km/h                   1390\n",
       "69     Lucid Air Grand Touring       1380 km/h                   1380\n",
       "60      Kia EV6 Long Range 2WD        980 km/h                    980\n",
       "122        Porsche Taycan Plus        960 km/h                    960\n",
       "..                         ...             ...                    ...\n",
       "127  Renault Kangoo Maxi ZE 33               -                      0\n",
       "141     Smart EQ fortwo cabrio               -                      0\n",
       "140          Smart EQ forfour                -                      0\n",
       "129    Renault Twingo Electric               -                      0\n",
       "142      Smart EQ fortwo coupe               -                      0\n",
       "\n",
       "[174 rows x 3 columns]"
      ]
     },
     "execution_count": 24,
     "metadata": {},
     "output_type": "execute_result"
    }
   ],
   "source": [
    "data2d=data00[['Name','FastChargeSpeed']]\n",
    "data2d['FastChargeSpeed(km/h)']=data1['FastChargeSpeed']\n",
    "data2d=data2d.groupby('Name',as_index=False).max()\n",
    "data2d=data2d.sort_values('FastChargeSpeed(km/h)',ascending=False)\n",
    "data2d"
   ]
  },
  {
   "cell_type": "code",
   "execution_count": 25,
   "metadata": {
    "execution": {
     "iopub.execute_input": "2021-08-31T08:24:13.499845Z",
     "iopub.status.busy": "2021-08-31T08:24:13.498841Z",
     "iopub.status.idle": "2021-08-31T08:24:13.559588Z",
     "shell.execute_reply": "2021-08-31T08:24:13.560015Z",
     "shell.execute_reply.started": "2021-08-31T08:19:27.080372Z"
    },
    "papermill": {
     "duration": 0.12703,
     "end_time": "2021-08-31T08:24:13.560188",
     "exception": false,
     "start_time": "2021-08-31T08:24:13.433158",
     "status": "completed"
    },
    "tags": []
   },
   "outputs": [
    {
     "data": {
      "text/html": [
       "<div>                            <div id=\"872e9f11-9726-496b-8d27-e459230ab57d\" class=\"plotly-graph-div\" style=\"height:525px; width:100%;\"></div>            <script type=\"text/javascript\">                require([\"plotly\"], function(Plotly) {                    window.PLOTLYENV=window.PLOTLYENV || {};                                    if (document.getElementById(\"872e9f11-9726-496b-8d27-e459230ab57d\")) {                    Plotly.newPlot(                        \"872e9f11-9726-496b-8d27-e459230ab57d\",                        [{\"alignmentgroup\":\"True\",\"hovertemplate\":\"Name=%{x}<br>FastChargeSpeed(km/h)=%{y}<extra></extra>\",\"legendgroup\":\"\",\"marker\":{\"color\":\"#636efa\",\"pattern\":{\"shape\":\"\"}},\"name\":\"\",\"offsetgroup\":\"\",\"orientation\":\"v\",\"showlegend\":false,\"textposition\":\"auto\",\"type\":\"bar\",\"x\":[\"Lucid Air Pure\",\"Lucid Air Touring\",\"Lucid Air Grand Touring\",\"Kia EV6 Long Range 2WD\",\"Porsche Taycan Plus\",\"Kia EV6 Long Range AWD\",\"Tesla Roadster \",\"Kia EV6 GT\",\"Porsche Taycan 4S Plus\",\"Hyundai IONIQ 5 Long Range 2WD\",\"Hyundai IONIQ 5 Long Range AWD\",\"Porsche Taycan Turbo S\",\"Hyundai IONIQ 5 Project 45\",\"Porsche Taycan 4 Cross Turismo\",\"Porsche Taycan 4S Cross Turismo\",\"Audi e-tron GT quattro\",\"Porsche Taycan Turbo\",\"Mercedes EQS 450+\",\"Tesla Model S Long Range\",\"Tesla Model 3 Long Range Dual Motor\",\"Audi e-tron GT RS\",\"Tesla Model S Plaid\",\"Porsche Taycan Turbo Cross Turismo\",\"Mercedes EQS 580 4MATIC\",\"Porsche Taycan \",\"Tesla Model 3 Performance\",\"Porsche Taycan Turbo S Cross Turismo\",\"Tesla Model Y Long Range Dual Motor\",\"Porsche Taycan 4S\",\"Tesla Cybertruck Single Motor\",\"Kia EV6 Standard Range 2WD\",\"Tesla Model Y Performance\",\"Hyundai IONIQ 5 Standard Range 2WD\",\"Tesla Cybertruck Dual Motor\",\"Tesla Cybertruck Tri Motor\",\"Hyundai IONIQ 5 Standard Range AWD\",\"Tesla Model X Long Range\",\"Tesla Model X Plaid\",\"Tesla Model 3 Standard Range Plus\",\"BMW i4 eDrive40\"],\"xaxis\":\"x\",\"y\":[1410,1390,1380,980,960,950,920,920,910,890,870,860,860,850,850,840,840,840,830,820,810,800,800,800,790,790,790,750,750,740,740,720,720,710,710,710,710,680,680,660],\"yaxis\":\"y\"}],                        {\"barmode\":\"relative\",\"legend\":{\"tracegroupgap\":0},\"template\":{\"data\":{\"bar\":[{\"error_x\":{\"color\":\"#2a3f5f\"},\"error_y\":{\"color\":\"#2a3f5f\"},\"marker\":{\"line\":{\"color\":\"#E5ECF6\",\"width\":0.5},\"pattern\":{\"fillmode\":\"overlay\",\"size\":10,\"solidity\":0.2}},\"type\":\"bar\"}],\"barpolar\":[{\"marker\":{\"line\":{\"color\":\"#E5ECF6\",\"width\":0.5},\"pattern\":{\"fillmode\":\"overlay\",\"size\":10,\"solidity\":0.2}},\"type\":\"barpolar\"}],\"carpet\":[{\"aaxis\":{\"endlinecolor\":\"#2a3f5f\",\"gridcolor\":\"white\",\"linecolor\":\"white\",\"minorgridcolor\":\"white\",\"startlinecolor\":\"#2a3f5f\"},\"baxis\":{\"endlinecolor\":\"#2a3f5f\",\"gridcolor\":\"white\",\"linecolor\":\"white\",\"minorgridcolor\":\"white\",\"startlinecolor\":\"#2a3f5f\"},\"type\":\"carpet\"}],\"choropleth\":[{\"colorbar\":{\"outlinewidth\":0,\"ticks\":\"\"},\"type\":\"choropleth\"}],\"contour\":[{\"colorbar\":{\"outlinewidth\":0,\"ticks\":\"\"},\"colorscale\":[[0.0,\"#0d0887\"],[0.1111111111111111,\"#46039f\"],[0.2222222222222222,\"#7201a8\"],[0.3333333333333333,\"#9c179e\"],[0.4444444444444444,\"#bd3786\"],[0.5555555555555556,\"#d8576b\"],[0.6666666666666666,\"#ed7953\"],[0.7777777777777778,\"#fb9f3a\"],[0.8888888888888888,\"#fdca26\"],[1.0,\"#f0f921\"]],\"type\":\"contour\"}],\"contourcarpet\":[{\"colorbar\":{\"outlinewidth\":0,\"ticks\":\"\"},\"type\":\"contourcarpet\"}],\"heatmap\":[{\"colorbar\":{\"outlinewidth\":0,\"ticks\":\"\"},\"colorscale\":[[0.0,\"#0d0887\"],[0.1111111111111111,\"#46039f\"],[0.2222222222222222,\"#7201a8\"],[0.3333333333333333,\"#9c179e\"],[0.4444444444444444,\"#bd3786\"],[0.5555555555555556,\"#d8576b\"],[0.6666666666666666,\"#ed7953\"],[0.7777777777777778,\"#fb9f3a\"],[0.8888888888888888,\"#fdca26\"],[1.0,\"#f0f921\"]],\"type\":\"heatmap\"}],\"heatmapgl\":[{\"colorbar\":{\"outlinewidth\":0,\"ticks\":\"\"},\"colorscale\":[[0.0,\"#0d0887\"],[0.1111111111111111,\"#46039f\"],[0.2222222222222222,\"#7201a8\"],[0.3333333333333333,\"#9c179e\"],[0.4444444444444444,\"#bd3786\"],[0.5555555555555556,\"#d8576b\"],[0.6666666666666666,\"#ed7953\"],[0.7777777777777778,\"#fb9f3a\"],[0.8888888888888888,\"#fdca26\"],[1.0,\"#f0f921\"]],\"type\":\"heatmapgl\"}],\"histogram\":[{\"marker\":{\"pattern\":{\"fillmode\":\"overlay\",\"size\":10,\"solidity\":0.2}},\"type\":\"histogram\"}],\"histogram2d\":[{\"colorbar\":{\"outlinewidth\":0,\"ticks\":\"\"},\"colorscale\":[[0.0,\"#0d0887\"],[0.1111111111111111,\"#46039f\"],[0.2222222222222222,\"#7201a8\"],[0.3333333333333333,\"#9c179e\"],[0.4444444444444444,\"#bd3786\"],[0.5555555555555556,\"#d8576b\"],[0.6666666666666666,\"#ed7953\"],[0.7777777777777778,\"#fb9f3a\"],[0.8888888888888888,\"#fdca26\"],[1.0,\"#f0f921\"]],\"type\":\"histogram2d\"}],\"histogram2dcontour\":[{\"colorbar\":{\"outlinewidth\":0,\"ticks\":\"\"},\"colorscale\":[[0.0,\"#0d0887\"],[0.1111111111111111,\"#46039f\"],[0.2222222222222222,\"#7201a8\"],[0.3333333333333333,\"#9c179e\"],[0.4444444444444444,\"#bd3786\"],[0.5555555555555556,\"#d8576b\"],[0.6666666666666666,\"#ed7953\"],[0.7777777777777778,\"#fb9f3a\"],[0.8888888888888888,\"#fdca26\"],[1.0,\"#f0f921\"]],\"type\":\"histogram2dcontour\"}],\"mesh3d\":[{\"colorbar\":{\"outlinewidth\":0,\"ticks\":\"\"},\"type\":\"mesh3d\"}],\"parcoords\":[{\"line\":{\"colorbar\":{\"outlinewidth\":0,\"ticks\":\"\"}},\"type\":\"parcoords\"}],\"pie\":[{\"automargin\":true,\"type\":\"pie\"}],\"scatter\":[{\"marker\":{\"colorbar\":{\"outlinewidth\":0,\"ticks\":\"\"}},\"type\":\"scatter\"}],\"scatter3d\":[{\"line\":{\"colorbar\":{\"outlinewidth\":0,\"ticks\":\"\"}},\"marker\":{\"colorbar\":{\"outlinewidth\":0,\"ticks\":\"\"}},\"type\":\"scatter3d\"}],\"scattercarpet\":[{\"marker\":{\"colorbar\":{\"outlinewidth\":0,\"ticks\":\"\"}},\"type\":\"scattercarpet\"}],\"scattergeo\":[{\"marker\":{\"colorbar\":{\"outlinewidth\":0,\"ticks\":\"\"}},\"type\":\"scattergeo\"}],\"scattergl\":[{\"marker\":{\"colorbar\":{\"outlinewidth\":0,\"ticks\":\"\"}},\"type\":\"scattergl\"}],\"scattermapbox\":[{\"marker\":{\"colorbar\":{\"outlinewidth\":0,\"ticks\":\"\"}},\"type\":\"scattermapbox\"}],\"scatterpolar\":[{\"marker\":{\"colorbar\":{\"outlinewidth\":0,\"ticks\":\"\"}},\"type\":\"scatterpolar\"}],\"scatterpolargl\":[{\"marker\":{\"colorbar\":{\"outlinewidth\":0,\"ticks\":\"\"}},\"type\":\"scatterpolargl\"}],\"scatterternary\":[{\"marker\":{\"colorbar\":{\"outlinewidth\":0,\"ticks\":\"\"}},\"type\":\"scatterternary\"}],\"surface\":[{\"colorbar\":{\"outlinewidth\":0,\"ticks\":\"\"},\"colorscale\":[[0.0,\"#0d0887\"],[0.1111111111111111,\"#46039f\"],[0.2222222222222222,\"#7201a8\"],[0.3333333333333333,\"#9c179e\"],[0.4444444444444444,\"#bd3786\"],[0.5555555555555556,\"#d8576b\"],[0.6666666666666666,\"#ed7953\"],[0.7777777777777778,\"#fb9f3a\"],[0.8888888888888888,\"#fdca26\"],[1.0,\"#f0f921\"]],\"type\":\"surface\"}],\"table\":[{\"cells\":{\"fill\":{\"color\":\"#EBF0F8\"},\"line\":{\"color\":\"white\"}},\"header\":{\"fill\":{\"color\":\"#C8D4E3\"},\"line\":{\"color\":\"white\"}},\"type\":\"table\"}]},\"layout\":{\"annotationdefaults\":{\"arrowcolor\":\"#2a3f5f\",\"arrowhead\":0,\"arrowwidth\":1},\"autotypenumbers\":\"strict\",\"coloraxis\":{\"colorbar\":{\"outlinewidth\":0,\"ticks\":\"\"}},\"colorscale\":{\"diverging\":[[0,\"#8e0152\"],[0.1,\"#c51b7d\"],[0.2,\"#de77ae\"],[0.3,\"#f1b6da\"],[0.4,\"#fde0ef\"],[0.5,\"#f7f7f7\"],[0.6,\"#e6f5d0\"],[0.7,\"#b8e186\"],[0.8,\"#7fbc41\"],[0.9,\"#4d9221\"],[1,\"#276419\"]],\"sequential\":[[0.0,\"#0d0887\"],[0.1111111111111111,\"#46039f\"],[0.2222222222222222,\"#7201a8\"],[0.3333333333333333,\"#9c179e\"],[0.4444444444444444,\"#bd3786\"],[0.5555555555555556,\"#d8576b\"],[0.6666666666666666,\"#ed7953\"],[0.7777777777777778,\"#fb9f3a\"],[0.8888888888888888,\"#fdca26\"],[1.0,\"#f0f921\"]],\"sequentialminus\":[[0.0,\"#0d0887\"],[0.1111111111111111,\"#46039f\"],[0.2222222222222222,\"#7201a8\"],[0.3333333333333333,\"#9c179e\"],[0.4444444444444444,\"#bd3786\"],[0.5555555555555556,\"#d8576b\"],[0.6666666666666666,\"#ed7953\"],[0.7777777777777778,\"#fb9f3a\"],[0.8888888888888888,\"#fdca26\"],[1.0,\"#f0f921\"]]},\"colorway\":[\"#636efa\",\"#EF553B\",\"#00cc96\",\"#ab63fa\",\"#FFA15A\",\"#19d3f3\",\"#FF6692\",\"#B6E880\",\"#FF97FF\",\"#FECB52\"],\"font\":{\"color\":\"#2a3f5f\"},\"geo\":{\"bgcolor\":\"white\",\"lakecolor\":\"white\",\"landcolor\":\"#E5ECF6\",\"showlakes\":true,\"showland\":true,\"subunitcolor\":\"white\"},\"hoverlabel\":{\"align\":\"left\"},\"hovermode\":\"closest\",\"mapbox\":{\"style\":\"light\"},\"paper_bgcolor\":\"white\",\"plot_bgcolor\":\"#E5ECF6\",\"polar\":{\"angularaxis\":{\"gridcolor\":\"white\",\"linecolor\":\"white\",\"ticks\":\"\"},\"bgcolor\":\"#E5ECF6\",\"radialaxis\":{\"gridcolor\":\"white\",\"linecolor\":\"white\",\"ticks\":\"\"}},\"scene\":{\"xaxis\":{\"backgroundcolor\":\"#E5ECF6\",\"gridcolor\":\"white\",\"gridwidth\":2,\"linecolor\":\"white\",\"showbackground\":true,\"ticks\":\"\",\"zerolinecolor\":\"white\"},\"yaxis\":{\"backgroundcolor\":\"#E5ECF6\",\"gridcolor\":\"white\",\"gridwidth\":2,\"linecolor\":\"white\",\"showbackground\":true,\"ticks\":\"\",\"zerolinecolor\":\"white\"},\"zaxis\":{\"backgroundcolor\":\"#E5ECF6\",\"gridcolor\":\"white\",\"gridwidth\":2,\"linecolor\":\"white\",\"showbackground\":true,\"ticks\":\"\",\"zerolinecolor\":\"white\"}},\"shapedefaults\":{\"line\":{\"color\":\"#2a3f5f\"}},\"ternary\":{\"aaxis\":{\"gridcolor\":\"white\",\"linecolor\":\"white\",\"ticks\":\"\"},\"baxis\":{\"gridcolor\":\"white\",\"linecolor\":\"white\",\"ticks\":\"\"},\"bgcolor\":\"#E5ECF6\",\"caxis\":{\"gridcolor\":\"white\",\"linecolor\":\"white\",\"ticks\":\"\"}},\"title\":{\"x\":0.05},\"xaxis\":{\"automargin\":true,\"gridcolor\":\"white\",\"linecolor\":\"white\",\"ticks\":\"\",\"title\":{\"standoff\":15},\"zerolinecolor\":\"white\",\"zerolinewidth\":2},\"yaxis\":{\"automargin\":true,\"gridcolor\":\"white\",\"linecolor\":\"white\",\"ticks\":\"\",\"title\":{\"standoff\":15},\"zerolinecolor\":\"white\",\"zerolinewidth\":2}}},\"title\":{\"text\":\"FastChargeSpeed Ranknig of Electric Cars\"},\"xaxis\":{\"anchor\":\"y\",\"domain\":[0.0,1.0],\"title\":{\"text\":\"Name\"}},\"yaxis\":{\"anchor\":\"x\",\"domain\":[0.0,1.0],\"title\":{\"text\":\"FastChargeSpeed(km/h)\"}}},                        {\"responsive\": true}                    ).then(function(){\n",
       "                            \n",
       "var gd = document.getElementById('872e9f11-9726-496b-8d27-e459230ab57d');\n",
       "var x = new MutationObserver(function (mutations, observer) {{\n",
       "        var display = window.getComputedStyle(gd).display;\n",
       "        if (!display || display === 'none') {{\n",
       "            console.log([gd, 'removed!']);\n",
       "            Plotly.purge(gd);\n",
       "            observer.disconnect();\n",
       "        }}\n",
       "}});\n",
       "\n",
       "// Listen for the removal of the full notebook cells\n",
       "var notebookContainer = gd.closest('#notebook-container');\n",
       "if (notebookContainer) {{\n",
       "    x.observe(notebookContainer, {childList: true});\n",
       "}}\n",
       "\n",
       "// Listen for the clearing of the current output cell\n",
       "var outputEl = gd.closest('.output');\n",
       "if (outputEl) {{\n",
       "    x.observe(outputEl, {childList: true});\n",
       "}}\n",
       "\n",
       "                        })                };                });            </script>        </div>"
      ]
     },
     "metadata": {},
     "output_type": "display_data"
    }
   ],
   "source": [
    "fig = px.bar(data2d[0:40], x='Name', y='FastChargeSpeed(km/h)',title=\"FastChargeSpeed Ranknig of Electric Cars\")\n",
    "fig.show()"
   ]
  },
  {
   "cell_type": "markdown",
   "metadata": {
    "papermill": {
     "duration": 0.060598,
     "end_time": "2021-08-31T08:24:13.681896",
     "exception": false,
     "start_time": "2021-08-31T08:24:13.621298",
     "status": "completed"
    },
    "tags": []
   },
   "source": [
    "# Target setting"
   ]
  },
  {
   "cell_type": "code",
   "execution_count": 26,
   "metadata": {
    "execution": {
     "iopub.execute_input": "2021-08-31T08:24:13.807885Z",
     "iopub.status.busy": "2021-08-31T08:24:13.806941Z",
     "iopub.status.idle": "2021-08-31T08:24:13.816571Z",
     "shell.execute_reply": "2021-08-31T08:24:13.816048Z",
     "shell.execute_reply.started": "2021-08-31T08:19:27.155341Z"
    },
    "papermill": {
     "duration": 0.073169,
     "end_time": "2021-08-31T08:24:13.816714",
     "exception": false,
     "start_time": "2021-08-31T08:24:13.743545",
     "status": "completed"
    },
    "tags": []
   },
   "outputs": [
    {
     "name": "stdout",
     "output_type": "stream",
     "text": [
      "[0, 13, 18, 27, 28, 29, 34, 45, 48, 63, 64, 78, 79, 89, 93, 98, 102, 104, 105, 106, 107, 108, 110, 111, 112, 115, 116, 117, 118, 119, 128, 140, 141, 143, 161, 162, 163, 164, 165, 166, 175, 176, 178, 179]\n"
     ]
    }
   ],
   "source": [
    "target=['PriceinUK','PriceinGermany']\n",
    "\n",
    "drop=[]\n",
    "for i,item in enumerate(data1['PriceinUK']):\n",
    "    if item ==0:\n",
    "        drop+=[i]\n",
    "print(drop)\n",
    "data1=data1.drop(index=data1.index[drop]).reset_index(drop=True)\n",
    "\n",
    "dataY=data1[target[0]]\n",
    "dataX=data1.drop(target,axis=1)"
   ]
  },
  {
   "cell_type": "code",
   "execution_count": 27,
   "metadata": {
    "execution": {
     "iopub.execute_input": "2021-08-31T08:24:13.944818Z",
     "iopub.status.busy": "2021-08-31T08:24:13.944187Z",
     "iopub.status.idle": "2021-08-31T08:24:13.956546Z",
     "shell.execute_reply": "2021-08-31T08:24:13.957029Z",
     "shell.execute_reply.started": "2021-08-31T08:19:27.167518Z"
    },
    "papermill": {
     "duration": 0.078309,
     "end_time": "2021-08-31T08:24:13.957181",
     "exception": false,
     "start_time": "2021-08-31T08:24:13.878872",
     "status": "completed"
    },
    "tags": []
   },
   "outputs": [
    {
     "name": "stdout",
     "output_type": "stream",
     "text": [
      "0     31680\n",
      "1     25995\n",
      "2     79900\n",
      "3    138830\n",
      "4     30255\n",
      "Name: PriceinUK, dtype: int64\n",
      "\n",
      "                     0      1      2      3      4\n",
      "Name             127.0   94.0   15.0  125.0   96.0\n",
      "Subtitle          31.0   36.0   86.5   83.7   36.0\n",
      "Acceleration      22.4    7.9    5.7    2.8   14.0\n",
      "TopSpeed         130.0  144.0  200.0  260.0  123.0\n",
      "Range            160.0  220.0  375.0  390.0  165.0\n",
      "Efficiency       194.0  164.0  231.0  215.0  218.0\n",
      "FastChargeSpeed    0.0  230.0  600.0  860.0  170.0\n",
      "Drive              1.0    1.0    0.0    0.0    1.0\n",
      "NumberofSeats      5.0    5.0    5.0    4.0    7.0\n"
     ]
    }
   ],
   "source": [
    "print(dataY[0:5].T)\n",
    "print()\n",
    "print(dataX[0:5].T)"
   ]
  },
  {
   "cell_type": "code",
   "execution_count": 28,
   "metadata": {
    "execution": {
     "iopub.execute_input": "2021-08-31T08:24:14.086107Z",
     "iopub.status.busy": "2021-08-31T08:24:14.085534Z",
     "iopub.status.idle": "2021-08-31T08:24:14.089132Z",
     "shell.execute_reply": "2021-08-31T08:24:14.089607Z",
     "shell.execute_reply.started": "2021-08-31T08:19:27.191741Z"
    },
    "papermill": {
     "duration": 0.070377,
     "end_time": "2021-08-31T08:24:14.089761",
     "exception": false,
     "start_time": "2021-08-31T08:24:14.019384",
     "status": "completed"
    },
    "tags": []
   },
   "outputs": [
    {
     "name": "stdout",
     "output_type": "stream",
     "text": [
      "136\n"
     ]
    }
   ],
   "source": [
    "n=len(dataX)\n",
    "print(n)\n",
    "N=[]\n",
    "for i in range(n):\n",
    "    N+=[i]\n",
    "random.seed(2021)\n",
    "random.shuffle(N)"
   ]
  },
  {
   "cell_type": "code",
   "execution_count": 29,
   "metadata": {
    "execution": {
     "iopub.execute_input": "2021-08-31T08:24:14.221365Z",
     "iopub.status.busy": "2021-08-31T08:24:14.220718Z",
     "iopub.status.idle": "2021-08-31T08:24:14.223558Z",
     "shell.execute_reply": "2021-08-31T08:24:14.223075Z",
     "shell.execute_reply.started": "2021-08-31T08:19:27.211185Z"
    },
    "papermill": {
     "duration": 0.072045,
     "end_time": "2021-08-31T08:24:14.223687",
     "exception": false,
     "start_time": "2021-08-31T08:24:14.151642",
     "status": "completed"
    },
    "tags": []
   },
   "outputs": [],
   "source": [
    "trainX=dataX.loc[N[0:(n//4)*3]]\n",
    "trainY=dataY.loc[N[0:(n//4)*3]]\n",
    "testX=dataX.loc[N[(n//4)*3:]]\n",
    "testY=dataY.loc[N[(n//4)*3:]]"
   ]
  },
  {
   "cell_type": "code",
   "execution_count": 30,
   "metadata": {
    "execution": {
     "iopub.execute_input": "2021-08-31T08:24:14.351666Z",
     "iopub.status.busy": "2021-08-31T08:24:14.350957Z",
     "iopub.status.idle": "2021-08-31T08:24:14.353497Z",
     "shell.execute_reply": "2021-08-31T08:24:14.353961Z",
     "shell.execute_reply.started": "2021-08-31T08:19:27.225030Z"
    },
    "papermill": {
     "duration": 0.067973,
     "end_time": "2021-08-31T08:24:14.354101",
     "exception": false,
     "start_time": "2021-08-31T08:24:14.286128",
     "status": "completed"
    },
    "tags": []
   },
   "outputs": [
    {
     "name": "stdout",
     "output_type": "stream",
     "text": [
      "['Name', 'Subtitle', 'Acceleration', 'TopSpeed', 'Range', 'Efficiency', 'FastChargeSpeed', 'Drive', 'NumberofSeats']\n"
     ]
    }
   ],
   "source": [
    "df_columns = list(dataX.columns)\n",
    "print(df_columns)"
   ]
  },
  {
   "cell_type": "code",
   "execution_count": 31,
   "metadata": {
    "execution": {
     "iopub.execute_input": "2021-08-31T08:24:14.481999Z",
     "iopub.status.busy": "2021-08-31T08:24:14.481422Z",
     "iopub.status.idle": "2021-08-31T08:24:14.485260Z",
     "shell.execute_reply": "2021-08-31T08:24:14.485783Z",
     "shell.execute_reply.started": "2021-08-31T08:19:27.239824Z"
    },
    "papermill": {
     "duration": 0.069425,
     "end_time": "2021-08-31T08:24:14.485920",
     "exception": false,
     "start_time": "2021-08-31T08:24:14.416495",
     "status": "completed"
    },
    "tags": []
   },
   "outputs": [],
   "source": [
    "def create_numeric_feature(input_df):\n",
    "    use_columns = df_columns \n",
    "    return input_df[use_columns].copy()"
   ]
  },
  {
   "cell_type": "code",
   "execution_count": 32,
   "metadata": {
    "execution": {
     "iopub.execute_input": "2021-08-31T08:24:14.613896Z",
     "iopub.status.busy": "2021-08-31T08:24:14.613270Z",
     "iopub.status.idle": "2021-08-31T08:24:14.622280Z",
     "shell.execute_reply": "2021-08-31T08:24:14.622828Z",
     "shell.execute_reply.started": "2021-08-31T08:19:27.251287Z"
    },
    "papermill": {
     "duration": 0.074415,
     "end_time": "2021-08-31T08:24:14.622971",
     "exception": false,
     "start_time": "2021-08-31T08:24:14.548556",
     "status": "completed"
    },
    "tags": []
   },
   "outputs": [],
   "source": [
    "from contextlib import contextmanager\n",
    "from time import time\n",
    "\n",
    "class Timer:\n",
    "    def __init__(self, logger=None, format_str='{:.3f}[s]', prefix=None, suffix=None, sep=' '):\n",
    "\n",
    "        if prefix: format_str = str(prefix) + sep + format_str\n",
    "        if suffix: format_str = format_str + sep + str(suffix)\n",
    "        self.format_str = format_str\n",
    "        self.logger = logger\n",
    "        self.start = None\n",
    "        self.end = None\n",
    "\n",
    "    @property\n",
    "    def duration(self):\n",
    "        if self.end is None:\n",
    "            return 0\n",
    "        return self.end - self.start\n",
    "\n",
    "    def __enter__(self):\n",
    "        self.start = time()\n",
    "\n",
    "    def __exit__(self, exc_type, exc_val, exc_tb):\n",
    "        self.end = time()\n",
    "        out_str = self.format_str.format(self.duration)\n",
    "        if self.logger:\n",
    "            self.logger.info(out_str)\n",
    "        else:\n",
    "            print(out_str)"
   ]
  },
  {
   "cell_type": "code",
   "execution_count": 33,
   "metadata": {
    "execution": {
     "iopub.execute_input": "2021-08-31T08:24:14.752070Z",
     "iopub.status.busy": "2021-08-31T08:24:14.751500Z",
     "iopub.status.idle": "2021-08-31T08:24:14.758107Z",
     "shell.execute_reply": "2021-08-31T08:24:14.757541Z",
     "shell.execute_reply.started": "2021-08-31T08:19:27.263153Z"
    },
    "papermill": {
     "duration": 0.072859,
     "end_time": "2021-08-31T08:24:14.758254",
     "exception": false,
     "start_time": "2021-08-31T08:24:14.685395",
     "status": "completed"
    },
    "tags": []
   },
   "outputs": [],
   "source": [
    "from tqdm import tqdm\n",
    "\n",
    "def to_feature(input_df):\n",
    "\n",
    "    processors = [\n",
    "        create_numeric_feature,\n",
    "    ]\n",
    "    \n",
    "    out_df = pd.DataFrame()\n",
    "    \n",
    "    for func in tqdm(processors, total=len(processors)):\n",
    "        with Timer(prefix='create' + func.__name__ + ' '):\n",
    "            _df = func(input_df)\n",
    "\n",
    "        assert len(_df) == len(input_df), func.__name__\n",
    "        out_df = pd.concat([out_df, _df], axis=1)\n",
    "        \n",
    "    return out_df"
   ]
  },
  {
   "cell_type": "code",
   "execution_count": 34,
   "metadata": {
    "execution": {
     "iopub.execute_input": "2021-08-31T08:24:14.886154Z",
     "iopub.status.busy": "2021-08-31T08:24:14.885596Z",
     "iopub.status.idle": "2021-08-31T08:24:14.901001Z",
     "shell.execute_reply": "2021-08-31T08:24:14.901532Z",
     "shell.execute_reply.started": "2021-08-31T08:19:27.276645Z"
    },
    "papermill": {
     "duration": 0.081109,
     "end_time": "2021-08-31T08:24:14.901699",
     "exception": false,
     "start_time": "2021-08-31T08:24:14.820590",
     "status": "completed"
    },
    "tags": []
   },
   "outputs": [
    {
     "name": "stderr",
     "output_type": "stream",
     "text": [
      "100%|██████████| 1/1 [00:00<00:00, 296.71it/s]\n",
      "100%|██████████| 1/1 [00:00<00:00, 477.17it/s]"
     ]
    },
    {
     "name": "stdout",
     "output_type": "stream",
     "text": [
      "createcreate_numeric_feature  0.002[s]\n",
      "createcreate_numeric_feature  0.001[s]\n"
     ]
    },
    {
     "name": "stderr",
     "output_type": "stream",
     "text": [
      "\n"
     ]
    }
   ],
   "source": [
    "train_feat_df = to_feature(trainX)\n",
    "test_feat_df = to_feature(testX)"
   ]
  },
  {
   "cell_type": "markdown",
   "metadata": {
    "papermill": {
     "duration": 0.06331,
     "end_time": "2021-08-31T08:24:15.028262",
     "exception": false,
     "start_time": "2021-08-31T08:24:14.964952",
     "status": "completed"
    },
    "tags": []
   },
   "source": [
    "# Model"
   ]
  },
  {
   "cell_type": "code",
   "execution_count": 35,
   "metadata": {
    "execution": {
     "iopub.execute_input": "2021-08-31T08:24:15.166312Z",
     "iopub.status.busy": "2021-08-31T08:24:15.165329Z",
     "iopub.status.idle": "2021-08-31T08:24:15.167688Z",
     "shell.execute_reply": "2021-08-31T08:24:15.168069Z",
     "shell.execute_reply.started": "2021-08-31T08:19:27.303062Z"
    },
    "papermill": {
     "duration": 0.075509,
     "end_time": "2021-08-31T08:24:15.168222",
     "exception": false,
     "start_time": "2021-08-31T08:24:15.092713",
     "status": "completed"
    },
    "tags": []
   },
   "outputs": [],
   "source": [
    "import lightgbm as lgbm\n",
    "from sklearn.metrics import mean_squared_error\n",
    "\n",
    "def fit_lgbm(X, y, cv, \n",
    "             params: dict=None, \n",
    "             verbose: int=50):\n",
    "\n",
    "    if params is None:\n",
    "        params = {}\n",
    "\n",
    "    models = []\n",
    "    oof_pred = np.zeros_like(y, dtype=np.float)\n",
    "\n",
    "    for i, (idx_train, idx_valid) in enumerate(cv): \n",
    "        x_train, y_train = X[idx_train], y[idx_train]\n",
    "        x_valid, y_valid = X[idx_valid], y[idx_valid]\n",
    "\n",
    "        clf = lgbm.LGBMRegressor(**params)\n",
    "        \n",
    "        with Timer(prefix='fit fold={} '.format(i)):\n",
    "            clf.fit(x_train, y_train, \n",
    "                    eval_set=[(x_valid, y_valid)],  \n",
    "                    early_stopping_rounds=100,\n",
    "                    verbose=verbose)\n",
    "\n",
    "        pred_i = clf.predict(x_valid)\n",
    "        oof_pred[idx_valid] = pred_i\n",
    "        models.append(clf)\n",
    "        print(f'Fold {i} RMSLE: {mean_squared_error(y_valid, pred_i) ** .5:.4f}')\n",
    "        print()\n",
    "\n",
    "    score = mean_squared_error(y, oof_pred) ** .5\n",
    "    print('-' * 50)\n",
    "    print('FINISHED | Whole RMSLE: {:.4f}'.format(score))\n",
    "    return oof_pred, models"
   ]
  },
  {
   "cell_type": "code",
   "execution_count": 36,
   "metadata": {
    "execution": {
     "iopub.execute_input": "2021-08-31T08:24:15.302552Z",
     "iopub.status.busy": "2021-08-31T08:24:15.301691Z",
     "iopub.status.idle": "2021-08-31T08:24:15.304741Z",
     "shell.execute_reply": "2021-08-31T08:24:15.304291Z",
     "shell.execute_reply.started": "2021-08-31T08:19:27.316541Z"
    },
    "papermill": {
     "duration": 0.072142,
     "end_time": "2021-08-31T08:24:15.304854",
     "exception": false,
     "start_time": "2021-08-31T08:24:15.232712",
     "status": "completed"
    },
    "tags": []
   },
   "outputs": [],
   "source": [
    "params = {\n",
    "    'objective': 'rmse', \n",
    "    'learning_rate': .1,\n",
    "    'reg_lambda': 1.,\n",
    "    'reg_alpha': .1,\n",
    "    'max_depth': 5, \n",
    "    'n_estimators': 10000, \n",
    "    'colsample_bytree': .5, \n",
    "    'min_child_samples': 10,\n",
    "    'subsample_freq': 3,\n",
    "    'subsample': .9,\n",
    "    'importance_type': 'gain', \n",
    "    'random_state': 71,\n",
    "    'num_leaves': 62\n",
    "}"
   ]
  },
  {
   "cell_type": "code",
   "execution_count": 37,
   "metadata": {
    "execution": {
     "iopub.execute_input": "2021-08-31T08:24:15.435370Z",
     "iopub.status.busy": "2021-08-31T08:24:15.434760Z",
     "iopub.status.idle": "2021-08-31T08:24:15.439764Z",
     "shell.execute_reply": "2021-08-31T08:24:15.440222Z",
     "shell.execute_reply.started": "2021-08-31T08:19:27.331776Z"
    },
    "papermill": {
     "duration": 0.071795,
     "end_time": "2021-08-31T08:24:15.440377",
     "exception": false,
     "start_time": "2021-08-31T08:24:15.368582",
     "status": "completed"
    },
    "tags": []
   },
   "outputs": [
    {
     "name": "stdout",
     "output_type": "stream",
     "text": [
      "(102,)\n",
      "<class 'pandas.core.series.Series'>\n"
     ]
    }
   ],
   "source": [
    "y = trainY\n",
    "print(y.shape)\n",
    "print(type(y))"
   ]
  },
  {
   "cell_type": "code",
   "execution_count": 38,
   "metadata": {
    "execution": {
     "iopub.execute_input": "2021-08-31T08:24:15.579385Z",
     "iopub.status.busy": "2021-08-31T08:24:15.578576Z",
     "iopub.status.idle": "2021-08-31T08:24:15.582631Z",
     "shell.execute_reply": "2021-08-31T08:24:15.583039Z",
     "shell.execute_reply.started": "2021-08-31T08:19:27.348566Z"
    },
    "papermill": {
     "duration": 0.078188,
     "end_time": "2021-08-31T08:24:15.583194",
     "exception": false,
     "start_time": "2021-08-31T08:24:15.505006",
     "status": "completed"
    },
    "tags": []
   },
   "outputs": [
    {
     "data": {
      "text/html": [
       "<div>\n",
       "<style scoped>\n",
       "    .dataframe tbody tr th:only-of-type {\n",
       "        vertical-align: middle;\n",
       "    }\n",
       "\n",
       "    .dataframe tbody tr th {\n",
       "        vertical-align: top;\n",
       "    }\n",
       "\n",
       "    .dataframe thead th {\n",
       "        text-align: right;\n",
       "    }\n",
       "</style>\n",
       "<table border=\"1\" class=\"dataframe\">\n",
       "  <thead>\n",
       "    <tr style=\"text-align: right;\">\n",
       "      <th></th>\n",
       "      <th>PriceinUK</th>\n",
       "    </tr>\n",
       "  </thead>\n",
       "  <tbody>\n",
       "    <tr>\n",
       "      <th>38</th>\n",
       "      <td>83580</td>\n",
       "    </tr>\n",
       "    <tr>\n",
       "      <th>34</th>\n",
       "      <td>19795</td>\n",
       "    </tr>\n",
       "    <tr>\n",
       "      <th>71</th>\n",
       "      <td>52500</td>\n",
       "    </tr>\n",
       "    <tr>\n",
       "      <th>65</th>\n",
       "      <td>30895</td>\n",
       "    </tr>\n",
       "    <tr>\n",
       "      <th>15</th>\n",
       "      <td>30550</td>\n",
       "    </tr>\n",
       "    <tr>\n",
       "      <th>...</th>\n",
       "      <td>...</td>\n",
       "    </tr>\n",
       "    <tr>\n",
       "      <th>85</th>\n",
       "      <td>30345</td>\n",
       "    </tr>\n",
       "    <tr>\n",
       "      <th>43</th>\n",
       "      <td>49980</td>\n",
       "    </tr>\n",
       "    <tr>\n",
       "      <th>67</th>\n",
       "      <td>42250</td>\n",
       "    </tr>\n",
       "    <tr>\n",
       "      <th>35</th>\n",
       "      <td>30160</td>\n",
       "    </tr>\n",
       "    <tr>\n",
       "      <th>135</th>\n",
       "      <td>26495</td>\n",
       "    </tr>\n",
       "  </tbody>\n",
       "</table>\n",
       "<p>102 rows × 1 columns</p>\n",
       "</div>"
      ],
      "text/plain": [
       "     PriceinUK\n",
       "38       83580\n",
       "34       19795\n",
       "71       52500\n",
       "65       30895\n",
       "15       30550\n",
       "..         ...\n",
       "85       30345\n",
       "43       49980\n",
       "67       42250\n",
       "35       30160\n",
       "135      26495\n",
       "\n",
       "[102 rows x 1 columns]"
      ]
     },
     "execution_count": 38,
     "metadata": {},
     "output_type": "execute_result"
    }
   ],
   "source": [
    "ydf=pd.DataFrame(y)\n",
    "ydf"
   ]
  },
  {
   "cell_type": "code",
   "execution_count": 39,
   "metadata": {
    "execution": {
     "iopub.execute_input": "2021-08-31T08:24:15.724395Z",
     "iopub.status.busy": "2021-08-31T08:24:15.723696Z",
     "iopub.status.idle": "2021-08-31T08:24:16.226131Z",
     "shell.execute_reply": "2021-08-31T08:24:16.225650Z",
     "shell.execute_reply.started": "2021-08-31T08:19:27.367762Z"
    },
    "papermill": {
     "duration": 0.57829,
     "end_time": "2021-08-31T08:24:16.226284",
     "exception": false,
     "start_time": "2021-08-31T08:24:15.647994",
     "status": "completed"
    },
    "tags": []
   },
   "outputs": [
    {
     "name": "stdout",
     "output_type": "stream",
     "text": [
      "Training until validation scores don't improve for 100 rounds\n",
      "Early stopping, best iteration is:\n",
      "[182]\tvalid_0's rmse: 9144.84\n",
      "fit fold=0  0.113[s]\n",
      "Fold 0 RMSLE: 9144.8385\n",
      "\n",
      "Training until validation scores don't improve for 100 rounds\n",
      "Early stopping, best iteration is:\n",
      "[64]\tvalid_0's rmse: 7419.18\n",
      "fit fold=1  0.033[s]\n",
      "Fold 1 RMSLE: 7419.1824\n",
      "\n",
      "Training until validation scores don't improve for 100 rounds\n",
      "Early stopping, best iteration is:\n",
      "[19]\tvalid_0's rmse: 11288.6\n",
      "fit fold=2  0.023[s]\n",
      "Fold 2 RMSLE: 11288.6116\n",
      "\n",
      "Training until validation scores don't improve for 100 rounds\n",
      "Early stopping, best iteration is:\n",
      "[31]\tvalid_0's rmse: 11463.1\n",
      "fit fold=3  0.026[s]\n",
      "Fold 3 RMSLE: 11463.1361\n",
      "\n",
      "Training until validation scores don't improve for 100 rounds\n",
      "[500]\tvalid_0's rmse: 10601.8\n",
      "Early stopping, best iteration is:\n",
      "[558]\tvalid_0's rmse: 10513.1\n",
      "fit fold=4  0.131[s]\n",
      "Fold 4 RMSLE: 10513.1221\n",
      "\n",
      "--------------------------------------------------\n",
      "FINISHED | Whole RMSLE: 10048.5872\n"
     ]
    },
    {
     "data": {
      "image/png": "[encoded data removed]",
      "text/plain": [
       "<Figure size 432x432 with 1 Axes>"
      ]
     },
     "metadata": {
      "needs_background": "light"
     },
     "output_type": "display_data"
    }
   ],
   "source": [
    "from sklearn.model_selection import KFold\n",
    "\n",
    "for i in range(1):\n",
    "    fold = KFold(n_splits=5, shuffle=True, random_state=71)\n",
    "    ydfi=ydf.iloc[:,i]\n",
    "    y=np.array(ydfi)\n",
    "    cv = list(fold.split(train_feat_df, y))\n",
    "    oof, models = fit_lgbm(train_feat_df.values, y, cv, params=params, verbose=500)\n",
    "    \n",
    "    fig,ax = plt.subplots(figsize=(6,6))\n",
    "    ax.set_title(target[i],fontsize=20)\n",
    "    ax.set_ylabel('Predicted Train '+target[i],fontsize=12)\n",
    "    ax.set_xlabel('Actual Train '+target[i],fontsize=12)\n",
    "    ax.scatter(y,oof)"
   ]
  },
  {
   "cell_type": "code",
   "execution_count": null,
   "metadata": {
    "papermill": {
     "duration": 0.06826,
     "end_time": "2021-08-31T08:24:16.360943",
     "exception": false,
     "start_time": "2021-08-31T08:24:16.292683",
     "status": "completed"
    },
    "tags": []
   },
   "outputs": [],
   "source": []
  },
  {
   "cell_type": "markdown",
   "metadata": {
    "papermill": {
     "duration": 0.065531,
     "end_time": "2021-08-31T08:24:16.492457",
     "exception": false,
     "start_time": "2021-08-31T08:24:16.426926",
     "status": "completed"
    },
    "tags": []
   },
   "source": [
    "# Cost Performance is defined as ...\n",
    "### (Predicted price - Actual price) / (Actual price)"
   ]
  },
  {
   "cell_type": "code",
   "execution_count": 40,
   "metadata": {
    "execution": {
     "iopub.execute_input": "2021-08-31T08:24:16.636850Z",
     "iopub.status.busy": "2021-08-31T08:24:16.636114Z",
     "iopub.status.idle": "2021-08-31T08:24:16.638695Z",
     "shell.execute_reply": "2021-08-31T08:24:16.639396Z",
     "shell.execute_reply.started": "2021-08-31T08:19:27.995093Z"
    },
    "papermill": {
     "duration": 0.081847,
     "end_time": "2021-08-31T08:24:16.639598",
     "exception": false,
     "start_time": "2021-08-31T08:24:16.557751",
     "status": "completed"
    },
    "tags": []
   },
   "outputs": [
    {
     "data": {
      "text/html": [
       "<div>\n",
       "<style scoped>\n",
       "    .dataframe tbody tr th:only-of-type {\n",
       "        vertical-align: middle;\n",
       "    }\n",
       "\n",
       "    .dataframe tbody tr th {\n",
       "        vertical-align: top;\n",
       "    }\n",
       "\n",
       "    .dataframe thead th {\n",
       "        text-align: right;\n",
       "    }\n",
       "</style>\n",
       "<table border=\"1\" class=\"dataframe\">\n",
       "  <thead>\n",
       "    <tr style=\"text-align: right;\">\n",
       "      <th></th>\n",
       "      <th>PriceinUK</th>\n",
       "      <th>oof</th>\n",
       "      <th>rate</th>\n",
       "    </tr>\n",
       "  </thead>\n",
       "  <tbody>\n",
       "    <tr>\n",
       "      <th>133</th>\n",
       "      <td>30375</td>\n",
       "      <td>49395.576361</td>\n",
       "      <td>0.626192</td>\n",
       "    </tr>\n",
       "    <tr>\n",
       "      <th>32</th>\n",
       "      <td>19200</td>\n",
       "      <td>30754.768305</td>\n",
       "      <td>0.601811</td>\n",
       "    </tr>\n",
       "    <tr>\n",
       "      <th>4</th>\n",
       "      <td>30255</td>\n",
       "      <td>45234.823352</td>\n",
       "      <td>0.495119</td>\n",
       "    </tr>\n",
       "    <tr>\n",
       "      <th>48</th>\n",
       "      <td>39000</td>\n",
       "      <td>54619.649225</td>\n",
       "      <td>0.400504</td>\n",
       "    </tr>\n",
       "    <tr>\n",
       "      <th>120</th>\n",
       "      <td>45900</td>\n",
       "      <td>63339.151174</td>\n",
       "      <td>0.379938</td>\n",
       "    </tr>\n",
       "    <tr>\n",
       "      <th>...</th>\n",
       "      <td>...</td>\n",
       "      <td>...</td>\n",
       "      <td>...</td>\n",
       "    </tr>\n",
       "    <tr>\n",
       "      <th>108</th>\n",
       "      <td>91905</td>\n",
       "      <td>72018.074940</td>\n",
       "      <td>-0.216386</td>\n",
       "    </tr>\n",
       "    <tr>\n",
       "      <th>47</th>\n",
       "      <td>69100</td>\n",
       "      <td>53934.775938</td>\n",
       "      <td>-0.219468</td>\n",
       "    </tr>\n",
       "    <tr>\n",
       "      <th>83</th>\n",
       "      <td>65720</td>\n",
       "      <td>51100.834360</td>\n",
       "      <td>-0.222446</td>\n",
       "    </tr>\n",
       "    <tr>\n",
       "      <th>96</th>\n",
       "      <td>110980</td>\n",
       "      <td>85992.580028</td>\n",
       "      <td>-0.225152</td>\n",
       "    </tr>\n",
       "    <tr>\n",
       "      <th>119</th>\n",
       "      <td>42900</td>\n",
       "      <td>31265.587167</td>\n",
       "      <td>-0.271198</td>\n",
       "    </tr>\n",
       "  </tbody>\n",
       "</table>\n",
       "<p>102 rows × 3 columns</p>\n",
       "</div>"
      ],
      "text/plain": [
       "     PriceinUK           oof      rate\n",
       "133      30375  49395.576361  0.626192\n",
       "32       19200  30754.768305  0.601811\n",
       "4        30255  45234.823352  0.495119\n",
       "48       39000  54619.649225  0.400504\n",
       "120      45900  63339.151174  0.379938\n",
       "..         ...           ...       ...\n",
       "108      91905  72018.074940 -0.216386\n",
       "47       69100  53934.775938 -0.219468\n",
       "83       65720  51100.834360 -0.222446\n",
       "96      110980  85992.580028 -0.225152\n",
       "119      42900  31265.587167 -0.271198\n",
       "\n",
       "[102 rows x 3 columns]"
      ]
     },
     "execution_count": 40,
     "metadata": {},
     "output_type": "execute_result"
    }
   ],
   "source": [
    "ydf['oof']=oof\n",
    "ydf['rate']=(ydf['oof']-ydf['PriceinUK'])/ydf['PriceinUK']\n",
    "ydf.sort_values('rate',ascending=False)"
   ]
  },
  {
   "cell_type": "markdown",
   "metadata": {
    "papermill": {
     "duration": 0.064623,
     "end_time": "2021-08-31T08:24:16.776307",
     "exception": false,
     "start_time": "2021-08-31T08:24:16.711684",
     "status": "completed"
    },
    "tags": []
   },
   "source": [
    "## the Lowest on cost performance"
   ]
  },
  {
   "cell_type": "code",
   "execution_count": 41,
   "metadata": {
    "execution": {
     "iopub.execute_input": "2021-08-31T08:24:16.909643Z",
     "iopub.status.busy": "2021-08-31T08:24:16.908993Z",
     "iopub.status.idle": "2021-08-31T08:24:16.920310Z",
     "shell.execute_reply": "2021-08-31T08:24:16.920777Z",
     "shell.execute_reply.started": "2021-08-31T08:19:28.015444Z"
    },
    "papermill": {
     "duration": 0.079255,
     "end_time": "2021-08-31T08:24:16.920920",
     "exception": false,
     "start_time": "2021-08-31T08:24:16.841665",
     "status": "completed"
    },
    "tags": []
   },
   "outputs": [
    {
     "data": {
      "text/html": [
       "<div>\n",
       "<style scoped>\n",
       "    .dataframe tbody tr th:only-of-type {\n",
       "        vertical-align: middle;\n",
       "    }\n",
       "\n",
       "    .dataframe tbody tr th {\n",
       "        vertical-align: top;\n",
       "    }\n",
       "\n",
       "    .dataframe thead th {\n",
       "        text-align: right;\n",
       "    }\n",
       "</style>\n",
       "<table border=\"1\" class=\"dataframe\">\n",
       "  <thead>\n",
       "    <tr style=\"text-align: right;\">\n",
       "      <th></th>\n",
       "      <th>Name</th>\n",
       "      <th>Subtitle</th>\n",
       "      <th>Acceleration</th>\n",
       "      <th>TopSpeed</th>\n",
       "      <th>Range</th>\n",
       "      <th>Efficiency</th>\n",
       "      <th>FastChargeSpeed</th>\n",
       "      <th>Drive</th>\n",
       "      <th>NumberofSeats</th>\n",
       "      <th>PriceinGermany</th>\n",
       "      <th>PriceinUK</th>\n",
       "    </tr>\n",
       "  </thead>\n",
       "  <tbody>\n",
       "    <tr>\n",
       "      <th>119</th>\n",
       "      <td>115</td>\n",
       "      <td>75.0</td>\n",
       "      <td>7.4</td>\n",
       "      <td>160</td>\n",
       "      <td>425</td>\n",
       "      <td>176</td>\n",
       "      <td>550</td>\n",
       "      <td>1</td>\n",
       "      <td>5</td>\n",
       "      <td>49500</td>\n",
       "      <td>42900</td>\n",
       "    </tr>\n",
       "  </tbody>\n",
       "</table>\n",
       "</div>"
      ],
      "text/plain": [
       "     Name  Subtitle  Acceleration  TopSpeed  Range  Efficiency  \\\n",
       "119   115      75.0           7.4       160    425         176   \n",
       "\n",
       "     FastChargeSpeed  Drive  NumberofSeats  PriceinGermany  PriceinUK  \n",
       "119              550      1              5           49500      42900  "
      ]
     },
     "execution_count": 41,
     "metadata": {},
     "output_type": "execute_result"
    }
   ],
   "source": [
    "data1.loc[119:119]"
   ]
  },
  {
   "cell_type": "code",
   "execution_count": 42,
   "metadata": {
    "execution": {
     "iopub.execute_input": "2021-08-31T08:24:17.059398Z",
     "iopub.status.busy": "2021-08-31T08:24:17.058757Z",
     "iopub.status.idle": "2021-08-31T08:24:17.074109Z",
     "shell.execute_reply": "2021-08-31T08:24:17.073611Z",
     "shell.execute_reply.started": "2021-08-31T08:19:28.043583Z"
    },
    "papermill": {
     "duration": 0.085445,
     "end_time": "2021-08-31T08:24:17.074247",
     "exception": false,
     "start_time": "2021-08-31T08:24:16.988802",
     "status": "completed"
    },
    "tags": []
   },
   "outputs": [
    {
     "data": {
      "text/html": [
       "<div>\n",
       "<style scoped>\n",
       "    .dataframe tbody tr th:only-of-type {\n",
       "        vertical-align: middle;\n",
       "    }\n",
       "\n",
       "    .dataframe tbody tr th {\n",
       "        vertical-align: top;\n",
       "    }\n",
       "\n",
       "    .dataframe thead th {\n",
       "        text-align: right;\n",
       "    }\n",
       "</style>\n",
       "<table border=\"1\" class=\"dataframe\">\n",
       "  <thead>\n",
       "    <tr style=\"text-align: right;\">\n",
       "      <th></th>\n",
       "      <th>Name</th>\n",
       "      <th>Subtitle</th>\n",
       "      <th>Acceleration</th>\n",
       "      <th>TopSpeed</th>\n",
       "      <th>Range</th>\n",
       "      <th>Efficiency</th>\n",
       "      <th>FastChargeSpeed</th>\n",
       "      <th>Drive</th>\n",
       "      <th>NumberofSeats</th>\n",
       "      <th>PriceinGermany</th>\n",
       "      <th>PriceinUK</th>\n",
       "    </tr>\n",
       "  </thead>\n",
       "  <tbody>\n",
       "    <tr>\n",
       "      <th>153</th>\n",
       "      <td>Polestar 2 Long Range Single Motor</td>\n",
       "      <td>Battery Electric Vehicle |       75 kWh</td>\n",
       "      <td>7.4 sec</td>\n",
       "      <td>160 km/h</td>\n",
       "      <td>425 km</td>\n",
       "      <td>176 Wh/km</td>\n",
       "      <td>550 km/h</td>\n",
       "      <td>Front Wheel Drive</td>\n",
       "      <td>5</td>\n",
       "      <td>€49,500</td>\n",
       "      <td>£42,900</td>\n",
       "    </tr>\n",
       "  </tbody>\n",
       "</table>\n",
       "</div>"
      ],
      "text/plain": [
       "                                   Name  \\\n",
       "153  Polestar 2 Long Range Single Motor   \n",
       "\n",
       "                                     Subtitle Acceleration  TopSpeed   Range  \\\n",
       "153  Battery Electric Vehicle |       75 kWh       7.4 sec  160 km/h  425 km   \n",
       "\n",
       "    Efficiency FastChargeSpeed              Drive  NumberofSeats  \\\n",
       "153  176 Wh/km        550 km/h  Front Wheel Drive              5   \n",
       "\n",
       "    PriceinGermany PriceinUK  \n",
       "153        €49,500   £42,900  "
      ]
     },
     "execution_count": 42,
     "metadata": {},
     "output_type": "execute_result"
    }
   ],
   "source": [
    "data00[data00['PriceinUK']=='£42,900']"
   ]
  },
  {
   "cell_type": "markdown",
   "metadata": {
    "papermill": {
     "duration": 0.068333,
     "end_time": "2021-08-31T08:24:17.208517",
     "exception": false,
     "start_time": "2021-08-31T08:24:17.140184",
     "status": "completed"
    },
    "tags": []
   },
   "source": [
    "# **Polestar 2 Long Range Single Motor**"
   ]
  },
  {
   "cell_type": "markdown",
   "metadata": {
    "papermill": {
     "duration": 0.066813,
     "end_time": "2021-08-31T08:24:17.343692",
     "exception": false,
     "start_time": "2021-08-31T08:24:17.276879",
     "status": "completed"
    },
    "tags": []
   },
   "source": [
    "![https://i1.wp.com/electrek.co/wp-content/uploads/sites/3/2020/08/Polestar2_US_Launch-0007-2000.jpg?w=2500&quality=82&strip=all&ssl=1](https://i1.wp.com/electrek.co/wp-content/uploads/sites/3/2020/08/Polestar2_US_Launch-0007-2000.jpg?w=2500&quality=82&strip=all&ssl=1)"
   ]
  },
  {
   "cell_type": "code",
   "execution_count": null,
   "metadata": {
    "papermill": {
     "duration": 0.068081,
     "end_time": "2021-08-31T08:24:17.480700",
     "exception": false,
     "start_time": "2021-08-31T08:24:17.412619",
     "status": "completed"
    },
    "tags": []
   },
   "outputs": [],
   "source": []
  },
  {
   "cell_type": "markdown",
   "metadata": {
    "papermill": {
     "duration": 0.066464,
     "end_time": "2021-08-31T08:24:17.615001",
     "exception": false,
     "start_time": "2021-08-31T08:24:17.548537",
     "status": "completed"
    },
    "tags": []
   },
   "source": [
    "## the Highest on cost performance"
   ]
  },
  {
   "cell_type": "code",
   "execution_count": 43,
   "metadata": {
    "execution": {
     "iopub.execute_input": "2021-08-31T08:24:17.763456Z",
     "iopub.status.busy": "2021-08-31T08:24:17.762647Z",
     "iopub.status.idle": "2021-08-31T08:24:17.767043Z",
     "shell.execute_reply": "2021-08-31T08:24:17.766532Z",
     "shell.execute_reply.started": "2021-08-31T08:19:28.069336Z"
    },
    "papermill": {
     "duration": 0.086076,
     "end_time": "2021-08-31T08:24:17.767182",
     "exception": false,
     "start_time": "2021-08-31T08:24:17.681106",
     "status": "completed"
    },
    "tags": []
   },
   "outputs": [
    {
     "data": {
      "text/html": [
       "<div>\n",
       "<style scoped>\n",
       "    .dataframe tbody tr th:only-of-type {\n",
       "        vertical-align: middle;\n",
       "    }\n",
       "\n",
       "    .dataframe tbody tr th {\n",
       "        vertical-align: top;\n",
       "    }\n",
       "\n",
       "    .dataframe thead th {\n",
       "        text-align: right;\n",
       "    }\n",
       "</style>\n",
       "<table border=\"1\" class=\"dataframe\">\n",
       "  <thead>\n",
       "    <tr style=\"text-align: right;\">\n",
       "      <th></th>\n",
       "      <th>Name</th>\n",
       "      <th>Subtitle</th>\n",
       "      <th>Acceleration</th>\n",
       "      <th>TopSpeed</th>\n",
       "      <th>Range</th>\n",
       "      <th>Efficiency</th>\n",
       "      <th>FastChargeSpeed</th>\n",
       "      <th>Drive</th>\n",
       "      <th>NumberofSeats</th>\n",
       "      <th>PriceinGermany</th>\n",
       "      <th>PriceinUK</th>\n",
       "    </tr>\n",
       "  </thead>\n",
       "  <tbody>\n",
       "    <tr>\n",
       "      <th>133</th>\n",
       "      <td>108</td>\n",
       "      <td>45.0</td>\n",
       "      <td>11.7</td>\n",
       "      <td>135</td>\n",
       "      <td>200</td>\n",
       "      <td>225</td>\n",
       "      <td>270</td>\n",
       "      <td>1</td>\n",
       "      <td>7</td>\n",
       "      <td>37590</td>\n",
       "      <td>30375</td>\n",
       "    </tr>\n",
       "  </tbody>\n",
       "</table>\n",
       "</div>"
      ],
      "text/plain": [
       "     Name  Subtitle  Acceleration  TopSpeed  Range  Efficiency  \\\n",
       "133   108      45.0          11.7       135    200         225   \n",
       "\n",
       "     FastChargeSpeed  Drive  NumberofSeats  PriceinGermany  PriceinUK  \n",
       "133              270      1              7           37590      30375  "
      ]
     },
     "execution_count": 43,
     "metadata": {},
     "output_type": "execute_result"
    }
   ],
   "source": [
    "data1.loc[133:133]"
   ]
  },
  {
   "cell_type": "code",
   "execution_count": 44,
   "metadata": {
    "execution": {
     "iopub.execute_input": "2021-08-31T08:24:17.920597Z",
     "iopub.status.busy": "2021-08-31T08:24:17.919665Z",
     "iopub.status.idle": "2021-08-31T08:24:17.924073Z",
     "shell.execute_reply": "2021-08-31T08:24:17.924703Z",
     "shell.execute_reply.started": "2021-08-31T08:19:28.091324Z"
    },
    "papermill": {
     "duration": 0.089158,
     "end_time": "2021-08-31T08:24:17.924855",
     "exception": false,
     "start_time": "2021-08-31T08:24:17.835697",
     "status": "completed"
    },
    "tags": []
   },
   "outputs": [
    {
     "data": {
      "text/html": [
       "<div>\n",
       "<style scoped>\n",
       "    .dataframe tbody tr th:only-of-type {\n",
       "        vertical-align: middle;\n",
       "    }\n",
       "\n",
       "    .dataframe tbody tr th {\n",
       "        vertical-align: top;\n",
       "    }\n",
       "\n",
       "    .dataframe thead th {\n",
       "        text-align: right;\n",
       "    }\n",
       "</style>\n",
       "<table border=\"1\" class=\"dataframe\">\n",
       "  <thead>\n",
       "    <tr style=\"text-align: right;\">\n",
       "      <th></th>\n",
       "      <th>Name</th>\n",
       "      <th>Subtitle</th>\n",
       "      <th>Acceleration</th>\n",
       "      <th>TopSpeed</th>\n",
       "      <th>Range</th>\n",
       "      <th>Efficiency</th>\n",
       "      <th>FastChargeSpeed</th>\n",
       "      <th>Drive</th>\n",
       "      <th>NumberofSeats</th>\n",
       "      <th>PriceinGermany</th>\n",
       "      <th>PriceinUK</th>\n",
       "    </tr>\n",
       "  </thead>\n",
       "  <tbody>\n",
       "    <tr>\n",
       "      <th>173</th>\n",
       "      <td>Peugeot e-Rifter Standard 50 kWh</td>\n",
       "      <td>Battery Electric Vehicle |       45 kWh</td>\n",
       "      <td>11.7 sec</td>\n",
       "      <td>135 km/h</td>\n",
       "      <td>200 km</td>\n",
       "      <td>225 Wh/km</td>\n",
       "      <td>270 km/h</td>\n",
       "      <td>Front Wheel Drive</td>\n",
       "      <td>7</td>\n",
       "      <td>€37,590</td>\n",
       "      <td>£30,375</td>\n",
       "    </tr>\n",
       "  </tbody>\n",
       "</table>\n",
       "</div>"
      ],
      "text/plain": [
       "                                 Name  \\\n",
       "173  Peugeot e-Rifter Standard 50 kWh   \n",
       "\n",
       "                                     Subtitle Acceleration  TopSpeed   Range  \\\n",
       "173  Battery Electric Vehicle |       45 kWh      11.7 sec  135 km/h  200 km   \n",
       "\n",
       "    Efficiency FastChargeSpeed              Drive  NumberofSeats  \\\n",
       "173  225 Wh/km        270 km/h  Front Wheel Drive              7   \n",
       "\n",
       "    PriceinGermany PriceinUK  \n",
       "173        €37,590   £30,375  "
      ]
     },
     "execution_count": 44,
     "metadata": {},
     "output_type": "execute_result"
    }
   ],
   "source": [
    "data00[data00['PriceinUK']=='£30,375']"
   ]
  },
  {
   "cell_type": "markdown",
   "metadata": {
    "papermill": {
     "duration": 0.070745,
     "end_time": "2021-08-31T08:24:18.065851",
     "exception": false,
     "start_time": "2021-08-31T08:24:17.995106",
     "status": "completed"
    },
    "tags": []
   },
   "source": [
    "# **Peugeot e-Rifter Standard 50 kWh**"
   ]
  },
  {
   "cell_type": "markdown",
   "metadata": {
    "papermill": {
     "duration": 0.069016,
     "end_time": "2021-08-31T08:24:18.204485",
     "exception": false,
     "start_time": "2021-08-31T08:24:18.135469",
     "status": "completed"
    },
    "tags": []
   },
   "source": [
    "![https://ev-database.org/img/auto/Peugeot_e-Rifter/Peugeot_e-Rifter-02.jpg](https://ev-database.org/img/auto/Peugeot_e-Rifter/Peugeot_e-Rifter-02.jpg)"
   ]
  },
  {
   "cell_type": "code",
   "execution_count": null,
   "metadata": {
    "papermill": {
     "duration": 0.068832,
     "end_time": "2021-08-31T08:24:18.342350",
     "exception": false,
     "start_time": "2021-08-31T08:24:18.273518",
     "status": "completed"
    },
    "tags": []
   },
   "outputs": [],
   "source": []
  },
  {
   "cell_type": "markdown",
   "metadata": {
    "papermill": {
     "duration": 0.069352,
     "end_time": "2021-08-31T08:24:18.480323",
     "exception": false,
     "start_time": "2021-08-31T08:24:18.410971",
     "status": "completed"
    },
    "tags": []
   },
   "source": [
    "# Visualize Importance"
   ]
  },
  {
   "cell_type": "code",
   "execution_count": 45,
   "metadata": {
    "execution": {
     "iopub.execute_input": "2021-08-31T08:24:18.625637Z",
     "iopub.status.busy": "2021-08-31T08:24:18.625052Z",
     "iopub.status.idle": "2021-08-31T08:24:18.627799Z",
     "shell.execute_reply": "2021-08-31T08:24:18.627271Z",
     "shell.execute_reply.started": "2021-08-31T08:19:28.119766Z"
    },
    "papermill": {
     "duration": 0.079451,
     "end_time": "2021-08-31T08:24:18.627925",
     "exception": false,
     "start_time": "2021-08-31T08:24:18.548474",
     "status": "completed"
    },
    "tags": []
   },
   "outputs": [],
   "source": [
    "def visualize_importance(models, feat_train_df):\n",
    "\n",
    "    feature_importance_df = pd.DataFrame()\n",
    "    for i, model in enumerate(models):\n",
    "        _df = pd.DataFrame()\n",
    "        _df['feature_importance'] = model.feature_importances_\n",
    "        _df['column'] = feat_train_df.columns\n",
    "        _df['fold'] = i + 1\n",
    "        feature_importance_df = pd.concat([feature_importance_df, _df], \n",
    "                                          axis=0, ignore_index=True)\n",
    "\n",
    "    order = feature_importance_df.groupby('column')\\\n",
    "        .sum()[['feature_importance']]\\\n",
    "        .sort_values('feature_importance', ascending=False).index[:50]\n",
    "\n",
    "    fig, ax = plt.subplots(figsize=(8, max(6, len(order) * .25)))\n",
    "    sns.boxenplot(data=feature_importance_df, \n",
    "                  x='feature_importance', \n",
    "                  y='column', \n",
    "                  order=order, \n",
    "                  ax=ax, \n",
    "                  palette='viridis', \n",
    "                  orient='h')\n",
    "    \n",
    "    ax.tick_params(axis='x', rotation=0)\n",
    "    #ax.set_title('Importance')\n",
    "    ax.grid()\n",
    "    fig.tight_layout()\n",
    "    \n",
    "    return fig,ax\n",
    "\n",
    "#fig, ax = visualize_importance(models, train_feat_df)"
   ]
  },
  {
   "cell_type": "code",
   "execution_count": 46,
   "metadata": {
    "execution": {
     "iopub.execute_input": "2021-08-31T08:24:18.777061Z",
     "iopub.status.busy": "2021-08-31T08:24:18.773589Z",
     "iopub.status.idle": "2021-08-31T08:24:19.427807Z",
     "shell.execute_reply": "2021-08-31T08:24:19.428386Z",
     "shell.execute_reply.started": "2021-08-31T08:19:28.133436Z"
    },
    "papermill": {
     "duration": 0.731399,
     "end_time": "2021-08-31T08:24:19.428548",
     "exception": false,
     "start_time": "2021-08-31T08:24:18.697149",
     "status": "completed"
    },
    "tags": []
   },
   "outputs": [
    {
     "name": "stdout",
     "output_type": "stream",
     "text": [
      "Training until validation scores don't improve for 100 rounds\n",
      "Early stopping, best iteration is:\n",
      "[182]\tvalid_0's rmse: 9144.84\n",
      "fit fold=0  0.059[s]\n",
      "Fold 0 RMSLE: 9144.8385\n",
      "\n",
      "Training until validation scores don't improve for 100 rounds\n",
      "Early stopping, best iteration is:\n",
      "[64]\tvalid_0's rmse: 7419.18\n",
      "fit fold=1  0.031[s]\n",
      "Fold 1 RMSLE: 7419.1824\n",
      "\n",
      "Training until validation scores don't improve for 100 rounds\n",
      "Early stopping, best iteration is:\n",
      "[19]\tvalid_0's rmse: 11288.6\n",
      "fit fold=2  0.021[s]\n",
      "Fold 2 RMSLE: 11288.6116\n",
      "\n",
      "Training until validation scores don't improve for 100 rounds\n",
      "Early stopping, best iteration is:\n",
      "[31]\tvalid_0's rmse: 11463.1\n",
      "fit fold=3  0.023[s]\n",
      "Fold 3 RMSLE: 11463.1361\n",
      "\n",
      "Training until validation scores don't improve for 100 rounds\n",
      "[500]\tvalid_0's rmse: 10601.8\n",
      "Early stopping, best iteration is:\n",
      "[558]\tvalid_0's rmse: 10513.1\n",
      "fit fold=4  0.127[s]\n",
      "Fold 4 RMSLE: 10513.1221\n",
      "\n",
      "--------------------------------------------------\n",
      "FINISHED | Whole RMSLE: 10048.5872\n"
     ]
    },
    {
     "data": {
      "image/png": "[encoded data removed]",
      "text/plain": [
       "<Figure size 576x432 with 1 Axes>"
      ]
     },
     "metadata": {
      "needs_background": "light"
     },
     "output_type": "display_data"
    }
   ],
   "source": [
    "for i in range(1):\n",
    "    fold = KFold(n_splits=5, shuffle=True, random_state=71)\n",
    "    ydfi=ydf.iloc[:,i]\n",
    "    y=np.array(ydfi)\n",
    "    cv = list(fold.split(train_feat_df, y))\n",
    "    oof, models = fit_lgbm(train_feat_df.values, y, cv, params=params, verbose=500)\n",
    "    fig, ax = visualize_importance(models, train_feat_df)\n",
    "    ax.set_title(target[i]+' Imortance',fontsize=20)\n"
   ]
  },
  {
   "cell_type": "code",
   "execution_count": 47,
   "metadata": {
    "execution": {
     "iopub.execute_input": "2021-08-31T08:24:19.574224Z",
     "iopub.status.busy": "2021-08-31T08:24:19.573628Z",
     "iopub.status.idle": "2021-08-31T08:24:19.585867Z",
     "shell.execute_reply": "2021-08-31T08:24:19.586342Z",
     "shell.execute_reply.started": "2021-08-31T08:19:28.942022Z"
    },
    "papermill": {
     "duration": 0.086166,
     "end_time": "2021-08-31T08:24:19.586500",
     "exception": false,
     "start_time": "2021-08-31T08:24:19.500334",
     "status": "completed"
    },
    "tags": []
   },
   "outputs": [
    {
     "data": {
      "text/plain": [
       "array([40970.73679126, 54799.16280472, 94378.66315614, 40702.81877357,\n",
       "       25137.40870638])"
      ]
     },
     "execution_count": 47,
     "metadata": {},
     "output_type": "execute_result"
    }
   ],
   "source": [
    "pred0 = np.array([model.predict(test_feat_df.values) for model in models])\n",
    "PRED = pred0[4]\n",
    "PRED[0:5]"
   ]
  },
  {
   "cell_type": "code",
   "execution_count": 48,
   "metadata": {
    "execution": {
     "iopub.execute_input": "2021-08-31T08:24:19.731169Z",
     "iopub.status.busy": "2021-08-31T08:24:19.730545Z",
     "iopub.status.idle": "2021-08-31T08:24:19.735523Z",
     "shell.execute_reply": "2021-08-31T08:24:19.735980Z",
     "shell.execute_reply.started": "2021-08-31T08:19:28.963953Z"
    },
    "papermill": {
     "duration": 0.078698,
     "end_time": "2021-08-31T08:24:19.736142",
     "exception": false,
     "start_time": "2021-08-31T08:24:19.657444",
     "status": "completed"
    },
    "tags": []
   },
   "outputs": [
    {
     "data": {
      "text/plain": [
       "array([40800, 59990, 90000, 25995, 26795])"
      ]
     },
     "execution_count": 48,
     "metadata": {},
     "output_type": "execute_result"
    }
   ],
   "source": [
    "ANS=np.array(testY)\n",
    "ANS[0:5]"
   ]
  },
  {
   "cell_type": "code",
   "execution_count": 49,
   "metadata": {
    "execution": {
     "iopub.execute_input": "2021-08-31T08:24:19.878956Z",
     "iopub.status.busy": "2021-08-31T08:24:19.878444Z",
     "iopub.status.idle": "2021-08-31T08:24:20.239168Z",
     "shell.execute_reply": "2021-08-31T08:24:20.239708Z",
     "shell.execute_reply.started": "2021-08-31T08:19:28.979128Z"
    },
    "papermill": {
     "duration": 0.434979,
     "end_time": "2021-08-31T08:24:20.239871",
     "exception": false,
     "start_time": "2021-08-31T08:24:19.804892",
     "status": "completed"
    },
    "tags": []
   },
   "outputs": [
    {
     "data": {
      "image/png": "[encoded data removed]",
      "text/plain": [
       "<Figure size 576x576 with 1 Axes>"
      ]
     },
     "metadata": {
      "needs_background": "light"
     },
     "output_type": "display_data"
    }
   ],
   "source": [
    "fig, ax = plt.subplots(figsize=(8,8))\n",
    "sns.histplot(PRED, label='Predicted Test '+target[0], ax=ax, color='black',bins=30)\n",
    "sns.histplot(oof, label='Predicted Train '+target[0], ax=ax, color='C1',bins=30)\n",
    "ax.legend()\n",
    "ax.grid()"
   ]
  },
  {
   "cell_type": "code",
   "execution_count": 50,
   "metadata": {
    "execution": {
     "iopub.execute_input": "2021-08-31T08:24:20.413282Z",
     "iopub.status.busy": "2021-08-31T08:24:20.412597Z",
     "iopub.status.idle": "2021-08-31T08:24:20.559774Z",
     "shell.execute_reply": "2021-08-31T08:24:20.559163Z",
     "shell.execute_reply.started": "2021-08-31T08:19:29.398929Z"
    },
    "papermill": {
     "duration": 0.248398,
     "end_time": "2021-08-31T08:24:20.559904",
     "exception": false,
     "start_time": "2021-08-31T08:24:20.311506",
     "status": "completed"
    },
    "tags": []
   },
   "outputs": [
    {
     "data": {
      "text/plain": [
       "<matplotlib.collections.PathCollection at 0x7f296c285b90>"
      ]
     },
     "execution_count": 50,
     "metadata": {},
     "output_type": "execute_result"
    },
    {
     "data": {
      "image/png": "[encoded data removed]",
      "text/plain": [
       "<Figure size 432x432 with 1 Axes>"
      ]
     },
     "metadata": {
      "needs_background": "light"
     },
     "output_type": "display_data"
    }
   ],
   "source": [
    "fig,ax = plt.subplots(figsize=(6,6))\n",
    "ax.set_title(target[0],fontsize=20)\n",
    "ax.set_xlabel('Actual Test '+target[0],fontsize=12)\n",
    "ax.set_ylabel('Predicted Test '+target[0],fontsize=12)\n",
    "ax.scatter(ANS,PRED)"
   ]
  },
  {
   "cell_type": "code",
   "execution_count": null,
   "metadata": {
    "papermill": {
     "duration": 0.079007,
     "end_time": "2021-08-31T08:24:20.711872",
     "exception": false,
     "start_time": "2021-08-31T08:24:20.632865",
     "status": "completed"
    },
    "tags": []
   },
   "outputs": [],
   "source": []
  },
  {
   "cell_type": "code",
   "execution_count": null,
   "metadata": {
    "papermill": {
     "duration": 0.070953,
     "end_time": "2021-08-31T08:24:20.872876",
     "exception": false,
     "start_time": "2021-08-31T08:24:20.801923",
     "status": "completed"
    },
    "tags": []
   },
   "outputs": [],
   "source": []
  },
  {
   "cell_type": "code",
   "execution_count": null,
   "metadata": {
    "papermill": {
     "duration": 0.073477,
     "end_time": "2021-08-31T08:24:21.019833",
     "exception": false,
     "start_time": "2021-08-31T08:24:20.946356",
     "status": "completed"
    },
    "tags": []
   },
   "outputs": [],
   "source": []
  },
  {
   "cell_type": "code",
   "execution_count": null,
   "metadata": {
    "papermill": {
     "duration": 0.07274,
     "end_time": "2021-08-31T08:24:21.167011",
     "exception": false,
     "start_time": "2021-08-31T08:24:21.094271",
     "status": "completed"
    },
    "tags": []
   },
   "outputs": [],
   "source": []
  }
 ],
 "metadata": {
  "kernelspec": {
   "display_name": "Python 3",
   "language": "python",
   "name": "python3"
  },
  "language_info": {
   "codemirror_mode": {
    "name": "ipython",
    "version": 3
   },
   "file_extension": ".py",
   "mimetype": "text/x-python",
   "name": "python",
   "nbconvert_exporter": "python",
   "pygments_lexer": "ipython3",
   "version": "3.8.5"
  },
  "papermill": {
   "default_parameters": {},
   "duration": 33.769615,
   "end_time": "2021-08-31T08:24:23.141406",
   "environment_variables": {},
   "exception": null,
   "input_path": "__notebook__.ipynb",
   "output_path": "__notebook__.ipynb",
   "parameters": {},
   "start_time": "2021-08-31T08:23:49.371791",
   "version": "2.3.3"
  }
 },
 "nbformat": 4,
 "nbformat_minor": 5
}
