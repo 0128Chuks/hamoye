{
 "cells": [
  {
   "cell_type": "code",
   "execution_count": 1,
   "metadata": {},
   "outputs": [],
   "source": [
    "# Import Libraries\n",
    "from selenium import webdriver\n",
    "from bs4 import BeautifulSoup"
   ]
  },
  {
   "cell_type": "code",
   "execution_count": 2,
   "metadata": {},
   "outputs": [],
   "source": [
    "# Start Chrome Browser in incognito and headless mode (no chrome popup and surfing web URLs)\n",
    "options = webdriver.ChromeOptions()\n",
    "options.add_argument('--ignore-certificate-errors')\n",
    "options.add_argument('--incognito')\n",
    "options.add_argument('--headless')"
   ]
  },
  {
   "cell_type": "code",
   "execution_count": 5,
   "metadata": {},
   "outputs": [],
   "source": [
    "# load the given url\n",
    "driver = webdriver.Chrome(executable_path = \"C:/Users/Sarki_Bravo/chromedriver.exe\")\n",
    "source =driver.get('https://ev-database.org/')"
   ]
  },
  {
   "cell_type": "code",
   "execution_count": 18,
   "metadata": {},
   "outputs": [],
   "source": [
    "# Get the url source code\n",
    "source_code=driver.page_source"
   ]
  },
  {
   "cell_type": "code",
   "execution_count": 123,
   "metadata": {},
   "outputs": [],
   "source": [
    "# Parse source_code variable into ‘BeautifulSoup’ \n",
    "soup = BeautifulSoup(source_code,'lxml')\n",
    "vehicle_names =soup.find_all('div',class_='title-wrap')\n",
    "models =soup.find_all('span',class_='model')\n",
    "batteries =soup.find_all('span',class_='battery')\n",
    "accelerations =soup.find_all('span',class_='acceleration')\n",
    "speeds =soup.find_all('span',class_='topspeed')\n",
    "efficiencies =soup.find_all('span',class_='efficiency')\n",
    "fast_charges =soup.find_all('span',class_='fastcharge_speed_print')\n",
    "prices_uk =soup.find_all('span',class_='country_uk')\n",
    "prices_ger =soup.find_all('span',class_='country_de')\n"
   ]
  },
  {
   "cell_type": "code",
   "execution_count": 124,
   "metadata": {},
   "outputs": [],
   "source": [
    "# get vehicle names\n",
    "names_ = []\n",
    "for name in vehicle_names:\n",
    "    nm = name.find('span').get_text()\n",
    "    names_.append(nm)"
   ]
  },
  {
   "cell_type": "code",
   "execution_count": 125,
   "metadata": {},
   "outputs": [],
   "source": [
    "# get vehicle models\n",
    "models_ = []\n",
    "for model in models:\n",
    "    mo = model.get_text()\n",
    "    models_.append(mo)"
   ]
  },
  {
   "cell_type": "code",
   "execution_count": 126,
   "metadata": {},
   "outputs": [],
   "source": [
    "# get batteries\n",
    "batteries_ = []\n",
    "for batt in batteries:\n",
    "    ba = batt.get_text()\n",
    "    batteries_.append(ba)\n"
   ]
  },
  {
   "cell_type": "code",
   "execution_count": 127,
   "metadata": {},
   "outputs": [],
   "source": [
    "# get acceleration\n",
    "accelerations_ = []\n",
    "for acce in accelerations:\n",
    "    ac = acce.get_text()\n",
    "#     ac = ac.split(\" \")[0]\n",
    "    accelerations_.append(ac)"
   ]
  },
  {
   "cell_type": "code",
   "execution_count": 128,
   "metadata": {},
   "outputs": [],
   "source": [
    "# get speeds\n",
    "speeds_ = []\n",
    "for speed in speeds:\n",
    "    sp = speed.get_text()\n",
    "#     sp = sp.split(\" \")[0]\n",
    "    speeds_.append(sp)"
   ]
  },
  {
   "cell_type": "code",
   "execution_count": 129,
   "metadata": {},
   "outputs": [],
   "source": [
    "# get effi\n",
    "efficiencies_ = []\n",
    "for effi in efficiency:\n",
    "    ef = effi.get_text()\n",
    "    #     ef = ef.split(\" \")[0]\n",
    "    efficiencies_.append(ef)"
   ]
  },
  {
   "cell_type": "code",
   "execution_count": 130,
   "metadata": {},
   "outputs": [],
   "source": [
    "# fast charge\n",
    "fast_charges_ = []\n",
    "for fc in fast_charges:\n",
    "    f = fc.get_text()\n",
    "    fast_charges_.append(f)"
   ]
  },
  {
   "cell_type": "code",
   "execution_count": 135,
   "metadata": {},
   "outputs": [],
   "source": [
    "# get price united kingdom\n",
    "prices_uk_ = []\n",
    "for price in prices_uk:\n",
    "    pr = price.get_text()\n",
    "    prices_uk_.append(pr)\n"
   ]
  },
  {
   "cell_type": "code",
   "execution_count": 136,
   "metadata": {},
   "outputs": [],
   "source": [
    "# get price germany\n",
    "prices_ger_ = []\n",
    "for price in prices_ger:\n",
    "    pr = price.get_text()\n",
    "    prices_ger_.append(pr)"
   ]
  },
  {
   "cell_type": "code",
   "execution_count": 137,
   "metadata": {},
   "outputs": [],
   "source": [
    "data_set = {\"vehicle name\": names_, \"model\": models_, 'battery kWh': batteries_, 'acceleration sec': accelerations_,\n",
    "           'top speeds km/h': speeds_, 'efficiency Wh/km': efficiencies_, 'fast charge km/h': fast_charges_, 'price uk': prices_uk_, 'price ger': prices_ger_}"
   ]
  },
  {
   "cell_type": "code",
   "execution_count": 121,
   "metadata": {},
   "outputs": [],
   "source": [
    "import pandas as pd"
   ]
  },
  {
   "cell_type": "code",
   "execution_count": 138,
   "metadata": {},
   "outputs": [
    {
     "data": {
      "text/html": [
       "<div>\n",
       "<style scoped>\n",
       "    .dataframe tbody tr th:only-of-type {\n",
       "        vertical-align: middle;\n",
       "    }\n",
       "\n",
       "    .dataframe tbody tr th {\n",
       "        vertical-align: top;\n",
       "    }\n",
       "\n",
       "    .dataframe thead th {\n",
       "        text-align: right;\n",
       "    }\n",
       "</style>\n",
       "<table border=\"1\" class=\"dataframe\">\n",
       "  <thead>\n",
       "    <tr style=\"text-align: right;\">\n",
       "      <th></th>\n",
       "      <th>vehicle name</th>\n",
       "      <th>model</th>\n",
       "      <th>battery kWh</th>\n",
       "      <th>acceleration sec</th>\n",
       "      <th>top speeds km/h</th>\n",
       "      <th>efficiency Wh/km</th>\n",
       "      <th>fast charge km/h</th>\n",
       "      <th>price uk</th>\n",
       "      <th>price ger</th>\n",
       "    </tr>\n",
       "  </thead>\n",
       "  <tbody>\n",
       "    <tr>\n",
       "      <th>0</th>\n",
       "      <td>Mercedes</td>\n",
       "      <td>EQS 580 4MATIC</td>\n",
       "      <td>107.8</td>\n",
       "      <td>4.3 sec</td>\n",
       "      <td>210 km/h</td>\n",
       "      <td>177 Wh/km</td>\n",
       "      <td>800 km/h</td>\n",
       "      <td>* £115,000</td>\n",
       "      <td>€135,529</td>\n",
       "    </tr>\n",
       "    <tr>\n",
       "      <th>1</th>\n",
       "      <td>Tesla</td>\n",
       "      <td>Model 3 Standard Range Plus LFP</td>\n",
       "      <td>52.5</td>\n",
       "      <td>5.6 sec</td>\n",
       "      <td>225 km/h</td>\n",
       "      <td>150 Wh/km</td>\n",
       "      <td>560 km/h</td>\n",
       "      <td>£40,990</td>\n",
       "      <td>€43,560</td>\n",
       "    </tr>\n",
       "    <tr>\n",
       "      <th>2</th>\n",
       "      <td>Tesla</td>\n",
       "      <td>Model Y Long Range Dual Motor</td>\n",
       "      <td>70</td>\n",
       "      <td>5.0 sec</td>\n",
       "      <td>217 km/h</td>\n",
       "      <td>171 Wh/km</td>\n",
       "      <td>520 km/h</td>\n",
       "      <td>* £54,000</td>\n",
       "      <td>€59,965</td>\n",
       "    </tr>\n",
       "    <tr>\n",
       "      <th>3</th>\n",
       "      <td>Kia</td>\n",
       "      <td>EV6 GT</td>\n",
       "      <td>77.4</td>\n",
       "      <td>3.5 sec</td>\n",
       "      <td>260 km/h</td>\n",
       "      <td>196 Wh/km</td>\n",
       "      <td>920 km/h</td>\n",
       "      <td>£58,295</td>\n",
       "      <td>€65,990</td>\n",
       "    </tr>\n",
       "    <tr>\n",
       "      <th>4</th>\n",
       "      <td>Tesla</td>\n",
       "      <td>Model 3 Long Range Dual Motor</td>\n",
       "      <td>70</td>\n",
       "      <td>4.4 sec</td>\n",
       "      <td>233 km/h</td>\n",
       "      <td>154 Wh/km</td>\n",
       "      <td>570 km/h</td>\n",
       "      <td>£48,490</td>\n",
       "      <td>N/A</td>\n",
       "    </tr>\n",
       "    <tr>\n",
       "      <th>...</th>\n",
       "      <td>...</td>\n",
       "      <td>...</td>\n",
       "      <td>...</td>\n",
       "      <td>...</td>\n",
       "      <td>...</td>\n",
       "      <td>...</td>\n",
       "      <td>...</td>\n",
       "      <td>...</td>\n",
       "      <td>...</td>\n",
       "    </tr>\n",
       "    <tr>\n",
       "      <th>176</th>\n",
       "      <td>Toyota</td>\n",
       "      <td>PROACE Verso L 50 kWh</td>\n",
       "      <td>45</td>\n",
       "      <td>12.1 sec</td>\n",
       "      <td>130 km/h</td>\n",
       "      <td>250 Wh/km</td>\n",
       "      <td>240 km/h</td>\n",
       "      <td>N/A</td>\n",
       "      <td>€59,385</td>\n",
       "    </tr>\n",
       "    <tr>\n",
       "      <th>177</th>\n",
       "      <td>Citroen</td>\n",
       "      <td>e-SpaceTourer XL 50 kWh</td>\n",
       "      <td>45</td>\n",
       "      <td>12.1 sec</td>\n",
       "      <td>130 km/h</td>\n",
       "      <td>257 Wh/km</td>\n",
       "      <td>230 km/h</td>\n",
       "      <td>N/A</td>\n",
       "      <td>€52,230</td>\n",
       "    </tr>\n",
       "    <tr>\n",
       "      <th>178</th>\n",
       "      <td>Citroen</td>\n",
       "      <td>e-SpaceTourer XS 50 kWh</td>\n",
       "      <td>45</td>\n",
       "      <td>12.1 sec</td>\n",
       "      <td>130 km/h</td>\n",
       "      <td>243 Wh/km</td>\n",
       "      <td>250 km/h</td>\n",
       "      <td>N/A</td>\n",
       "      <td>€50,880</td>\n",
       "    </tr>\n",
       "    <tr>\n",
       "      <th>179</th>\n",
       "      <td>Peugeot</td>\n",
       "      <td>e-Traveller Compact 50 kWh</td>\n",
       "      <td>45</td>\n",
       "      <td>12.1 sec</td>\n",
       "      <td>130 km/h</td>\n",
       "      <td>243 Wh/km</td>\n",
       "      <td>250 km/h</td>\n",
       "      <td>N/A</td>\n",
       "      <td>€50,880</td>\n",
       "    </tr>\n",
       "    <tr>\n",
       "      <th>180</th>\n",
       "      <td>Opel</td>\n",
       "      <td>Zafira-e Life M 50 kWh</td>\n",
       "      <td>45</td>\n",
       "      <td>12.1 sec</td>\n",
       "      <td>130 km/h</td>\n",
       "      <td>250 Wh/km</td>\n",
       "      <td>240 km/h</td>\n",
       "      <td>N/A</td>\n",
       "      <td>€53,800</td>\n",
       "    </tr>\n",
       "  </tbody>\n",
       "</table>\n",
       "<p>181 rows × 9 columns</p>\n",
       "</div>"
      ],
      "text/plain": [
       "    vehicle name                            model battery kWh  \\\n",
       "0       Mercedes                   EQS 580 4MATIC       107.8   \n",
       "1          Tesla  Model 3 Standard Range Plus LFP        52.5   \n",
       "2          Tesla    Model Y Long Range Dual Motor          70   \n",
       "3            Kia                           EV6 GT        77.4   \n",
       "4          Tesla    Model 3 Long Range Dual Motor          70   \n",
       "..           ...                              ...         ...   \n",
       "176       Toyota            PROACE Verso L 50 kWh          45   \n",
       "177      Citroen          e-SpaceTourer XL 50 kWh          45   \n",
       "178      Citroen          e-SpaceTourer XS 50 kWh          45   \n",
       "179      Peugeot       e-Traveller Compact 50 kWh          45   \n",
       "180         Opel           Zafira-e Life M 50 kWh          45   \n",
       "\n",
       "    acceleration sec top speeds km/h efficiency Wh/km fast charge km/h  \\\n",
       "0            4.3 sec        210 km/h        177 Wh/km         800 km/h   \n",
       "1            5.6 sec        225 km/h        150 Wh/km         560 km/h   \n",
       "2            5.0 sec        217 km/h        171 Wh/km         520 km/h   \n",
       "3            3.5 sec        260 km/h        196 Wh/km         920 km/h   \n",
       "4            4.4 sec        233 km/h        154 Wh/km         570 km/h   \n",
       "..               ...             ...              ...              ...   \n",
       "176         12.1 sec        130 km/h        250 Wh/km         240 km/h   \n",
       "177         12.1 sec        130 km/h        257 Wh/km         230 km/h   \n",
       "178         12.1 sec        130 km/h        243 Wh/km         250 km/h   \n",
       "179         12.1 sec        130 km/h        243 Wh/km         250 km/h   \n",
       "180         12.1 sec        130 km/h        250 Wh/km         240 km/h   \n",
       "\n",
       "       price uk price ger  \n",
       "0    * £115,000  €135,529  \n",
       "1       £40,990   €43,560  \n",
       "2     * £54,000   €59,965  \n",
       "3       £58,295   €65,990  \n",
       "4       £48,490       N/A  \n",
       "..          ...       ...  \n",
       "176         N/A   €59,385  \n",
       "177         N/A   €52,230  \n",
       "178         N/A   €50,880  \n",
       "179         N/A   €50,880  \n",
       "180         N/A   €53,800  \n",
       "\n",
       "[181 rows x 9 columns]"
      ]
     },
     "execution_count": 138,
     "metadata": {},
     "output_type": "execute_result"
    }
   ],
   "source": [
    "df = pd.DataFrame(data_set)\n",
    "df"
   ]
  },
  {
   "cell_type": "code",
   "execution_count": 142,
   "metadata": {},
   "outputs": [],
   "source": [
    "df.to_csv(\"EVdataset.csv\")"
   ]
  },
  {
   "cell_type": "code",
   "execution_count": null,
   "metadata": {},
   "outputs": [],
   "source": []
  }
 ],
 "metadata": {
  "kernelspec": {
   "display_name": "Python 3",
   "language": "python",
   "name": "python3"
  },
  "language_info": {
   "codemirror_mode": {
    "name": "ipython",
    "version": 3
   },
   "file_extension": ".py",
   "mimetype": "text/x-python",
   "name": "python",
   "nbconvert_exporter": "python",
   "pygments_lexer": "ipython3",
   "version": "3.8.5"
  }
 },
 "nbformat": 4,
 "nbformat_minor": 4
}
