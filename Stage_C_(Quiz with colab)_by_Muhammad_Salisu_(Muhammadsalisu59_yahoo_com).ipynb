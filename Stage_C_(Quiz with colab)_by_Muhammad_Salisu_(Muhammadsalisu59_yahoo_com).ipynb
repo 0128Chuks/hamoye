{
  "nbformat": 4,
  "nbformat_minor": 0,
  "metadata": {
    "kernelspec": {
      "display_name": "Python 3",
      "language": "python",
      "name": "python3"
    },
    "language_info": {
      "codemirror_mode": {
        "name": "ipython",
        "version": 3
      },
      "file_extension": ".py",
      "mimetype": "text/x-python",
      "name": "python",
      "nbconvert_exporter": "python",
      "pygments_lexer": "ipython3",
      "version": "3.8.5"
    },
    "colab": {
      "name": "Stage C (Quiz) by Muhammad Salisu (Muhammadsalisu59@yahoo.com).ipynb",
      "provenance": [],
      "collapsed_sections": [
        "9wUtELRznDyk",
        "JxJBim7anDyp",
        "yUpUX3CqnDy_",
        "CHZq6ghCnDzD",
        "1u9TGPjgnDzF",
        "MTPiYz4qnDzH",
        "uJbu9QCRnDzL",
        "jZevbTJ4nDzN",
        "UlInFOasnDzP",
        "zJBZe8XUnDzR",
        "RlmCi082nDzi",
        "ExUsM-aknDzk",
        "DOnkfS1bnDzl",
        "Djr2OpkrnDzn",
        "V6KvyL3cnDzp",
        "k2e4rHi5nDzr",
        "BWuSUB6WnDzs",
        "mRp18TQznDzu",
        "W9_NOw-knDzw",
        "VOyXy1oSnDzx",
        "aHPrtxoXnDzz",
        "HDAZ-IPtnDz1"
      ]
    },
    "accelerator": "TPU"
  },
  "cells": [
    {
      "cell_type": "code",
      "metadata": {
        "id": "k3aSGHqbnDxI"
      },
      "source": [
        "import pandas as pd\n",
        "import numpy as np"
      ],
      "execution_count": null,
      "outputs": []
    },
    {
      "cell_type": "code",
      "metadata": {
        "id": "Ic7SaTminDxb"
      },
      "source": [
        "# load dataset\n",
        "url = \"https://archive.ics.uci.edu/ml/machine-learning-databases/00471/Data_for_UCI_named.csv\"\n",
        "df = pd.read_csv(url)"
      ],
      "execution_count": null,
      "outputs": []
    },
    {
      "cell_type": "code",
      "metadata": {
        "id": "YXi8ACrYnDxf",
        "colab": {
          "base_uri": "https://localhost:8080/",
          "height": 224
        },
        "outputId": "898713bd-8715-493e-e491-546f49aa03de"
      },
      "source": [
        "df.head()"
      ],
      "execution_count": null,
      "outputs": [
        {
          "output_type": "execute_result",
          "data": {
            "text/html": [
              "<div>\n",
              "<style scoped>\n",
              "    .dataframe tbody tr th:only-of-type {\n",
              "        vertical-align: middle;\n",
              "    }\n",
              "\n",
              "    .dataframe tbody tr th {\n",
              "        vertical-align: top;\n",
              "    }\n",
              "\n",
              "    .dataframe thead th {\n",
              "        text-align: right;\n",
              "    }\n",
              "</style>\n",
              "<table border=\"1\" class=\"dataframe\">\n",
              "  <thead>\n",
              "    <tr style=\"text-align: right;\">\n",
              "      <th></th>\n",
              "      <th>tau1</th>\n",
              "      <th>tau2</th>\n",
              "      <th>tau3</th>\n",
              "      <th>tau4</th>\n",
              "      <th>p1</th>\n",
              "      <th>p2</th>\n",
              "      <th>p3</th>\n",
              "      <th>p4</th>\n",
              "      <th>g1</th>\n",
              "      <th>g2</th>\n",
              "      <th>g3</th>\n",
              "      <th>g4</th>\n",
              "      <th>stab</th>\n",
              "      <th>stabf</th>\n",
              "    </tr>\n",
              "  </thead>\n",
              "  <tbody>\n",
              "    <tr>\n",
              "      <th>0</th>\n",
              "      <td>2.959060</td>\n",
              "      <td>3.079885</td>\n",
              "      <td>8.381025</td>\n",
              "      <td>9.780754</td>\n",
              "      <td>3.763085</td>\n",
              "      <td>-0.782604</td>\n",
              "      <td>-1.257395</td>\n",
              "      <td>-1.723086</td>\n",
              "      <td>0.650456</td>\n",
              "      <td>0.859578</td>\n",
              "      <td>0.887445</td>\n",
              "      <td>0.958034</td>\n",
              "      <td>0.055347</td>\n",
              "      <td>unstable</td>\n",
              "    </tr>\n",
              "    <tr>\n",
              "      <th>1</th>\n",
              "      <td>9.304097</td>\n",
              "      <td>4.902524</td>\n",
              "      <td>3.047541</td>\n",
              "      <td>1.369357</td>\n",
              "      <td>5.067812</td>\n",
              "      <td>-1.940058</td>\n",
              "      <td>-1.872742</td>\n",
              "      <td>-1.255012</td>\n",
              "      <td>0.413441</td>\n",
              "      <td>0.862414</td>\n",
              "      <td>0.562139</td>\n",
              "      <td>0.781760</td>\n",
              "      <td>-0.005957</td>\n",
              "      <td>stable</td>\n",
              "    </tr>\n",
              "    <tr>\n",
              "      <th>2</th>\n",
              "      <td>8.971707</td>\n",
              "      <td>8.848428</td>\n",
              "      <td>3.046479</td>\n",
              "      <td>1.214518</td>\n",
              "      <td>3.405158</td>\n",
              "      <td>-1.207456</td>\n",
              "      <td>-1.277210</td>\n",
              "      <td>-0.920492</td>\n",
              "      <td>0.163041</td>\n",
              "      <td>0.766689</td>\n",
              "      <td>0.839444</td>\n",
              "      <td>0.109853</td>\n",
              "      <td>0.003471</td>\n",
              "      <td>unstable</td>\n",
              "    </tr>\n",
              "    <tr>\n",
              "      <th>3</th>\n",
              "      <td>0.716415</td>\n",
              "      <td>7.669600</td>\n",
              "      <td>4.486641</td>\n",
              "      <td>2.340563</td>\n",
              "      <td>3.963791</td>\n",
              "      <td>-1.027473</td>\n",
              "      <td>-1.938944</td>\n",
              "      <td>-0.997374</td>\n",
              "      <td>0.446209</td>\n",
              "      <td>0.976744</td>\n",
              "      <td>0.929381</td>\n",
              "      <td>0.362718</td>\n",
              "      <td>0.028871</td>\n",
              "      <td>unstable</td>\n",
              "    </tr>\n",
              "    <tr>\n",
              "      <th>4</th>\n",
              "      <td>3.134112</td>\n",
              "      <td>7.608772</td>\n",
              "      <td>4.943759</td>\n",
              "      <td>9.857573</td>\n",
              "      <td>3.525811</td>\n",
              "      <td>-1.125531</td>\n",
              "      <td>-1.845975</td>\n",
              "      <td>-0.554305</td>\n",
              "      <td>0.797110</td>\n",
              "      <td>0.455450</td>\n",
              "      <td>0.656947</td>\n",
              "      <td>0.820923</td>\n",
              "      <td>0.049860</td>\n",
              "      <td>unstable</td>\n",
              "    </tr>\n",
              "  </tbody>\n",
              "</table>\n",
              "</div>"
            ],
            "text/plain": [
              "       tau1      tau2      tau3  ...        g4      stab     stabf\n",
              "0  2.959060  3.079885  8.381025  ...  0.958034  0.055347  unstable\n",
              "1  9.304097  4.902524  3.047541  ...  0.781760 -0.005957    stable\n",
              "2  8.971707  8.848428  3.046479  ...  0.109853  0.003471  unstable\n",
              "3  0.716415  7.669600  4.486641  ...  0.362718  0.028871  unstable\n",
              "4  3.134112  7.608772  4.943759  ...  0.820923  0.049860  unstable\n",
              "\n",
              "[5 rows x 14 columns]"
            ]
          },
          "metadata": {},
          "execution_count": 3
        }
      ]
    },
    {
      "cell_type": "code",
      "metadata": {
        "scrolled": true,
        "id": "HsXN0nnRnDxl",
        "colab": {
          "base_uri": "https://localhost:8080/"
        },
        "outputId": "00a77977-3fd2-4be0-974e-9ab0e401108d"
      },
      "source": [
        "df.isnull().sum()"
      ],
      "execution_count": null,
      "outputs": [
        {
          "output_type": "execute_result",
          "data": {
            "text/plain": [
              "tau1     0\n",
              "tau2     0\n",
              "tau3     0\n",
              "tau4     0\n",
              "p1       0\n",
              "p2       0\n",
              "p3       0\n",
              "p4       0\n",
              "g1       0\n",
              "g2       0\n",
              "g3       0\n",
              "g4       0\n",
              "stab     0\n",
              "stabf    0\n",
              "dtype: int64"
            ]
          },
          "metadata": {},
          "execution_count": 4
        }
      ]
    },
    {
      "cell_type": "markdown",
      "metadata": {
        "id": "Do8-cdy7nDxo"
      },
      "source": [
        "## Following instruction from dataset description"
      ]
    },
    {
      "cell_type": "code",
      "metadata": {
        "id": "KfPVlOegnDxx"
      },
      "source": [
        "# Drop stab and stabf\n",
        "X = df.drop(columns = ['stab','stabf'])\n",
        "y = df['stabf']"
      ],
      "execution_count": null,
      "outputs": []
    },
    {
      "cell_type": "code",
      "metadata": {
        "id": "0UClrmRHnDx2",
        "colab": {
          "base_uri": "https://localhost:8080/"
        },
        "outputId": "0e2eaa7a-e37b-4623-9e8c-eec5d61644d3"
      },
      "source": [
        "y.value_counts()"
      ],
      "execution_count": null,
      "outputs": [
        {
          "output_type": "execute_result",
          "data": {
            "text/plain": [
              "unstable    6380\n",
              "stable      3620\n",
              "Name: stabf, dtype: int64"
            ]
          },
          "metadata": {},
          "execution_count": 6
        }
      ]
    },
    {
      "cell_type": "code",
      "metadata": {
        "id": "tn9l4zWHnDx6"
      },
      "source": [
        "from sklearn.model_selection import train_test_split\n",
        "x_train,x_test,y_train,y_test = train_test_split(X,y, random_state = 1, test_size=0.2 )"
      ],
      "execution_count": null,
      "outputs": []
    },
    {
      "cell_type": "code",
      "metadata": {
        "id": "ppPL-9bhnDx-",
        "colab": {
          "base_uri": "https://localhost:8080/"
        },
        "outputId": "2697308d-cdc1-488e-d52b-36cd99c67454"
      },
      "source": [
        "y_test.value_counts()"
      ],
      "execution_count": null,
      "outputs": [
        {
          "output_type": "execute_result",
          "data": {
            "text/plain": [
              "unstable    1288\n",
              "stable       712\n",
              "Name: stabf, dtype: int64"
            ]
          },
          "metadata": {},
          "execution_count": 8
        }
      ]
    },
    {
      "cell_type": "markdown",
      "metadata": {
        "id": "QG_AxfcGnDyD"
      },
      "source": [
        "### scaling the dataset"
      ]
    },
    {
      "cell_type": "code",
      "metadata": {
        "id": "REQ2hUuknDyH"
      },
      "source": [
        "from sklearn.preprocessing import StandardScaler\n",
        "scaler = StandardScaler()"
      ],
      "execution_count": null,
      "outputs": []
    },
    {
      "cell_type": "code",
      "metadata": {
        "id": "ggMud2ODnDyJ",
        "colab": {
          "base_uri": "https://localhost:8080/",
          "height": 224
        },
        "outputId": "939a4ed1-74e5-4c41-8849-268c5780ae2a"
      },
      "source": [
        "scaled_x_train = scaler.fit_transform(x_train)\n",
        "scaled_x_train = pd.DataFrame(scaled_x_train,columns = x_train.columns)\n",
        "scaled_x_train.head()"
      ],
      "execution_count": null,
      "outputs": [
        {
          "output_type": "execute_result",
          "data": {
            "text/html": [
              "<div>\n",
              "<style scoped>\n",
              "    .dataframe tbody tr th:only-of-type {\n",
              "        vertical-align: middle;\n",
              "    }\n",
              "\n",
              "    .dataframe tbody tr th {\n",
              "        vertical-align: top;\n",
              "    }\n",
              "\n",
              "    .dataframe thead th {\n",
              "        text-align: right;\n",
              "    }\n",
              "</style>\n",
              "<table border=\"1\" class=\"dataframe\">\n",
              "  <thead>\n",
              "    <tr style=\"text-align: right;\">\n",
              "      <th></th>\n",
              "      <th>tau1</th>\n",
              "      <th>tau2</th>\n",
              "      <th>tau3</th>\n",
              "      <th>tau4</th>\n",
              "      <th>p1</th>\n",
              "      <th>p2</th>\n",
              "      <th>p3</th>\n",
              "      <th>p4</th>\n",
              "      <th>g1</th>\n",
              "      <th>g2</th>\n",
              "      <th>g3</th>\n",
              "      <th>g4</th>\n",
              "    </tr>\n",
              "  </thead>\n",
              "  <tbody>\n",
              "    <tr>\n",
              "      <th>0</th>\n",
              "      <td>0.367327</td>\n",
              "      <td>-0.986042</td>\n",
              "      <td>0.650447</td>\n",
              "      <td>1.547527</td>\n",
              "      <td>-0.291490</td>\n",
              "      <td>0.061535</td>\n",
              "      <td>1.293862</td>\n",
              "      <td>-0.845074</td>\n",
              "      <td>0.160918</td>\n",
              "      <td>0.339859</td>\n",
              "      <td>0.585568</td>\n",
              "      <td>0.492239</td>\n",
              "    </tr>\n",
              "    <tr>\n",
              "      <th>1</th>\n",
              "      <td>-0.064659</td>\n",
              "      <td>0.089437</td>\n",
              "      <td>1.035079</td>\n",
              "      <td>-1.641494</td>\n",
              "      <td>0.619865</td>\n",
              "      <td>-0.067235</td>\n",
              "      <td>-1.502925</td>\n",
              "      <td>0.486613</td>\n",
              "      <td>-0.293143</td>\n",
              "      <td>-1.558488</td>\n",
              "      <td>1.429649</td>\n",
              "      <td>-1.443521</td>\n",
              "    </tr>\n",
              "    <tr>\n",
              "      <th>2</th>\n",
              "      <td>-1.467850</td>\n",
              "      <td>1.298418</td>\n",
              "      <td>-0.502536</td>\n",
              "      <td>1.166046</td>\n",
              "      <td>-0.180521</td>\n",
              "      <td>0.490603</td>\n",
              "      <td>0.682560</td>\n",
              "      <td>-0.855302</td>\n",
              "      <td>1.399350</td>\n",
              "      <td>1.451534</td>\n",
              "      <td>-1.045743</td>\n",
              "      <td>0.492489</td>\n",
              "    </tr>\n",
              "    <tr>\n",
              "      <th>3</th>\n",
              "      <td>0.820081</td>\n",
              "      <td>0.529920</td>\n",
              "      <td>1.299657</td>\n",
              "      <td>-1.141975</td>\n",
              "      <td>-0.812854</td>\n",
              "      <td>-0.763632</td>\n",
              "      <td>1.521579</td>\n",
              "      <td>0.658780</td>\n",
              "      <td>-0.958319</td>\n",
              "      <td>1.361958</td>\n",
              "      <td>1.604140</td>\n",
              "      <td>0.275303</td>\n",
              "    </tr>\n",
              "    <tr>\n",
              "      <th>4</th>\n",
              "      <td>0.665424</td>\n",
              "      <td>-1.425627</td>\n",
              "      <td>0.312300</td>\n",
              "      <td>0.919137</td>\n",
              "      <td>-1.614296</td>\n",
              "      <td>0.760315</td>\n",
              "      <td>1.422019</td>\n",
              "      <td>0.639243</td>\n",
              "      <td>1.676895</td>\n",
              "      <td>0.695660</td>\n",
              "      <td>1.137504</td>\n",
              "      <td>-1.312575</td>\n",
              "    </tr>\n",
              "  </tbody>\n",
              "</table>\n",
              "</div>"
            ],
            "text/plain": [
              "       tau1      tau2      tau3  ...        g2        g3        g4\n",
              "0  0.367327 -0.986042  0.650447  ...  0.339859  0.585568  0.492239\n",
              "1 -0.064659  0.089437  1.035079  ... -1.558488  1.429649 -1.443521\n",
              "2 -1.467850  1.298418 -0.502536  ...  1.451534 -1.045743  0.492489\n",
              "3  0.820081  0.529920  1.299657  ...  1.361958  1.604140  0.275303\n",
              "4  0.665424 -1.425627  0.312300  ...  0.695660  1.137504 -1.312575\n",
              "\n",
              "[5 rows x 12 columns]"
            ]
          },
          "metadata": {},
          "execution_count": 10
        }
      ]
    },
    {
      "cell_type": "code",
      "metadata": {
        "id": "TbjwZPOCnDyM"
      },
      "source": [
        "scaled_x_test = scaler.transform(x_test)\n",
        "scaled_x_test = pd.DataFrame(scaled_x_test, columns = x_test.columns)"
      ],
      "execution_count": null,
      "outputs": []
    },
    {
      "cell_type": "markdown",
      "metadata": {
        "id": "eyJpj4nLnDyO"
      },
      "source": [
        "## Random Forest Classifier"
      ]
    },
    {
      "cell_type": "code",
      "metadata": {
        "id": "MuorqTTJnDyP",
        "colab": {
          "base_uri": "https://localhost:8080/"
        },
        "outputId": "28ff1b7a-78ed-4712-f5cb-ff58e0277bba"
      },
      "source": [
        "from sklearn.ensemble import RandomForestClassifier\n",
        "rfc = RandomForestClassifier(random_state =1)\n",
        "rfc.fit(scaled_x_train,y_train)"
      ],
      "execution_count": null,
      "outputs": [
        {
          "output_type": "execute_result",
          "data": {
            "text/plain": [
              "RandomForestClassifier(bootstrap=True, ccp_alpha=0.0, class_weight=None,\n",
              "                       criterion='gini', max_depth=None, max_features='auto',\n",
              "                       max_leaf_nodes=None, max_samples=None,\n",
              "                       min_impurity_decrease=0.0, min_impurity_split=None,\n",
              "                       min_samples_leaf=1, min_samples_split=2,\n",
              "                       min_weight_fraction_leaf=0.0, n_estimators=100,\n",
              "                       n_jobs=None, oob_score=False, random_state=1, verbose=0,\n",
              "                       warm_start=False)"
            ]
          },
          "metadata": {},
          "execution_count": 12
        }
      ]
    },
    {
      "cell_type": "code",
      "metadata": {
        "id": "PloI1o0gnDyR"
      },
      "source": [
        "pred_forest = rfc.predict(scaled_x_test)"
      ],
      "execution_count": null,
      "outputs": []
    },
    {
      "cell_type": "code",
      "metadata": {
        "scrolled": true,
        "id": "iWAQoZxBnDyT",
        "colab": {
          "base_uri": "https://localhost:8080/"
        },
        "outputId": "53e6d893-df10-4896-86dc-d17323f2db7a"
      },
      "source": [
        "from sklearn.metrics import accuracy_score\n",
        "accuracy = accuracy_score(y_test,pred_forest)\n",
        "print(f\"Accuracy: {round(accuracy,4)}\")"
      ],
      "execution_count": null,
      "outputs": [
        {
          "output_type": "stream",
          "name": "stdout",
          "text": [
            "Accuracy: 0.929\n"
          ]
        }
      ]
    },
    {
      "cell_type": "markdown",
      "metadata": {
        "id": "dir8bZlgnDyV"
      },
      "source": [
        "## Extra Trees Classifier"
      ]
    },
    {
      "cell_type": "code",
      "metadata": {
        "id": "9G05j5cvnDyW",
        "colab": {
          "base_uri": "https://localhost:8080/"
        },
        "outputId": "a1e4488a-3b22-437a-ef11-d90204574ef5"
      },
      "source": [
        "from sklearn.ensemble import ExtraTreesClassifier\n",
        "etc = ExtraTreesClassifier(random_state = 1)\n",
        "etc.fit(scaled_x_train,y_train)"
      ],
      "execution_count": null,
      "outputs": [
        {
          "output_type": "execute_result",
          "data": {
            "text/plain": [
              "ExtraTreesClassifier(bootstrap=False, ccp_alpha=0.0, class_weight=None,\n",
              "                     criterion='gini', max_depth=None, max_features='auto',\n",
              "                     max_leaf_nodes=None, max_samples=None,\n",
              "                     min_impurity_decrease=0.0, min_impurity_split=None,\n",
              "                     min_samples_leaf=1, min_samples_split=2,\n",
              "                     min_weight_fraction_leaf=0.0, n_estimators=100,\n",
              "                     n_jobs=None, oob_score=False, random_state=1, verbose=0,\n",
              "                     warm_start=False)"
            ]
          },
          "metadata": {},
          "execution_count": 15
        }
      ]
    },
    {
      "cell_type": "code",
      "metadata": {
        "id": "Nqi1liqMnDyY"
      },
      "source": [
        "pred_tree = etc.predict(scaled_x_test)"
      ],
      "execution_count": null,
      "outputs": []
    },
    {
      "cell_type": "code",
      "metadata": {
        "id": "eyrGAv2wnDya",
        "colab": {
          "base_uri": "https://localhost:8080/"
        },
        "outputId": "b2a44ee4-db2a-48ff-c62a-2ad6769c8433"
      },
      "source": [
        "accuracy = accuracy_score(y_test,pred_tree)\n",
        "print(f\"Accuracy: {round(accuracy,4)}\")"
      ],
      "execution_count": null,
      "outputs": [
        {
          "output_type": "stream",
          "name": "stdout",
          "text": [
            "Accuracy: 0.928\n"
          ]
        }
      ]
    },
    {
      "cell_type": "markdown",
      "metadata": {
        "id": "NV4y05_JnDyc"
      },
      "source": [
        "## XGBoost Classifier"
      ]
    },
    {
      "cell_type": "code",
      "metadata": {
        "id": "p26vQwV4nDyd"
      },
      "source": [
        "# import warnings\n",
        "# warnings.filterwarnings('ignore')"
      ],
      "execution_count": null,
      "outputs": []
    },
    {
      "cell_type": "code",
      "metadata": {
        "id": "REP4ccH1nDyf",
        "colab": {
          "base_uri": "https://localhost:8080/"
        },
        "outputId": "0285bf2b-aaef-4cc4-88d9-f8d331751c66"
      },
      "source": [
        "from xgboost import XGBClassifier\n",
        "xgbc = XGBClassifier(random_state=1, eval_metric = \"logloss\")\n",
        "xgbc.fit(scaled_x_train,y_train)"
      ],
      "execution_count": null,
      "outputs": [
        {
          "output_type": "execute_result",
          "data": {
            "text/plain": [
              "XGBClassifier(base_score=0.5, booster='gbtree', colsample_bylevel=1,\n",
              "              colsample_bynode=1, colsample_bytree=1, eval_metric='logloss',\n",
              "              gamma=0, learning_rate=0.1, max_delta_step=0, max_depth=3,\n",
              "              min_child_weight=1, missing=None, n_estimators=100, n_jobs=1,\n",
              "              nthread=None, objective='binary:logistic', random_state=1,\n",
              "              reg_alpha=0, reg_lambda=1, scale_pos_weight=1, seed=None,\n",
              "              silent=None, subsample=1, verbosity=1)"
            ]
          },
          "metadata": {},
          "execution_count": 19
        }
      ]
    },
    {
      "cell_type": "code",
      "metadata": {
        "id": "_QGIjGt5nDyh"
      },
      "source": [
        "pred_xgb = xgbc.predict(scaled_x_test)"
      ],
      "execution_count": null,
      "outputs": []
    },
    {
      "cell_type": "code",
      "metadata": {
        "id": "wZvsGf7hnDyi",
        "colab": {
          "base_uri": "https://localhost:8080/"
        },
        "outputId": "f6246198-9c39-4626-ad21-619135c82f0f"
      },
      "source": [
        "accuracy = accuracy_score(y_test, pred_xgb)\n",
        "print(f\"Accuracy: {round(accuracy,4)}\")"
      ],
      "execution_count": null,
      "outputs": [
        {
          "output_type": "stream",
          "name": "stdout",
          "text": [
            "Accuracy: 0.9195\n"
          ]
        }
      ]
    },
    {
      "cell_type": "markdown",
      "metadata": {
        "id": "9wUtELRznDyk"
      },
      "source": [
        "## LightGMB"
      ]
    },
    {
      "cell_type": "code",
      "metadata": {
        "id": "WRk2t9llnDyl",
        "colab": {
          "base_uri": "https://localhost:8080/"
        },
        "outputId": "c509cd1d-b528-4917-ce05-d86ae27771f2"
      },
      "source": [
        "from lightgbm import LGBMClassifier\n",
        "lgbm = LGBMClassifier(random_state=1)\n",
        "lgbm.fit(scaled_x_train,y_train)"
      ],
      "execution_count": null,
      "outputs": [
        {
          "output_type": "execute_result",
          "data": {
            "text/plain": [
              "LGBMClassifier(boosting_type='gbdt', class_weight=None, colsample_bytree=1.0,\n",
              "               importance_type='split', learning_rate=0.1, max_depth=-1,\n",
              "               min_child_samples=20, min_child_weight=0.001, min_split_gain=0.0,\n",
              "               n_estimators=100, n_jobs=-1, num_leaves=31, objective=None,\n",
              "               random_state=1, reg_alpha=0.0, reg_lambda=0.0, silent=True,\n",
              "               subsample=1.0, subsample_for_bin=200000, subsample_freq=0)"
            ]
          },
          "metadata": {},
          "execution_count": 22
        }
      ]
    },
    {
      "cell_type": "code",
      "metadata": {
        "id": "Z8189kC6nDyn"
      },
      "source": [
        "pred_lgmb = lgbm.predict(scaled_x_test)"
      ],
      "execution_count": null,
      "outputs": []
    },
    {
      "cell_type": "code",
      "metadata": {
        "id": "AP3oF2BBnDyo",
        "colab": {
          "base_uri": "https://localhost:8080/"
        },
        "outputId": "4810776a-78c4-4d18-a59a-3d52380c2605"
      },
      "source": [
        "accuracy_ = accuracy_score(y_test,pred_lgmb)\n",
        "print(f\"Accuracy: {round(accuracy_,4)}\")"
      ],
      "execution_count": null,
      "outputs": [
        {
          "output_type": "stream",
          "name": "stdout",
          "text": [
            "Accuracy: 0.9375\n"
          ]
        }
      ]
    },
    {
      "cell_type": "markdown",
      "metadata": {
        "id": "JxJBim7anDyp"
      },
      "source": [
        "## Tuning Paramaters"
      ]
    },
    {
      "cell_type": "code",
      "metadata": {
        "id": "8iMISomnnDyq"
      },
      "source": [
        "n_estimators = [50,100,300,500,1000] \n",
        "min_samples_split = [2,3,5,7,9] \n",
        "min_samples_leaf = [1,2,4,6,8] \n",
        "max_features = ['auto','sqrt','log2',None] \n",
        "hyperparameter_grid = {'n_estimators':n_estimators,\n",
        "                       'min_samples_leaf':min_samples_leaf,\n",
        "                       'min_samples_split':min_samples_split,\n",
        "                       'max_features':max_features}"
      ],
      "execution_count": null,
      "outputs": []
    },
    {
      "cell_type": "markdown",
      "metadata": {
        "id": "Xlg3voOgnDyr"
      },
      "source": [
        "## Randomized Cross Validation Search"
      ]
    },
    {
      "cell_type": "code",
      "metadata": {
        "id": "jbReTQ8_nDyt"
      },
      "source": [
        "from sklearn.model_selection import RandomizedSearchCV"
      ],
      "execution_count": null,
      "outputs": []
    },
    {
      "cell_type": "code",
      "metadata": {
        "id": "eOUgaDAinDyv"
      },
      "source": [
        "ran_search = RandomizedSearchCV(estimator = etc,param_distributions=hyperparameter_grid,random_state=1)\n",
        "ran_search = ran_search.fit(scaled_x_train,y_train)"
      ],
      "execution_count": null,
      "outputs": []
    },
    {
      "cell_type": "code",
      "metadata": {
        "scrolled": true,
        "id": "inM18WjBnDyw",
        "colab": {
          "base_uri": "https://localhost:8080/"
        },
        "outputId": "bb024ec6-f952-4c7a-dea6-34ed433554b6"
      },
      "source": [
        "ran_search.best_params_"
      ],
      "execution_count": null,
      "outputs": [
        {
          "output_type": "execute_result",
          "data": {
            "text/plain": [
              "{'max_features': None,\n",
              " 'min_samples_leaf': 8,\n",
              " 'min_samples_split': 2,\n",
              " 'n_estimators': 1000}"
            ]
          },
          "metadata": {},
          "execution_count": 28
        }
      ]
    },
    {
      "cell_type": "markdown",
      "metadata": {
        "id": "jU0LT__8nDyz"
      },
      "source": [
        "## New classifier using Extra tree"
      ]
    },
    {
      "cell_type": "code",
      "metadata": {
        "id": "6Kmzy-eInDy1"
      },
      "source": [
        "n_classifier = ExtraTreesClassifier(random_state=1,n_estimators = 1000,\n",
        "                                       min_samples_leaf= 8,max_features=None,\n",
        "                                       min_samples_split=2)\n",
        "n_classifier.fit(scaled_x_train,y_train)\n",
        "new_pred = n_classifier.predict(scaled_x_test)"
      ],
      "execution_count": null,
      "outputs": []
    },
    {
      "cell_type": "code",
      "metadata": {
        "id": "uUL4IGK1nDy3"
      },
      "source": [
        "accuracy = accuracy_score(y_test,new_pred)\n",
        "print(f\"Accuracy: {round(accuracy,4)}\")"
      ],
      "execution_count": null,
      "outputs": []
    },
    {
      "cell_type": "markdown",
      "metadata": {
        "id": "mE1xmQ82nDy5"
      },
      "source": [
        "## Feature Importance"
      ]
    },
    {
      "cell_type": "code",
      "metadata": {
        "id": "k7KO_ljMnDy5",
        "colab": {
          "base_uri": "https://localhost:8080/"
        },
        "outputId": "3540ef01-c2de-4d39-9ed3-f322bd45f1bc"
      },
      "source": [
        "imp = ran_search.best_estimator_.feature_importances_\n",
        "imp"
      ],
      "execution_count": null,
      "outputs": [
        {
          "output_type": "execute_result",
          "data": {
            "text/plain": [
              "array([0.13723975, 0.1405075 , 0.13468029, 0.13541676, 0.00368342,\n",
              "       0.00533686, 0.00542927, 0.00496249, 0.10256244, 0.10757765,\n",
              "       0.11306268, 0.10954089])"
            ]
          },
          "metadata": {},
          "execution_count": 31
        }
      ]
    },
    {
      "cell_type": "code",
      "metadata": {
        "id": "a7-cT6FSnDy7"
      },
      "source": [
        "most_imp_feat = imp.max()\n",
        "least_imp_feat = imp.min()"
      ],
      "execution_count": null,
      "outputs": []
    },
    {
      "cell_type": "code",
      "metadata": {
        "id": "Cf9fxkTVnDy7"
      },
      "source": [
        "most = X.columns[imp == most_imp_feat]\n",
        "least = X.columns[imp == least_imp_feat]"
      ],
      "execution_count": null,
      "outputs": []
    },
    {
      "cell_type": "code",
      "metadata": {
        "id": "fqAdBhpznDy8",
        "colab": {
          "base_uri": "https://localhost:8080/"
        },
        "outputId": "78a41d73-5b93-4e4c-f468-e01af6ed7d46"
      },
      "source": [
        "print(f\"most important features is {most[0]}\")\n",
        "print(f\"least important features is {least[0]}\")"
      ],
      "execution_count": null,
      "outputs": [
        {
          "output_type": "stream",
          "name": "stdout",
          "text": [
            "most important features is tau2\n",
            "least important features is p1\n"
          ]
        }
      ]
    },
    {
      "cell_type": "code",
      "metadata": {
        "id": "tHJZyGXinDy9",
        "colab": {
          "base_uri": "https://localhost:8080/"
        },
        "outputId": "cc811399-9f0d-418c-94ba-def53e321137"
      },
      "source": [
        "sorted(zip(imp,X),reverse = True)"
      ],
      "execution_count": null,
      "outputs": [
        {
          "output_type": "execute_result",
          "data": {
            "text/plain": [
              "[(0.14050750384993677, 'tau2'),\n",
              " (0.13723974766109256, 'tau1'),\n",
              " (0.1354167630909727, 'tau4'),\n",
              " (0.13468028520386593, 'tau3'),\n",
              " (0.11306267999167334, 'g3'),\n",
              " (0.10954089174337298, 'g4'),\n",
              " (0.10757764577478764, 'g2'),\n",
              " (0.10256244080927947, 'g1'),\n",
              " (0.005429268421191957, 'p3'),\n",
              " (0.005336864710946151, 'p2'),\n",
              " (0.004962486591192238, 'p4'),\n",
              " (0.003683422151688322, 'p1')]"
            ]
          },
          "metadata": {},
          "execution_count": 35
        }
      ]
    },
    {
      "cell_type": "markdown",
      "metadata": {
        "id": "hp1pDOWIqDKs"
      },
      "source": [
        "### All Questions"
      ]
    },
    {
      "cell_type": "markdown",
      "metadata": {
        "id": "yUpUX3CqnDy_"
      },
      "source": [
        "### You are working on a spam classifi cation system using regularized logisticregression. “Spam” is a positive class (y = 1) and “not spam” is the negative class (y =0). You have trained your classifi er and there are n = 2000 examples in the test set.The confusion matrix of predicted class vs. actual class is:"
      ]
    },
    {
      "cell_type": "code",
      "metadata": {
        "id": "uXgGMZ2qnDzB",
        "colab": {
          "base_uri": "https://localhost:8080/"
        },
        "outputId": "b3487b2f-9a82-48ca-ca82-afa547d2f67d"
      },
      "source": [
        "TP = 355\n",
        "TN = 120\n",
        "FP = 1480\n",
        "FN = 45\n",
        "total = TP+TN+FP+FN\n",
        "\n",
        "accuracy = (TP+TN)/total\n",
        "print(f\"Accuracy: {accuracy}\")\n",
        "precision = TP / (TP+FP)\n",
        "print(f\"Precision: {precision}\")\n",
        "recall = TP / (TP + FN)\n",
        "print(f\"Recall: {recall}\")\n",
        "f1_score = 2 * (precision * recall) / (precision + recall)\n",
        "print(f\"F1 Score: {f1_score}\")"
      ],
      "execution_count": null,
      "outputs": [
        {
          "output_type": "stream",
          "name": "stdout",
          "text": [
            "Accuracy: 0.2375\n",
            "Precision: 0.19346049046321526\n",
            "Recall: 0.8875\n",
            "F1 Score: 0.3176733780760626\n"
          ]
        }
      ]
    },
    {
      "cell_type": "markdown",
      "metadata": {
        "id": "CHZq6ghCnDzD"
      },
      "source": [
        "### Which method can we use to best fi t a data in Logistic Regression?"
      ]
    },
    {
      "cell_type": "code",
      "metadata": {
        "id": "gK6YqFGhnDzE"
      },
      "source": [
        "### maximum likelihood"
      ],
      "execution_count": null,
      "outputs": []
    },
    {
      "cell_type": "markdown",
      "metadata": {
        "id": "1u9TGPjgnDzF"
      },
      "source": [
        "### Why do we use weak learners in boosting?"
      ]
    },
    {
      "cell_type": "code",
      "metadata": {
        "id": "LP__RbGDnDzG"
      },
      "source": [
        "### To prevent overfitting"
      ],
      "execution_count": null,
      "outputs": []
    },
    {
      "cell_type": "markdown",
      "metadata": {
        "id": "MTPiYz4qnDzH"
      },
      "source": [
        "### A data scientist is evaluating different binary classifi cation models. A false positiveresult is 5 times more expensive (from a business perspective) than a false negativeresult. The models should be evaluated based on the following criteria:\n",
        "    1) Must have a recall rate of at least 80%\n",
        "    2) Must have a false positive rate of 10% or less\n",
        "    3) Must minimize business costs\n",
        "### After creating each binary classifi cation model, the data scientist generates thecorresponding confusion matrix. Which confusion matrix represents the modelthat satisfi es the requirements?"
      ]
    },
    {
      "cell_type": "code",
      "metadata": {
        "id": "GYD8H4fVnDzI"
      },
      "source": [
        "## using a trial and error method from the options\n",
        "\n",
        "options = {\"A\": {\"tN\": 98, \"fP\": 2, \"fN\":18, \"tP\":82}, \n",
        "           \"B\": {\"tN\": 96, \"fP\": 4, \"fN\":10, \"tP\":90},\n",
        "            \"C\": {\"tN\": 99, \"fP\": 1, \"fN\":21, \"tP\": 79},\n",
        "            \"D\": {\"tN\": 91, \"fP\": 9, \"fN\":22, \"tP\":78}\n",
        "          }\n",
        "rec = []\n",
        "fp = []\n",
        "cs = []\n",
        "## finding recall,fpr,cost given the values from option\n",
        "for option,val in options.items():\n",
        "    v = val\n",
        "    recall = v[\"tP\"] / (v[\"tP\"] + v[\"fN\"])\n",
        "    fpr = v[\"fP\"] / (v[\"fP\"] + v[\"tN\"])\n",
        "    cost = 5 * v[\"fP\"] + v[\"fN\"]\n",
        "    rec.append(recall*100)\n",
        "    fp.append(round(fpr*100,2))\n",
        "    cs.append(cost)\n",
        "    print(f\"Recall {option} = {recall*100}, FPR {option} = {round(fpr*100,2)}, Cost {option} = {cost} \")\n",
        "\n",
        "df = pd.DataFrame({\"Recall\": rec, \"FPR\": fp, \"Cost\": cs}, index = [\"A\",\"B\",\"C\",\"D\"])\n",
        "df"
      ],
      "execution_count": null,
      "outputs": []
    },
    {
      "cell_type": "code",
      "metadata": {
        "id": "pS-6uo0mnDzK"
      },
      "source": [
        "df[df[\"Recall\"]> 80]"
      ],
      "execution_count": null,
      "outputs": []
    },
    {
      "cell_type": "markdown",
      "metadata": {
        "id": "uJbu9QCRnDzL"
      },
      "source": [
        "### You are building a classifi er and the accuracy is poor on both the training and testsets. Which would you use to try to improve the performance?"
      ]
    },
    {
      "cell_type": "code",
      "metadata": {
        "id": "HsgwLzW4nDzM"
      },
      "source": [
        "### Boosting"
      ],
      "execution_count": null,
      "outputs": []
    },
    {
      "cell_type": "markdown",
      "metadata": {
        "id": "jZevbTJ4nDzN"
      },
      "source": [
        "### Which of the following is not an Ensemble model?"
      ]
    },
    {
      "cell_type": "code",
      "metadata": {
        "id": "wNMUQM4dnDzO"
      },
      "source": [
        "### Decision Tree"
      ],
      "execution_count": null,
      "outputs": []
    },
    {
      "cell_type": "markdown",
      "metadata": {
        "id": "UlInFOasnDzP"
      },
      "source": [
        "### A classifier predicts if insurance claims are fraudulent or not. The cost of paying afraudulent claim is higher than the cost of investigating a claim that is suspected tobe fraudulent. Which metric should we use to evaluate this classifi er?"
      ]
    },
    {
      "cell_type": "code",
      "metadata": {
        "id": "aDCcUeHLnDzQ"
      },
      "source": [
        "### Recall"
      ],
      "execution_count": null,
      "outputs": []
    },
    {
      "cell_type": "markdown",
      "metadata": {
        "id": "zJBZe8XUnDzR"
      },
      "source": [
        "### The ROC curve above was generated from a classifi cation algorithm. What can wesay about this classifi er?"
      ]
    },
    {
      "cell_type": "code",
      "metadata": {
        "id": "fQe7gT_HnDzR"
      },
      "source": [
        "### The model has no discrimination capacity to differentiate between the positive and thenegative class"
      ],
      "execution_count": null,
      "outputs": []
    },
    {
      "cell_type": "markdown",
      "metadata": {
        "id": "RlmCi082nDzi"
      },
      "source": [
        "### A random forest classifi er was used to classify handwritten digits 0-9 into thenumbers they were intended to represent. The confusion matrix below wasgenerated from the results. Based on the matrix, which number was predicted withthe least accuracy?"
      ]
    },
    {
      "cell_type": "code",
      "metadata": {
        "id": "JT-kNcR2nDzj"
      },
      "source": [
        "### 8"
      ],
      "execution_count": null,
      "outputs": []
    },
    {
      "cell_type": "markdown",
      "metadata": {
        "id": "ExUsM-aknDzk"
      },
      "source": [
        "### A medical company is building a model to predict the occurrence of thyroid cancer The training data contains 900 negative instances (people who dont have cancer)and 100 positive instances. The resulting model has 90% accuracy, but extremelypoor recall. What steps can be used to improve the model's performance? (SELECTTWO OPTIONS)"
      ]
    },
    {
      "cell_type": "code",
      "metadata": {
        "id": "jSldMseonDzk"
      },
      "source": [
        "### Collect more data for the positive case\n",
        "### Generate synthetic samples/data using SMOTE"
      ],
      "execution_count": null,
      "outputs": []
    },
    {
      "cell_type": "markdown",
      "metadata": {
        "id": "DOnkfS1bnDzl"
      },
      "source": [
        "### You are developing a machine learning classifi cation algorithm that categorizeshandwritten digits 0-9 into the numbers they represent. How should you pre-process the label data?"
      ]
    },
    {
      "cell_type": "code",
      "metadata": {
        "id": "ccaeDavUnDzm"
      },
      "source": [
        "### Normalization"
      ],
      "execution_count": null,
      "outputs": []
    },
    {
      "cell_type": "markdown",
      "metadata": {
        "id": "Djr2OpkrnDzn"
      },
      "source": [
        "### What is the entropy of the target variable if its actual values are given as: [1,0,1,1,0,1,0]"
      ]
    },
    {
      "cell_type": "code",
      "metadata": {
        "id": "-kacLwSRnDzo"
      },
      "source": [
        "### formula: -(Summation [p(x) * log p(x)])\n",
        "### - 3/7 log(3/7) - 4/7 log(4/7)"
      ],
      "execution_count": null,
      "outputs": []
    },
    {
      "cell_type": "markdown",
      "metadata": {
        "id": "V6KvyL3cnDzp"
      },
      "source": [
        "### Which of this is not a good metric for evaluating classifi cation algorithms for datawith imbalanced class problems?"
      ]
    },
    {
      "cell_type": "code",
      "metadata": {
        "id": "Qqg4oEcKnDzq"
      },
      "source": [
        "### Accuracy is not the best metric to use when evaluating imbalanced datasets as it can be misleading"
      ],
      "execution_count": null,
      "outputs": []
    },
    {
      "cell_type": "markdown",
      "metadata": {
        "id": "k2e4rHi5nDzr"
      },
      "source": [
        "### What is the accuracy on the test set using the random forest classifi er? In 4 decimalplaces."
      ]
    },
    {
      "cell_type": "code",
      "metadata": {
        "id": "WKMSQP8bnDzs"
      },
      "source": [
        "### 0.9295"
      ],
      "execution_count": null,
      "outputs": []
    },
    {
      "cell_type": "markdown",
      "metadata": {
        "id": "BWuSUB6WnDzs"
      },
      "source": [
        "### What is the accuracy on the test set using the xgboost classifi er? In 4 decimalplaces."
      ]
    },
    {
      "cell_type": "code",
      "metadata": {
        "id": "5Wt_-NVrnDzt"
      },
      "source": [
        "### 0.9195"
      ],
      "execution_count": null,
      "outputs": []
    },
    {
      "cell_type": "markdown",
      "metadata": {
        "id": "mRp18TQznDzu"
      },
      "source": [
        "### What is the accuracy on the test set using the LGBM classifi er? In 4 decimal places."
      ]
    },
    {
      "cell_type": "code",
      "metadata": {
        "id": "ZfMQ6OhVnDzv"
      },
      "source": [
        "### 0.9375"
      ],
      "execution_count": null,
      "outputs": []
    },
    {
      "cell_type": "markdown",
      "metadata": {
        "id": "W9_NOw-knDzw"
      },
      "source": [
        "### Using the ExtraTreesClassifi er as your estimator with cv=5, n_iter=10, scoring ='accuracy', n_jobs = -1, verbose = 1 and random_state = 1. What are the besthyperparameters from the randomized search CV?"
      ]
    },
    {
      "cell_type": "code",
      "metadata": {
        "id": "1OLmM0HRnDzw"
      },
      "source": [
        "### N_estimators = 1000 , min_samples_split = 2 , min_samples_leaf = 8, max_features = None"
      ],
      "execution_count": null,
      "outputs": []
    },
    {
      "cell_type": "markdown",
      "metadata": {
        "id": "VOyXy1oSnDzx"
      },
      "source": [
        "### Train a new ExtraTreesClassifi er Model with the new Hyperparameters from theRandomizedSearchCV (with random_state = 1). Is the accuracy of the new optimalmodel higher or lower than the initial ExtraTreesClassifi er model with nohyperparameter tuning?"
      ]
    },
    {
      "cell_type": "code",
      "metadata": {
        "id": "4fOe2Ev6nDzy"
      },
      "source": [
        "### Lower"
      ],
      "execution_count": null,
      "outputs": []
    },
    {
      "cell_type": "markdown",
      "metadata": {
        "id": "aHPrtxoXnDzz"
      },
      "source": [
        "### What other hyperparameter optimization methods can you try apart from RandomSearch?"
      ]
    },
    {
      "cell_type": "code",
      "metadata": {
        "id": "vDqEo1jxnDz0"
      },
      "source": [
        "### All of the above"
      ],
      "execution_count": null,
      "outputs": []
    },
    {
      "cell_type": "markdown",
      "metadata": {
        "id": "HDAZ-IPtnDz1"
      },
      "source": [
        "### Find the feature importance using the optimal ExtraTreesClassifi er model. Whichfeatures are the most and least important respectively?"
      ]
    },
    {
      "cell_type": "code",
      "metadata": {
        "id": "2AlNF3XrnDz3"
      },
      "source": [
        "### tau2, p1"
      ],
      "execution_count": null,
      "outputs": []
    }
  ]
}